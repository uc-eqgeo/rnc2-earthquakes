{
 "cells": [
  {
   "cell_type": "markdown",
   "source": [
    "Find the info needed to run specfem for each event in catalogue:\n",
    "* average strike\n",
    "* average dip\n",
    "* average rake\n",
    "* fault coordinates\n",
    "* mo"
   ],
   "metadata": {
    "collapsed": false,
    "pycharm": {
     "name": "#%% md\n"
    }
   }
  },
  {
   "cell_type": "code",
   "execution_count": 1,
   "outputs": [],
   "source": [
    "# import modules\n",
    "import math\n",
    "import numpy as np\n",
    "import pandas as pd\n",
    "\n",
    "from rsqsim_api.catalogue.catalogue import RsqSimCatalogue\n",
    "from rsqsim_api.fault.multifault import RsqSimMultiFault\n",
    "import os\n",
    "from shapely.geometry.polygon import Polygon\n",
    "import geopandas as gpd"
   ],
   "metadata": {
    "collapsed": false,
    "pycharm": {
     "name": "#%%\n"
    }
   }
  },
  {
   "cell_type": "markdown",
   "source": [
    "Read in catalogue and fault model"
   ],
   "metadata": {
    "collapsed": false,
    "pycharm": {
     "name": "#%% md\n"
    }
   }
  },
  {
   "cell_type": "code",
   "execution_count": 2,
   "outputs": [],
   "source": [
    "script_dir = os.path.abspath('')\n",
    "fault_dir = \"../../../data/shaw2021/rundir5091\"\n",
    "catalogue_dir = os.path.join(fault_dir,\"specfem\")\n",
    "\n",
    "fault_model = RsqSimMultiFault.read_fault_file_bruce(os.path.join(script_dir, fault_dir, \"zfault_Deepen.in\"),\n",
    "                                                     os.path.join(script_dir, fault_dir, \"znames_Deepen.in\"),\n",
    "                                                     transform_from_utm=True)\n",
    "whole_catalogue = RsqSimCatalogue.from_csv_and_arrays(os.path.join(catalogue_dir, \"single_fault_200yr\"))"
   ],
   "metadata": {
    "collapsed": false,
    "pycharm": {
     "name": "#%%\n"
    }
   }
  },
  {
   "cell_type": "code",
   "execution_count": 40,
   "outputs": [],
   "source": [
    "#get specific event of interest: 448545\n",
    "ev_number=448545\n",
    "ev_cat=whole_catalogue.filter_by_events(event_number=ev_number)\n",
    "EOI=ev_cat.first_event(fault_model)\n",
    "EOI_fault=EOI.faults[0]"
   ],
   "metadata": {
    "collapsed": false,
    "pycharm": {
     "name": "#%%\n"
    }
   }
  },
  {
   "cell_type": "code",
   "execution_count": 4,
   "outputs": [],
   "source": [
    "#write out parameters of interest\n",
    "out_name=f'event_{ev_number}.txt'\n",
    "with open(os.path.join(script_dir,out_name),'w') as f_out:\n",
    "    f_out.write(f'#Evid mean_strike mean_dip mean_rake mean_slip(m) Mo\\n')\n",
    "    f_out.write(f'{ev_number} {EOI.mean_strike:.1f} {EOI.mean_dip:.1f} {EOI.mean_rake:.1f} {EOI.mean_slip:.1f} {EOI.m0:.2e}')"
   ],
   "metadata": {
    "collapsed": false,
    "pycharm": {
     "name": "#%%\n"
    }
   }
  },
  {
   "cell_type": "code",
   "execution_count": 36,
   "outputs": [],
   "source": [
    "#write out trace\n",
    "EOItrace=gpd.GeoSeries(EOI_fault.trace,crs=\"EPSG:2193\")\n",
    "#convert to lat/ lon\n",
    "EOItrace_ll=EOItrace.to_crs(\"EPSG:4326\")\n"
   ],
   "metadata": {
    "collapsed": false,
    "pycharm": {
     "name": "#%%\n"
    }
   }
  },
  {
   "cell_type": "code",
   "execution_count": 99,
   "outputs": [],
   "source": [
    "EOI_outline=gpd.GeoSeries(EOI_fault.fault_outline,crs=\"EPSG:2193\")\n",
    "EOI_outline_ll=EOI_outline.to_crs(\"EPSG:4326\").iloc[0]\n",
    "as_xyz=np.reshape(EOI_outline_ll.exterior.coords[:],(len(EOI_outline_ll.exterior.coords[:]),3))\n",
    "EOI_pandas=pd.DataFrame(as_xyz)\n",
    "EOI_pandas.to_csv(f'event_{ev_number}_fault_outline.csv',header=False,index=False)"
   ],
   "metadata": {
    "collapsed": false,
    "pycharm": {
     "name": "#%%\n"
    }
   }
  },
  {
   "cell_type": "code",
   "execution_count": 7,
   "outputs": [],
   "source": [
    "EOI.slip_dist_to_txt(os.path.join(script_dir,f'event_{ev_number}_slip.txt'),nztm_to_lonlat=True)"
   ],
   "metadata": {
    "collapsed": false,
    "pycharm": {
     "name": "#%%\n"
    }
   }
  },
  {
   "cell_type": "code",
   "execution_count": 11,
   "outputs": [
    {
     "data": {
      "text/plain": "array([447345, 447345, 447346, ..., 448853, 448853, 448853], dtype=int32)"
     },
     "execution_count": 11,
     "metadata": {},
     "output_type": "execute_result"
    }
   ],
   "source": [
    "whole_catalogue.event_list"
   ],
   "metadata": {
    "collapsed": false,
    "pycharm": {
     "name": "#%%\n"
    }
   }
  },
  {
   "cell_type": "code",
   "execution_count": 11,
   "outputs": [],
   "source": [],
   "metadata": {
    "collapsed": false,
    "pycharm": {
     "name": "#%%\n"
    }
   }
  },
  {
   "cell_type": "code",
   "execution_count": 11,
   "execution_count": 6,
   "outputs": [],
   "source": [],
   "metadata": {
    "collapsed": false,
    "pycharm": {
     "name": "#%%\n"
    }
   }
  }
 ],
 "metadata": {
  "kernelspec": {
   "display_name": "Python 3",
   "language": "python",
   "name": "python3"
  },
  "language_info": {
   "codemirror_mode": {
    "name": "ipython",
    "version": 2
   },
   "file_extension": ".py",
   "mimetype": "text/x-python",
   "name": "python",
   "nbconvert_exporter": "python",
   "pygments_lexer": "ipython2",
   "version": "2.7.6"
  }
 },
 "nbformat": 4,
 "nbformat_minor": 0
}