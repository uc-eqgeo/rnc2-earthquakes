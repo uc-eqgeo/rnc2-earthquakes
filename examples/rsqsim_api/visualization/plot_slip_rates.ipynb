{
 "cells": [
  {
   "cell_type": "markdown",
   "id": "67ee2d36",
   "metadata": {},
   "source": [
    "Write out .vtk files of slip rates on selected faults for viewing in paraview"
   ]
  },
  {
   "cell_type": "code",
   "execution_count": 1,
   "id": "0d31be7b",
   "metadata": {},
   "outputs": [],
   "source": [
    "# Import relevant modules\n",
    "from rsqsim_api.catalogue.catalogue import RsqSimCatalogue\n",
    "from rsqsim_api.fault.multifault import RsqSimMultiFault\n",
    "import fnmatch\n",
    "import os\n",
    "import numpy as np\n",
    "\n",
    "# # Tell python where field paths etc are relative to\n",
    "script_dir = os.path.abspath('')\n",
    "fault_dir = \"../../../data/shaw2021/rundir5091\"\n",
    "#fault_dir=\"/media/camilla/TOSHIBA EXT/NewZealand/Work/rsqsim-python-tools/data/shaw2021/rundir5091\"\n",
    "catalogue_dir = fault_dir\n"
   ]
  },
  {
   "cell_type": "markdown",
   "id": "beb11ed2",
   "metadata": {},
   "source": [
    "Read in faults and earthquake catalogue. The files are quite large and can be downloaded from https://doi.org/10.5281/zenodo.5534462. Using subduction catalogue and fault model only saves RAM."
   ]
  },
  {
   "cell_type": "code",
   "execution_count": 2,
   "id": "4f6c178b",
   "metadata": {},
   "outputs": [],
   "source": [
    "#fault_model = RsqSimMultiFault.read_fault_file_keith(os.path.join(fault_dir,\"hik_creep.flt\"))\n",
    "#short_catalogue = RsqSimCatalogue.from_csv_and_arrays(os.path.join(catalogue_dir,\"trimmed\"))\n",
    "fault_model = RsqSimMultiFault.read_fault_file_bruce(os.path.join(script_dir, fault_dir, \"zfault_Deepen.in\"),\n",
    "                                                     os.path.join(script_dir, fault_dir, \"znames_Deepen.in\"),\n",
    "                                                     transform_from_utm=True)\n",
    "whole_catalogue = RsqSimCatalogue.from_catalogue_file_and_lists(os.path.join(catalogue_dir, \"eqs..out\"),\n",
    "                                                                list_file_directory=catalogue_dir, list_file_prefix=\"catalog\")"
   ]
  },
  {
   "cell_type": "markdown",
   "id": "9d9953aa",
   "metadata": {},
   "source": [
    "Select faults of interest (N.B. short catalogue only contains 'subduction'). Use fault_model.names to access list of possible fault names"
   ]
  },
  {
   "cell_type": "code",
   "execution_count": 20,
   "id": "4c36b3e1",
   "metadata": {},
   "outputs": [],
   "source": [
    "main_fault=\"well\"\n",
    "faults2select = [name for name in fault_model.names if fnmatch.fnmatch(name, main_fault+\"*\")]\n",
    "fault_selection=RsqSimMultiFault([fault_model.name_dic[name] for name in faults2select])"
   ]
  },
  {
   "cell_type": "markdown",
   "id": "eead62f1",
   "metadata": {},
   "source": [
    "Write out .vtk file with slip and rake on selected faults to be viewed in Paraview."
   ]
  },
  {
   "cell_type": "code",
   "execution_count": 21,
   "id": "1b7f95b6",
   "metadata": {},
   "outputs": [],
   "source": [
    "fault_selection.slip_rate_to_vtk(vtk_file=main_fault+\"_rate.vtk\",min_slip_rate=None,nztm_to_lonlat = False)"
   ]
  },
  {
   "cell_type": "code",
   "execution_count": null,
   "id": "e95b1a6d",
   "metadata": {},
   "outputs": [],
   "source": []
  }
 ],
 "metadata": {
  "kernelspec": {
   "display_name": "Python 3 (ipykernel)",
   "language": "python",
   "name": "python3"
  },
  "language_info": {
   "codemirror_mode": {
    "name": "ipython",
    "version": 3
   },
   "file_extension": ".py",
   "mimetype": "text/x-python",
   "name": "python",
   "nbconvert_exporter": "python",
   "pygments_lexer": "ipython3",
   "version": "3.10.4"
  }
 },
 "nbformat": 4,
 "nbformat_minor": 5
}
