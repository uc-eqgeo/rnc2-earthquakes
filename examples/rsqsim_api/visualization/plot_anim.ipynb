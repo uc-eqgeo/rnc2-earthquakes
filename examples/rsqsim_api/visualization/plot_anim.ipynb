{
 "cells": [
  {
   "cell_type": "code",
   "execution_count": null,
   "id": "a62dbba6",
   "metadata": {},
   "outputs": [],
   "source": [
    "# Import relevant modules\n",
    "from rsqsim_api.catalogue.catalogue import RsqSimCatalogue\n",
    "from rsqsim_api.fault.multifault import RsqSimMultiFault\n",
    "from rsqsim_api.visualisation.animation import AnimateSequence\n",
    "import os\n",
    "\n",
    "# Tell python where fiele paths etc are relative to\n",
    "run_dir = os.path.abspath('')"
   ]
  },
  {
   "cell_type": "markdown",
   "id": "622f2ae9",
   "metadata": {},
   "source": [
    "Read in fault model and catalogue.\n",
    "Bruce's fault files are quite large and can be downloaded from https://github.com/uc-eqgeo/rnc2-data/tree/main/bruce/faults"
   ]
  },
  {
   "cell_type": "code",
   "execution_count": null,
   "id": "be7ab0ca",
   "metadata": {},
   "outputs": [],
   "source": [
    "catalogue = RsqSimCatalogue.from_csv_and_arrays(os.path.join(run_dir, \"../../../data/bruce_m7/bruce_m7_10kyr\"))\n",
    "bruce_faults = RsqSimMultiFault.read_fault_file_bruce(os.path.join(run_dir, \"../../../data/bruce_m7/bruce_faults.in\"),\n",
    "                                                      os.path.join(run_dir, \"../../../data/bruce_m7/bruce_names.in\"),\n",
    "                                                      transform_from_utm=True)"
   ]
  },
  {
   "cell_type": "markdown",
   "id": "73953d9d",
   "metadata": {},
   "source": [
    "Filter catalogue for an arbitrary 1000-year period"
   ]
  },
  {
   "cell_type": "code",
   "execution_count": null,
   "id": "c5d5f285",
   "metadata": {},
   "outputs": [],
   "source": [
    "filtered_cat = catalogue.filter_whole_catalogue(\n",
    "    min_t0=1000*3.154e7, max_t0=2000*3.154e7)  # 1000 years\n"
   ]
  },
  {
   "cell_type": "markdown",
   "id": "09dc3837",
   "metadata": {},
   "source": [
    "Create animations using different options"
   ]
  },
  {
   "cell_type": "code",
   "execution_count": null,
   "id": "1173d6bb",
   "metadata": {},
   "outputs": [],
   "source": [
    "AnimateSequence(filtered_cat, bruce_faults, write=\"demo\")\n",
    "AnimateSequence(filtered_cat, bruce_faults, write=\"demoHillshade\", hillshading_intensity=0.3, fps=10)\n",
    "AnimateSequence(filtered_cat, bruce_faults, write=\"demoMovie\", file_format=\"mp4\", figsize=(10, 8))"
   ]
  }
 ],
 "metadata": {
  "jupytext": {
   "cell_metadata_filter": "-all",
   "main_language": "python",
   "notebook_metadata_filter": "-all"
  },
  "kernelspec": {
   "display_name": "Python 3",
   "language": "python",
   "name": "python3"
  },
  "language_info": {
   "codemirror_mode": {
    "name": "ipython",
    "version": 3
   },
   "file_extension": ".py",
   "mimetype": "text/x-python",
   "name": "python",
   "nbconvert_exporter": "python",
   "pygments_lexer": "ipython3",
   "version": "3.7.10"
  }
 },
 "nbformat": 4,
 "nbformat_minor": 5
}
