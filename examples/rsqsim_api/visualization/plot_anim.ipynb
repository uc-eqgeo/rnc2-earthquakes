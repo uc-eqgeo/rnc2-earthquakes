{
 "cells": [
  {
   "cell_type": "code",
   "execution_count": 1,
   "id": "a62dbba6",
   "metadata": {
    "pycharm": {
     "name": "#%%\n"
    }
   },
   "outputs": [],
   "source": [
    "# Import relevant modules\n",
    "from rsqsim_api.catalogue.catalogue import RsqSimCatalogue\n",
    "from rsqsim_api.fault.multifault import RsqSimMultiFault\n",
    "from rsqsim_api.visualisation.animation import AnimateSequence\n",
    "import os\n",
    "\n",
    "# Tell python where fiele paths etc are relative to\n",
    "script_dir = os.path.abspath('')\n",
    "fault_dir = \"../../../data/shaw2021/rundir5091\"\n",
    "catalogue_dir = fault_dir"
   ]
  },
  {
   "cell_type": "markdown",
   "id": "622f2ae9",
   "metadata": {
    "pycharm": {
     "name": "#%% md\n"
    }
   },
   "source": [
    "Read in fault model and catalogue.\n",
    "The files are quite large and can be downloaded from https://doi.org/10.5281/zenodo.5534462"
   ]
  },
  {
   "cell_type": "code",
   "execution_count": 3,
   "id": "be7ab0ca",
   "metadata": {
    "pycharm": {
     "name": "#%%\n"
    }
   },
   "outputs": [],
   "source": [
    "fault_model = RsqSimMultiFault.read_fault_file_bruce(os.path.join(script_dir, fault_dir, \"zfault_Deepen.in\"),\n",
    "                                                     os.path.join(script_dir, fault_dir, \"znames_Deepen.in\"),\n",
    "                                                     transform_from_utm=True)\n",
    "whole_catalogue = RsqSimCatalogue.from_catalogue_file_and_lists(os.path.join(catalogue_dir, \"eqs..out\"),\n",
    "                                                                list_file_directory=catalogue_dir, list_file_prefix=\"catalog\")"
   ]
  },
  {
   "cell_type": "markdown",
   "id": "73953d9d",
   "metadata": {
    "pycharm": {
     "name": "#%% md\n"
    }
   },
   "source": [
    "Filter catalogue for an arbitrary 1000-year period"
   ]
  },
  {
   "cell_type": "code",
   "execution_count": 5,
   "id": "c5d5f285",
   "metadata": {
    "pycharm": {
     "name": "#%%\n"
    }
   },
   "outputs": [],
   "source": [
    "filtered_cat = whole_catalogue.filter_whole_catalogue(\n",
    "    min_t0=8.e12 + 1000*3.154e7, max_t0=8.e12 + 2000*3.154e7, min_mw=7.0)  # 1000 years\n"
   ]
  },
  {
   "cell_type": "markdown",
   "id": "09dc3837",
   "metadata": {
    "pycharm": {
     "name": "#%% md\n"
    }
   },
   "source": [
    "Create animations using different options"
   ]
  },
  {
   "cell_type": "code",
   "execution_count": 6,
   "id": "1173d6bb",
   "metadata": {
    "pycharm": {
     "name": "#%%\n"
    }
   },
   "outputs": [
    {
     "name": "stdout",
     "output_type": "stream",
     "text": [
      "Plotting: 1/81\n",
      "Plotting: 2/81\n",
      "Plotting: 3/81\n",
      "Plotting: 4/81\n",
      "Plotting: 5/81\n",
      "Plotting: 6/81\n",
      "Plotting: 7/81\n",
      "Plotting: 8/81\n",
      "Plotting: 9/81\n",
      "Plotting: 10/81\n",
      "Plotting: 11/81\n",
      "Plotting: 12/81\n",
      "Plotting: 13/81\n",
      "Plotting: 14/81\n",
      "Plotting: 15/81\n",
      "Plotting: 16/81\n",
      "Plotting: 17/81\n",
      "Plotting: 18/81\n",
      "Plotting: 19/81\n",
      "Plotting: 20/81\n",
      "Plotting: 21/81\n",
      "Plotting: 22/81\n",
      "Plotting: 23/81\n",
      "Plotting: 24/81\n",
      "Plotting: 25/81\n",
      "Plotting: 26/81\n",
      "Plotting: 27/81\n",
      "Plotting: 28/81\n",
      "Plotting: 29/81\n",
      "Plotting: 30/81\n",
      "Plotting: 31/81\n",
      "Plotting: 32/81\n",
      "Plotting: 33/81\n",
      "Plotting: 34/81\n",
      "Plotting: 35/81\n",
      "Plotting: 36/81\n",
      "Plotting: 37/81\n",
      "Plotting: 38/81\n",
      "Plotting: 39/81\n",
      "Plotting: 40/81\n",
      "Plotting: 41/81\n",
      "Plotting: 42/81\n",
      "Plotting: 43/81\n",
      "Plotting: 44/81\n",
      "Plotting: 45/81\n",
      "Plotting: 46/81\n",
      "Plotting: 47/81\n",
      "Plotting: 48/81\n",
      "Plotting: 49/81\n",
      "Plotting: 50/81\n",
      "Plotting: 51/81\n",
      "Plotting: 52/81\n",
      "Plotting: 53/81\n",
      "Plotting: 54/81\n",
      "Plotting: 55/81\n",
      "Plotting: 56/81\n",
      "Plotting: 57/81\n",
      "Plotting: 58/81\n",
      "Plotting: 59/81\n",
      "Plotting: 60/81\n",
      "Plotting: 61/81\n",
      "Plotting: 62/81\n",
      "Plotting: 63/81\n",
      "Plotting: 64/81\n",
      "Plotting: 65/81\n",
      "Plotting: 66/81\n",
      "Plotting: 67/81\n",
      "Plotting: 68/81\n",
      "Plotting: 69/81\n",
      "Plotting: 70/81\n",
      "Plotting: 71/81\n",
      "Plotting: 72/81\n",
      "Plotting: 73/81\n",
      "Plotting: 74/81\n",
      "Plotting: 75/81\n",
      "Plotting: 76/81\n",
      "Plotting: 77/81\n",
      "Plotting: 78/81\n",
      "Plotting: 79/81\n",
      "Plotting: 80/81\n",
      "Plotting: 81/81\n"
     ]
    },
    {
     "ename": "TypeError",
     "evalue": "plot_coast() got an unexpected keyword argument 'colors'",
     "output_type": "error",
     "traceback": [
      "\u001B[0;31m---------------------------------------------------------------------------\u001B[0m",
      "\u001B[0;31mTypeError\u001B[0m                                 Traceback (most recent call last)",
      "\u001B[0;32m/tmp/ipykernel_95068/1386929115.py\u001B[0m in \u001B[0;36m<module>\u001B[0;34m\u001B[0m\n\u001B[1;32m      1\u001B[0m \u001B[0mAnimateSequence\u001B[0m\u001B[0;34m(\u001B[0m\u001B[0mfiltered_cat\u001B[0m\u001B[0;34m,\u001B[0m \u001B[0mfault_model\u001B[0m\u001B[0;34m,\u001B[0m \u001B[0mwrite\u001B[0m\u001B[0;34m=\u001B[0m\u001B[0;34m\"demo\"\u001B[0m\u001B[0;34m)\u001B[0m\u001B[0;34m\u001B[0m\u001B[0;34m\u001B[0m\u001B[0m\n\u001B[0;32m----> 2\u001B[0;31m \u001B[0mAnimateSequence\u001B[0m\u001B[0;34m(\u001B[0m\u001B[0mfiltered_cat\u001B[0m\u001B[0;34m,\u001B[0m \u001B[0mfault_model\u001B[0m\u001B[0;34m,\u001B[0m \u001B[0mwrite\u001B[0m\u001B[0;34m=\u001B[0m\u001B[0;34m\"demoHillshade\"\u001B[0m\u001B[0;34m,\u001B[0m \u001B[0mhillshading_intensity\u001B[0m\u001B[0;34m=\u001B[0m\u001B[0;36m0.3\u001B[0m\u001B[0;34m,\u001B[0m \u001B[0mfps\u001B[0m\u001B[0;34m=\u001B[0m\u001B[0;36m10\u001B[0m\u001B[0;34m)\u001B[0m\u001B[0;34m\u001B[0m\u001B[0;34m\u001B[0m\u001B[0m\n\u001B[0m\u001B[1;32m      3\u001B[0m \u001B[0mAnimateSequence\u001B[0m\u001B[0;34m(\u001B[0m\u001B[0mfiltered_cat\u001B[0m\u001B[0;34m,\u001B[0m \u001B[0mfault_model\u001B[0m\u001B[0;34m,\u001B[0m \u001B[0mwrite\u001B[0m\u001B[0;34m=\u001B[0m\u001B[0;34m\"demoMovie\"\u001B[0m\u001B[0;34m,\u001B[0m \u001B[0mfile_format\u001B[0m\u001B[0;34m=\u001B[0m\u001B[0;34m\"mp4\"\u001B[0m\u001B[0;34m,\u001B[0m \u001B[0mfigsize\u001B[0m\u001B[0;34m=\u001B[0m\u001B[0;34m(\u001B[0m\u001B[0;36m10\u001B[0m\u001B[0;34m,\u001B[0m \u001B[0;36m8\u001B[0m\u001B[0;34m)\u001B[0m\u001B[0;34m)\u001B[0m\u001B[0;34m\u001B[0m\u001B[0;34m\u001B[0m\u001B[0m\n",
      "\u001B[0;32m~/PycharmProjects/rnc2-uc/src/rsqsim_api/rsqsim_api/visualisation/animation.py\u001B[0m in \u001B[0;36mAnimateSequence\u001B[0;34m(catalogue, fault_model, subduction_cmap, crustal_cmap, global_max_slip, global_max_sub_slip, step_size, interval, write, fps, file_format, figsize, hillshading_intensity, bounds, pickled_background, fading_increment, plot_log, log_min, log_max, plot_subduction_cbar, plot_crustal_cbar)\u001B[0m\n\u001B[1;32m     54\u001B[0m         \u001B[0mcoast_ax\u001B[0m \u001B[0;34m=\u001B[0m \u001B[0mfig\u001B[0m\u001B[0;34m.\u001B[0m\u001B[0madd_subplot\u001B[0m\u001B[0;34m(\u001B[0m\u001B[0;36m111\u001B[0m\u001B[0;34m,\u001B[0m \u001B[0mlabel\u001B[0m\u001B[0;34m=\u001B[0m\u001B[0;34m\"coast\"\u001B[0m\u001B[0;34m)\u001B[0m\u001B[0;34m\u001B[0m\u001B[0;34m\u001B[0m\u001B[0m\n\u001B[1;32m     55\u001B[0m         \u001B[0;32mif\u001B[0m \u001B[0mhillshading_intensity\u001B[0m \u001B[0;34m>\u001B[0m \u001B[0;36m0\u001B[0m\u001B[0;34m:\u001B[0m\u001B[0;34m\u001B[0m\u001B[0;34m\u001B[0m\u001B[0m\n\u001B[0;32m---> 56\u001B[0;31m             \u001B[0mplot_coast\u001B[0m\u001B[0;34m(\u001B[0m\u001B[0mcoast_ax\u001B[0m\u001B[0;34m,\u001B[0m \u001B[0mcolors\u001B[0m\u001B[0;34m=\u001B[0m\u001B[0;34m\"0.0\"\u001B[0m\u001B[0;34m)\u001B[0m\u001B[0;34m\u001B[0m\u001B[0;34m\u001B[0m\u001B[0m\n\u001B[0m\u001B[1;32m     57\u001B[0m         \u001B[0;32melse\u001B[0m\u001B[0;34m:\u001B[0m\u001B[0;34m\u001B[0m\u001B[0;34m\u001B[0m\u001B[0m\n\u001B[1;32m     58\u001B[0m             \u001B[0mplot_coast\u001B[0m\u001B[0;34m(\u001B[0m\u001B[0mcoast_ax\u001B[0m\u001B[0;34m)\u001B[0m\u001B[0;34m\u001B[0m\u001B[0;34m\u001B[0m\u001B[0m\n",
      "\u001B[0;31mTypeError\u001B[0m: plot_coast() got an unexpected keyword argument 'colors'"
     ]
    },
    {
     "data": {
      "image/png": "[encoded data removed]",
      "text/plain": [
       "<Figure size 691.2x518.4 with 4 Axes>"
      ]
     },
     "metadata": {
      "needs_background": "light"
     },
     "output_type": "display_data"
    },
    {
     "data": {
      "image/png": "[encoded data removed]",
      "text/plain": [
       "<Figure size 691.2x518.4 with 1 Axes>"
      ]
     },
     "metadata": {
      "needs_background": "light"
     },
     "output_type": "display_data"
    }
   ],
   "source": [
    "AnimateSequence(filtered_cat, fault_model, write=\"demo\")\n",
    "AnimateSequence(filtered_cat, fault_model, write=\"demoHillshade\", hillshading_intensity=0.3, fps=10)\n",
    "AnimateSequence(filtered_cat, fault_model, write=\"demoMovie\", file_format=\"mp4\", figsize=(10, 8))"
   ]
  },
  {
   "cell_type": "code",
   "execution_count": 7,
   "id": "31526017",
   "metadata": {
    "pycharm": {
     "name": "#%%\n"
    }
   },
   "outputs": [
    {
     "name": "stdout",
     "output_type": "stream",
     "text": [
      "Plotting: 1/81\n",
      "Plotting: 2/81\n",
      "Plotting: 3/81\n",
      "Plotting: 4/81\n",
      "Plotting: 5/81\n",
      "Plotting: 6/81\n",
      "Plotting: 7/81\n",
      "Plotting: 8/81\n",
      "Plotting: 9/81\n",
      "Plotting: 10/81\n",
      "Plotting: 11/81\n",
      "Plotting: 12/81\n",
      "Plotting: 13/81\n",
      "Plotting: 14/81\n",
      "Plotting: 15/81\n",
      "Plotting: 16/81\n",
      "Plotting: 17/81\n",
      "Plotting: 18/81\n",
      "Plotting: 19/81\n",
      "Plotting: 20/81\n",
      "Plotting: 21/81\n",
      "Plotting: 22/81\n",
      "Plotting: 23/81\n",
      "Plotting: 24/81\n",
      "Plotting: 25/81\n",
      "Plotting: 26/81\n",
      "Plotting: 27/81\n",
      "Plotting: 28/81\n",
      "Plotting: 29/81\n",
      "Plotting: 30/81\n",
      "Plotting: 31/81\n",
      "Plotting: 32/81\n",
      "Plotting: 33/81\n",
      "Plotting: 34/81\n",
      "Plotting: 35/81\n",
      "Plotting: 36/81\n",
      "Plotting: 37/81\n",
      "Plotting: 38/81\n",
      "Plotting: 39/81\n",
      "Plotting: 40/81\n",
      "Plotting: 41/81\n",
      "Plotting: 42/81\n",
      "Plotting: 43/81\n",
      "Plotting: 44/81\n",
      "Plotting: 45/81\n",
      "Plotting: 46/81\n",
      "Plotting: 47/81\n",
      "Plotting: 48/81\n",
      "Plotting: 49/81\n",
      "Plotting: 50/81\n",
      "Plotting: 51/81\n",
      "Plotting: 52/81\n",
      "Plotting: 53/81\n",
      "Plotting: 54/81\n",
      "Plotting: 55/81\n",
      "Plotting: 56/81\n",
      "Plotting: 57/81\n",
      "Plotting: 58/81\n",
      "Plotting: 59/81\n",
      "Plotting: 60/81\n",
      "Plotting: 61/81\n",
      "Plotting: 62/81\n",
      "Plotting: 63/81\n",
      "Plotting: 64/81\n",
      "Plotting: 65/81\n",
      "Plotting: 66/81\n",
      "Plotting: 67/81\n",
      "Plotting: 68/81\n",
      "Plotting: 69/81\n",
      "Plotting: 70/81\n",
      "Plotting: 71/81\n",
      "Plotting: 72/81\n",
      "Plotting: 73/81\n",
      "Plotting: 74/81\n",
      "Plotting: 75/81\n",
      "Plotting: 76/81\n",
      "Plotting: 77/81\n",
      "Plotting: 78/81\n",
      "Plotting: 79/81\n",
      "Plotting: 80/81\n",
      "Plotting: 81/81\n"
     ]
    },
    {
     "data": {
      "image/png": "[encoded data removed]",
      "text/plain": [
       "<Figure size 720x576 with 4 Axes>"
      ]
     },
     "metadata": {
      "needs_background": "light"
     },
     "output_type": "display_data"
    }
   ],
   "source": [
    "AnimateSequence(filtered_cat, fault_model, write=\"demoMovie\", file_format=\"mp4\", figsize=(10, 8))"
   ]
  },
  {
   "cell_type": "code",
   "execution_count": null,
   "id": "980c27b6",
   "metadata": {
    "pycharm": {
     "name": "#%%\n"
    }
   },
   "outputs": [],
   "source": []
  }
 ],
 "metadata": {
  "jupytext": {
   "cell_metadata_filter": "-all",
   "main_language": "python",
   "notebook_metadata_filter": "-all"
  },
  "kernelspec": {
   "display_name": "Python 3 (ipykernel)",
   "language": "python",
   "name": "python3"
  },
  "language_info": {
   "codemirror_mode": {
    "name": "ipython",
    "version": 3
   },
   "file_extension": ".py",
   "mimetype": "text/x-python",
   "name": "python",
   "nbconvert_exporter": "python",
   "pygments_lexer": "ipython3",
   "version": "3.8.10"
  }
 },
 "nbformat": 4,
 "nbformat_minor": 5
}