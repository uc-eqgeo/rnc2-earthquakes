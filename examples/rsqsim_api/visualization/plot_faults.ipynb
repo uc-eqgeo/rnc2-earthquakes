{
 "cells": [
  {
   "cell_type": "code",
   "execution_count": 1,
   "id": "a62dbba6",
   "metadata": {},
   "outputs": [],
   "source": [
    "# Import relevant modules\n",
    "from rsqsim_api.fault.multifault import RsqSimMultiFault\n",
    "import os\n",
    "import fnmatch\n",
    "\n",
    "# Tell python where field paths etc are relative to\n",
    "script_dir = os.path.abspath('')\n",
    "fault_dir = \"../../../data/shaw2021/rundir5091\"\n",
    "catalogue_dir = fault_dir"
   ]
  },
  {
   "cell_type": "markdown",
   "id": "4ff0f95b",
   "metadata": {},
   "source": [
    "Read in fault model and catalogue.\n",
    "The files are quite large and can be downloaded from https://doi.org/10.5281/zenodo.5534462"
   ]
  },
  {
   "cell_type": "code",
   "execution_count": 2,
   "id": "be7ab0ca",
   "metadata": {},
   "outputs": [],
   "source": [
    "fault_model = RsqSimMultiFault.read_fault_file_bruce(os.path.join(script_dir, fault_dir, \"zfault_Deepen.in\"),\n",
    "                                                     os.path.join(script_dir, fault_dir, \"znames_Deepen.in\"),\n",
    "                                                     transform_from_utm=True)"
   ]
  },
  {
   "cell_type": "markdown",
   "id": "05939140",
   "metadata": {},
   "source": [
    "Examples of searching for faults or listing fault names"
   ]
  },
  {
   "cell_type": "code",
   "execution_count": 3,
   "id": "c5d5f285",
   "metadata": {},
   "outputs": [],
   "source": [
    "hik = [name for name in fault_model.names if fnmatch.fnmatch(name, \"hik*\")]\n",
    "puy = ['fiordsz03', 'fiordpusz09']"
   ]
  },
  {
   "cell_type": "markdown",
   "id": "0da65ae6",
   "metadata": {},
   "source": [
    "Plot faults"
   ]
  },
  {
   "cell_type": "code",
   "execution_count": 4,
   "id": "0de35010",
   "metadata": {},
   "outputs": [
    {
     "data": {
      "image/png": "[encoded data removed]",
      "text/plain": [
       "<Figure size 432x288 with 1 Axes>"
      ]
     },
     "metadata": {
      "needs_background": "light"
     },
     "output_type": "display_data"
    }
   ],
   "source": [
    "fault_model.plot_faults_2d(puy)"
   ]
  },
  {
   "cell_type": "code",
   "execution_count": null,
   "id": "7c173fa2",
   "metadata": {},
   "outputs": [],
   "source": []
  }
 ],
 "metadata": {
  "jupytext": {
   "cell_metadata_filter": "-all",
   "main_language": "python",
   "notebook_metadata_filter": "-all"
  },
  "kernelspec": {
   "display_name": "Python 3 (ipykernel)",
   "language": "python",
   "name": "python3"
  },
  "language_info": {
   "codemirror_mode": {
    "name": "ipython",
    "version": 3
   },
   "file_extension": ".py",
   "mimetype": "text/x-python",
   "name": "python",
   "nbconvert_exporter": "python",
   "pygments_lexer": "ipython3",
   "version": "3.8.10"
  }
 },
 "nbformat": 4,
 "nbformat_minor": 5
}
