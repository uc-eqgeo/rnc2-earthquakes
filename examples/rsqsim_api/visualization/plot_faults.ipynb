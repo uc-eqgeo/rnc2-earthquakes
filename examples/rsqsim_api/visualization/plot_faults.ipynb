{
 "cells": [
  {
   "cell_type": "code",
   "execution_count": 1,
   "id": "a62dbba6",
   "metadata": {},
   "outputs": [
    {
     "name": "stdout",
     "output_type": "stream",
     "text": [
      "Populating the interactive namespace from numpy and matplotlib\n"
     ]
    }
   ],
   "source": [
    "# Import relevant modules\n",
    "from rsqsim_api.fault.multifault import RsqSimMultiFault\n",
    "import os\n",
    "import fnmatch\n",
    "\n",
    "# Tell python where field paths etc are relative to\n",
    "run_dir = os.path.abspath('')\n",
    "\n",
    "%pylab inline"
   ]
  },
  {
   "cell_type": "markdown",
   "id": "4ff0f95b",
   "metadata": {},
   "source": [
    "Read in fault model and catalogue.\n",
    "Bruce's fault files are quite large and can be downloaded from https://github.com/uc-eqgeo/rnc2-data/tree/main/bruce/faults"
   ]
  },
  {
   "cell_type": "code",
   "execution_count": 2,
   "id": "be7ab0ca",
   "metadata": {},
   "outputs": [],
   "source": [
    "bruce_faults = RsqSimMultiFault.read_fault_file_bruce(os.path.join(run_dir, \"../../../data/bruce_m7/bruce_faults.in\"),\n",
    "                                                      os.path.join(run_dir, \"../../../data/bruce_m7/bruce_names.in\"),\n",
    "                                                      transform_from_utm=True)"
   ]
  },
  {
   "cell_type": "markdown",
   "id": "05939140",
   "metadata": {},
   "source": [
    "Examples of searching for faults or listing fault names"
   ]
  },
  {
   "cell_type": "code",
   "execution_count": 3,
   "id": "c5d5f285",
   "metadata": {},
   "outputs": [],
   "source": [
    "hik = [name for name in bruce_faults.names if fnmatch.fnmatch(name, \"hik*\")]\n",
    "puy = ['fiordsz03', 'fiordpusz09']"
   ]
  },
  {
   "cell_type": "markdown",
   "id": "0da65ae6",
   "metadata": {},
   "source": [
    "Plot faults"
   ]
  },
  {
   "cell_type": "code",
   "execution_count": 4,
   "id": "0de35010",
   "metadata": {},
   "outputs": [
    {
     "name": "stderr",
     "output_type": "stream",
     "text": [
      "/Users/arh79/PycharmProjects/rnc2-uc/src/rsqsim_api/rsqsim_api/fault/multifault.py:294: UserWarning: Matplotlib is currently using module://matplotlib_inline.backend_inline, which is a non-GUI backend, so cannot show the figure.\n",
      "  fig.show()\n"
     ]
    },
    {
     "data": {
      "image/png": "[encoded data removed]",
      "text/plain": [
       "<Figure size 432x288 with 1 Axes>"
      ]
     },
     "metadata": {
      "needs_background": "light"
     },
     "output_type": "display_data"
    }
   ],
   "source": [
    "plt.close(\"all\")\n",
    "bruce_faults.plot_faults_2d(puy)"
   ]
  }
 ],
 "metadata": {
  "jupytext": {
   "cell_metadata_filter": "-all",
   "main_language": "python",
   "notebook_metadata_filter": "-all"
  },
  "kernelspec": {
   "display_name": "Python 3",
   "language": "python",
   "name": "python3"
  },
  "language_info": {
   "codemirror_mode": {
    "name": "ipython",
    "version": 3
   },
   "file_extension": ".py",
   "mimetype": "text/x-python",
   "name": "python",
   "nbconvert_exporter": "python",
   "pygments_lexer": "ipython3",
   "version": "3.7.10"
  }
 },
 "nbformat": 4,
 "nbformat_minor": 5
}
