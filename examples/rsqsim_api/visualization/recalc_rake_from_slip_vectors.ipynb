{
 "cells": [
  {
   "cell_type": "markdown",
   "id": "67ee2d36",
   "metadata": {
    "pycharm": {
     "name": "#%% md\n"
    }
   },
   "source": [
    "Write out .vtk files of slip vectors on selected faults for viewing in paraview"
   ]
  },
  {
   "cell_type": "code",
   "execution_count": 1,
   "id": "0d31be7b",
   "metadata": {
    "pycharm": {
     "name": "#%%\n"
    }
   },
   "outputs": [],
   "source": [
    "# Import relevant modules\n",
    "from rsqsim_api.catalogue.catalogue import RsqSimCatalogue\n",
    "from rsqsim_api.fault.multifault import RsqSimMultiFault\n",
    "import fnmatch\n",
    "import os\n",
    "from matplotlib import pyplot as plt\n",
    "import numpy as np\n",
    "\n",
    "# # Tell python where field paths etc are relative to\n",
    "script_dir = os.path.abspath('')\n",
    "fault_dir = \"../../../data/subduction\"\n",
    "catalogue_dir = fault_dir\n"
   ]
  },
  {
   "cell_type": "markdown",
   "id": "beb11ed2",
   "metadata": {
    "pycharm": {
     "name": "#%% md\n"
    }
   },
   "source": [
    "Read in faults and earthquake catalogue. The files are quite large and can be downloaded from https://doi.org/10.5281/zenodo.5534462. Using subduction catalogue and fault model only saves RAM."
   ]
  },
  {
   "cell_type": "code",
   "execution_count": 2,
   "id": "4f6c178b",
   "metadata": {
    "pycharm": {
     "name": "#%%\n"
    }
   },
   "outputs": [],
   "source": [
    "fault_model = RsqSimMultiFault.read_fault_file_keith(os.path.join(fault_dir,\"hik_creep.flt\"))\n",
    "short_catalogue = RsqSimCatalogue.from_csv_and_arrays(os.path.join(catalogue_dir,\"trimmed\"))"
   ]
  },
  {
   "cell_type": "markdown",
   "id": "9d9953aa",
   "metadata": {
    "pycharm": {
     "name": "#%% md\n"
    }
   },
   "source": [
    "Select faults of interest (N.B. short catalogue only contains 'subduction'). Use fault_model.names to access list of possible fault names"
   ]
  },
  {
   "cell_type": "code",
   "execution_count": 3,
   "id": "4c36b3e1",
   "metadata": {
    "pycharm": {
     "name": "#%%\n"
    }
   },
   "outputs": [],
   "source": [
    "main_fault=\"subd\"\n",
    "faults2select = [name for name in fault_model.names if fnmatch.fnmatch(name, main_fault+\"*\")]\n",
    "fault_selection=RsqSimMultiFault([fault_model.name_dic[name] for name in faults2select])"
   ]
  },
  {
   "cell_type": "markdown",
   "source": [
    "Set horizontal azimuth of slip vector for fault.\n",
    "Slip vector azimuths aren't in the CFM so input desired slip vector manually for now."
   ],
   "metadata": {
    "collapsed": false,
    "pycharm": {
     "name": "#%% md\n"
    }
   }
  },
  {
   "cell_type": "code",
   "execution_count": 4,
   "outputs": [],
   "source": [
    "slipvec=90."
   ],
   "metadata": {
    "collapsed": false,
    "pycharm": {
     "name": "#%%\n"
    }
   }
  },
  {
   "cell_type": "markdown",
   "source": [
    "Calculate rake on each patch to maintain this azimuth of slip vector."
   ],
   "metadata": {
    "collapsed": false,
    "pycharm": {
     "name": "#%% md\n"
    }
   }
  },
  {
   "cell_type": "code",
   "execution_count": 5,
   "outputs": [],
   "source": [
    "for patchNo in fault_selection.patch_dic:\n",
    "    patch=fault_selection.patch_dic[patchNo]\n",
    "    patch.rake=patch.horizontal_sv_to_ds_ss(slipvec)[2]"
   ],
   "metadata": {
    "collapsed": false,
    "pycharm": {
     "name": "#%%\n"
    }
   }
  },
  {
   "cell_type": "markdown",
   "id": "eead62f1",
   "metadata": {
    "pycharm": {
     "name": "#%% md\n"
    }
   },
   "source": [
    "Write out .vtk file with slip and rake on selected faults to be viewed in Paraview."
   ]
  },
  {
   "cell_type": "code",
   "execution_count": 6,
   "id": "1b7f95b6",
   "metadata": {
    "pycharm": {
     "name": "#%%\n"
    }
   },
   "outputs": [],
   "source": [
    "fault_selection.slip_rate_to_vtk(vtk_file=main_fault+\"_cst_sv.vtk\",min_slip_rate=None,nztm_to_lonlat = False)"
   ]
  },
  {
   "cell_type": "code",
   "execution_count": 7,
   "outputs": [],
   "source": [
    "for patchNo in fault_selection.patch_dic:\n",
    "    patch=fault_selection.patch_dic[patchNo]\n",
    "    patch.rake_from_stress_tensor(sigma1=np.array([0,1,0]))"
   ],
   "metadata": {
    "collapsed": false,
    "pycharm": {
     "name": "#%%\n"
    }
   }
  },
  {
   "cell_type": "code",
   "execution_count": 8,
   "outputs": [],
   "source": [
    "fault_selection.slip_rate_to_vtk(vtk_file=main_fault+\"_sigma1.vtk\",min_slip_rate=None,nztm_to_lonlat = False)"
   ],
   "metadata": {
    "collapsed": false,
    "pycharm": {
     "name": "#%%\n"
    }
   }
  },
  {
   "cell_type": "code",
   "execution_count": 8,
   "outputs": [],
   "source": [],
   "metadata": {
    "collapsed": false,
    "pycharm": {
     "name": "#%%\n"
    }
   }
  }
 ],
 "metadata": {
  "kernelspec": {
   "display_name": "Python 3 (ipykernel)",
   "language": "python",
   "name": "python3"
  },
  "language_info": {
   "codemirror_mode": {
    "name": "ipython",
    "version": 3
   },
   "file_extension": ".py",
   "mimetype": "text/x-python",
   "name": "python",
   "nbconvert_exporter": "python",
   "pygments_lexer": "ipython3",
   "version": "3.10.4"
  }
 },
 "nbformat": 4,
 "nbformat_minor": 5
}