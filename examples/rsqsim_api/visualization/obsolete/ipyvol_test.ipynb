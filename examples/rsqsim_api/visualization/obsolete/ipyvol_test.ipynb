{
 "cells": [
  {
   "cell_type": "code",
   "execution_count": 6,
   "metadata": {},
   "outputs": [],
   "source": [
    "import numpy as np\n",
    "import ipyvolume as ipv"
   ]
  },
  {
   "cell_type": "code",
   "execution_count": 7,
   "metadata": {},
   "outputs": [
    {
     "name": "stderr",
     "output_type": "stream",
     "text": [
      "/home/UOCNT/arh128/PycharmProjects/rnc2/src/rsqsim_api/rsqsim_api/containers/fault.py:738: RuntimeWarning: divide by zero encountered in double_scalars\n",
      "  \n",
      "/home/UOCNT/arh128/PycharmProjects/rnc2/src/rsqsim_api/rsqsim_api/containers/fault.py:739: RuntimeWarning: invalid value encountered in true_divide\n",
      "  def calculate_dip(self):\n",
      "/home/UOCNT/arh128/PycharmProjects/rnc2/src/rsqsim_api/rsqsim_api/containers/fault.py:748: RuntimeWarning: invalid value encountered in true_divide\n",
      "  @property\n"
     ]
    }
   ],
   "source": [
    "run run_api_ebsz.py"
   ]
  },
  {
   "cell_type": "code",
   "execution_count": 8,
   "metadata": {},
   "outputs": [],
   "source": [
    "f0 = faults.faults[0]\n",
    "x, y, z = [f0.vertices[:, i] for i in range(3)]"
   ]
  },
  {
   "cell_type": "code",
   "execution_count": 9,
   "metadata": {},
   "outputs": [
    {
     "data": {
      "application/vnd.jupyter.widget-view+json": {
       "model_id": "e2862936152f483bbd650f9fa62e7dc1",
       "version_major": 2,
       "version_minor": 0
      },
      "text/plain": [
       "VBox(children=(Figure(camera=PerspectiveCamera(fov=45.0, position=(0.0, 0.0, 2.0), projectionMatrix=(1.0, 0.0,…"
      ]
     },
     "metadata": {},
     "output_type": "display_data"
    }
   ],
   "source": [
    "ipv.figure()\n",
    "ipv.style.axes_off()\n",
    "ipv.style.box_off()\n",
    "\n",
    "mesh = ipv.plot_trisurf(x, y, z, lines=f0.edge_lines, color='black')\n",
    "ipv.xlim(min(x), max(x))\n",
    "ipv.ylim(min(y), max(y))\n",
    "ipv.zlim(min(z), max(z))\n",
    "ipv.squarelim()\n",
    "ipv.show()"
   ]
  },
  {
   "cell_type": "code",
   "execution_count": 10,
   "metadata": {},
   "outputs": [],
   "source": [
    "f0.edge_lines"
   ]
  },
  {
   "cell_type": "code",
   "execution_count": 11,
   "metadata": {},
   "outputs": [
    {
     "data": {
      "text/plain": [
       "<rsqsim_api.containers.fault.RsqSimSegment at 0x7fa88b59f050>"
      ]
     },
     "execution_count": 11,
     "metadata": {},
     "output_type": "execute_result"
    }
   ],
   "source": [
    "f0."
   ]
  },
  {
   "cell_type": "code",
   "execution_count": null,
   "metadata": {},
   "outputs": [],
   "source": []
  }
 ],
 "metadata": {
  "kernelspec": {
   "display_name": "Python 3",
   "language": "python",
   "name": "python3"
  },
  "language_info": {
   "codemirror_mode": {
    "name": "ipython",
    "version": 3
   },
   "file_extension": ".py",
   "mimetype": "text/x-python",
   "name": "python",
   "nbconvert_exporter": "python",
   "pygments_lexer": "ipython3",
   "version": "3.7.7"
  }
 },
 "nbformat": 4,
 "nbformat_minor": 4
}
