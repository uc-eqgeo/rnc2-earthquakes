{
 "cells": [
  {
   "cell_type": "markdown",
   "id": "b32d29b1",
   "metadata": {
    "pycharm": {
     "name": "#%% md\n"
    }
   },
   "source": [
    "Plot MFD of an earthquake catalogue and mean slip on a patch vs magnitude."
   ]
  },
  {
   "cell_type": "code",
   "execution_count": 1,
   "id": "cbcb61c3",
   "metadata": {
    "pycharm": {
     "name": "#%%\n"
    }
   },
   "outputs": [],
   "source": [
    "# Import relevant modules\n",
    "from rsqsim_api.catalogue.catalogue import RsqSimCatalogue\n",
    "from rsqsim_api.fault.multifault import RsqSimMultiFault\n",
    "import fnmatch\n",
    "import os\n",
    "import numpy as np\n",
    "import pandas as pd\n",
    "\n",
    "# # Tell python where field paths etc are relative to\n",
    "script_dir = os.path.abspath('')\n",
    "#fault_dir = \"../../../data/shaw2021/rundir5091\"\n",
    "fault_dir = \"../../../data/subduction\"\n",
    "catalogue_dir = fault_dir"
   ]
  },
  {
   "cell_type": "markdown",
   "id": "29c21b5c",
   "metadata": {
    "pycharm": {
     "name": "#%% md\n"
    }
   },
   "source": [
    "Read in faults and earthquake catalogue. The files are quite large and can be downloaded from https://doi.org/10.5281/zenodo.5534462. Using subduction catalogue and fault model only to save RAM."
   ]
  },
  {
   "cell_type": "code",
   "execution_count": 2,
   "id": "211bc766",
   "metadata": {
    "pycharm": {
     "name": "#%%\n"
    }
   },
   "outputs": [],
   "source": [
    "fault_model = RsqSimMultiFault.read_fault_file_keith(os.path.join(fault_dir,\"hik_creep.flt\"))\n",
    "eq_catalogue = RsqSimCatalogue.from_csv_and_arrays(os.path.join(catalogue_dir,\"trimmed\"))\n",
    "\n",
    "#fault_model = RsqSimMultiFault.read_fault_file_bruce(os.path.join(script_dir, fault_dir, \"zfault_Deepen.in\"),\n",
    "#                                                     os.path.join(script_dir, fault_dir, \"znames_Deepen.in\"),\n",
    "#                                                     transform_from_utm=True)\n",
    "#eq_catalogue = RsqSimCatalogue.from_catalogue_file_and_lists(os.path.join(catalogue_dir, \"eqs..out\"),\n",
    "#                                                                list_file_directory=catalogue_dir, list_file_prefix=\"catalog\")"
   ]
  },
  {
   "cell_type": "markdown",
   "id": "c71f9e77",
   "metadata": {
    "pycharm": {
     "name": "#%% md\n"
    }
   },
   "source": [
    "Plot magnitude frequency distribution (number of events per year greater than a given magnitude against magnitude)"
   ]
  },
  {
   "cell_type": "code",
   "execution_count": 3,
   "id": "5993e927",
   "metadata": {
    "pycharm": {
     "name": "#%%\n"
    }
   },
   "outputs": [
    {
     "name": "stdout",
     "output_type": "stream",
     "text": [
      "Filtering for 7.0\n",
      "\n",
      "Filtering for 7.5\n",
      "\n",
      "Filtering for 8.0\n",
      "\n",
      "Filtering for 8.5\n",
      "\n",
      "Filtering for 9.0\n",
      "\n",
      "plotting\n"
     ]
    },
    {
     "data": {
      "text/plain": "<Figure size 432x288 with 1 Axes>",
      "image/png": "[encoded data removed]"
     },
     "metadata": {
      "needs_background": "light"
     },
     "output_type": "display_data"
    }
   ],
   "source": [
    "eq_catalogue.plot_gr(fault_model,write=\"Figures/Scaling/GR_subd.jpg\",show=True)"
   ]
  },
  {
   "cell_type": "markdown",
   "source": [
    "Plot GR for an individual fault or system of faults in the fault model"
   ],
   "metadata": {
    "collapsed": false,
    "pycharm": {
     "name": "#%% md\n"
    }
   }
  },
  {
   "cell_type": "code",
   "execution_count": 4,
   "outputs": [
    {
     "name": "stdout",
     "output_type": "stream",
     "text": [
      "No events found on the following faults:\n"
     ]
    },
    {
     "ename": "TypeError",
     "evalue": "'RsqSimMultiFault' object is not iterable",
     "output_type": "error",
     "traceback": [
      "\u001B[0;31m---------------------------------------------------------------------------\u001B[0m",
      "\u001B[0;31mTypeError\u001B[0m                                 Traceback (most recent call last)",
      "Input \u001B[0;32mIn [4]\u001B[0m, in \u001B[0;36m<cell line: 4>\u001B[0;34m()\u001B[0m\n\u001B[1;32m      2\u001B[0m faults2select \u001B[38;5;241m=\u001B[39m [name \u001B[38;5;28;01mfor\u001B[39;00m name \u001B[38;5;129;01min\u001B[39;00m fault_model\u001B[38;5;241m.\u001B[39mnames \u001B[38;5;28;01mif\u001B[39;00m fnmatch\u001B[38;5;241m.\u001B[39mfnmatch(name, main_fault\u001B[38;5;241m+\u001B[39m\u001B[38;5;124m\"\u001B[39m\u001B[38;5;124m*\u001B[39m\u001B[38;5;124m\"\u001B[39m)]\n\u001B[1;32m      3\u001B[0m fault_selection\u001B[38;5;241m=\u001B[39mRsqSimMultiFault([fault_model\u001B[38;5;241m.\u001B[39mname_dic[name] \u001B[38;5;28;01mfor\u001B[39;00m name \u001B[38;5;129;01min\u001B[39;00m faults2select])\n\u001B[0;32m----> 4\u001B[0m fault_cat\u001B[38;5;241m=\u001B[39m\u001B[43meq_catalogue\u001B[49m\u001B[38;5;241;43m.\u001B[39;49m\u001B[43mfilter_by_fault\u001B[49m\u001B[43m(\u001B[49m\u001B[43mfault_or_faults\u001B[49m\u001B[38;5;241;43m=\u001B[39;49m\u001B[43mfault_selection\u001B[49m\u001B[43m)\u001B[49m\n\u001B[1;32m      5\u001B[0m fault_cat\u001B[38;5;241m.\u001B[39mplot_gr(fault_model,write\u001B[38;5;241m=\u001B[39m\u001B[38;5;124m\"\u001B[39m\u001B[38;5;124mFigures/\u001B[39m\u001B[38;5;124m\"\u001B[39m\u001B[38;5;241m+\u001B[39mmain_fault\u001B[38;5;241m+\u001B[39m\u001B[38;5;124m\"\u001B[39m\u001B[38;5;124m_GR.jpg\u001B[39m\u001B[38;5;124m\"\u001B[39m,show\u001B[38;5;241m=\u001B[39m\u001B[38;5;28;01mTrue\u001B[39;00m)\n",
      "File \u001B[0;32m~/PycharmProjects/rsqsim-python-tools/src/rsqsim_api/rsqsim_api/catalogue/catalogue.py:383\u001B[0m, in \u001B[0;36mRsqSimCatalogue.filter_by_fault\u001B[0;34m(self, fault_or_faults, minimum_patches_per_fault)\u001B[0m\n\u001B[1;32m    381\u001B[0m \u001B[38;5;28;01melse\u001B[39;00m:\n\u001B[1;32m    382\u001B[0m     \u001B[38;5;28mprint\u001B[39m(\u001B[38;5;124m\"\u001B[39m\u001B[38;5;124mNo events found on the following faults:\u001B[39m\u001B[38;5;124m\"\u001B[39m)\n\u001B[0;32m--> 383\u001B[0m     \u001B[38;5;28;01mfor\u001B[39;00m fault \u001B[38;5;129;01min\u001B[39;00m fault_or_faults:\n\u001B[1;32m    384\u001B[0m         \u001B[38;5;28mprint\u001B[39m(fault\u001B[38;5;241m.\u001B[39mname)\n\u001B[1;32m    385\u001B[0m     \u001B[38;5;28;01mreturn\u001B[39;00m\n",
      "\u001B[0;31mTypeError\u001B[0m: 'RsqSimMultiFault' object is not iterable"
     ]
    }
   ],
   "source": [
    "main_fault=\"hope\"\n",
    "faults2select = [name for name in fault_model.names if fnmatch.fnmatch(name, main_fault+\"*\")]\n",
    "fault_selection=RsqSimMultiFault([fault_model.name_dic[name] for name in faults2select])\n",
    "fault_cat=eq_catalogue.filter_by_fault(fault_or_faults=fault_selection)\n",
    "fault_cat.plot_gr(fault_model,write=\"Figures/\"+main_fault+\"_GR.jpg\",show=True)"
   ],
   "metadata": {
    "collapsed": false,
    "pycharm": {
     "name": "#%%\n"
    }
   }
  },
  {
   "cell_type": "markdown",
   "id": "7f314f91",
   "metadata": {
    "pycharm": {
     "name": "#%% md\n"
    }
   },
   "source": [
    "Plot mean slip against magnitude for a given catalogue and fault model.\n",
    "From scaling relations:\n",
    " $\\frac{\\bar{u}}{L}\\sim constant$ and $M_{0} = \\mu \\bar{u} L W = \\frac{\\mu \\bar{u} L^{2}}{\\sin \\delta}$\n",
    " (assuming a planar surface and that fault length, L = seismogenic thickness).\n",
    " These relations  $\\Rightarrow M_{0} \\propto \\bar{u}^3$.\n",
    " and since $M_{W} \\sim \\log_{10} M_{0} $\n",
    " we expect $\\log_{10} \\bar{u} \\sim \\frac{1}{3} M_{W}$"
   ]
  },
  {
   "cell_type": "code",
   "execution_count": null,
   "id": "649efc8f",
   "metadata": {
    "pycharm": {
     "name": "#%%\n"
    }
   },
   "outputs": [],
   "source": [
    "eq_catalogue.plot_mean_slip_vs_mag(fault_model,write=\"Figures/Scaling/slip_mw_subd.jpg\", show=True)"
   ]
  },
  {
   "cell_type": "markdown",
   "id": "2edb3aa7",
   "metadata": {
    "pycharm": {
     "name": "#%% md\n"
    }
   },
   "source": [
    "Plot log (area) against magnitude for a given catalogue and fault model.\n",
    "Different scaling relations between M$_W$ and M$_0$ will give different expected gradients for this relationship."
   ]
  },
  {
   "cell_type": "code",
   "execution_count": null,
   "id": "ed9662f7",
   "metadata": {
    "pycharm": {
     "name": "#%%\n"
    }
   },
   "outputs": [],
   "source": [
    "eq_catalogue.plot_area_vs_mag(fault_model, write=\"Figures/Scaling/area_mw_subd.jpg\", show=True)"
   ]
  },
  {
   "cell_type": "code",
   "execution_count": null,
   "id": "b72cd0f1",
   "metadata": {
    "pycharm": {
     "name": "#%%\n"
    }
   },
   "outputs": [],
   "source": []
  }
 ],
 "metadata": {
  "kernelspec": {
   "display_name": "Python 3 (ipykernel)",
   "language": "python",
   "name": "python3"
  },
  "language_info": {
   "codemirror_mode": {
    "name": "ipython",
    "version": 3
   },
   "file_extension": ".py",
   "mimetype": "text/x-python",
   "name": "python",
   "nbconvert_exporter": "python",
   "pygments_lexer": "ipython3",
   "version": "3.10.4"
  }
 },
 "nbformat": 4,
 "nbformat_minor": 5
}