{
 "cells": [
  {
   "cell_type": "markdown",
   "id": "b32d29b1",
   "metadata": {
    "pycharm": {
     "name": "#%% md\n"
    }
   },
   "source": [
    "Plot MFD of an earthquake catalogue and mean slip on a patch vs magnitude."
   ]
  },
  {
   "cell_type": "code",
   "execution_count": 16,
   "id": "32fa2f0c",
   "metadata": {
    "pycharm": {
     "name": "#%%\n"
    }
   },
   "outputs": [],
   "source": [
    "# Import relevant modules\n",
    "from rsqsim_api.catalogue.catalogue import RsqSimCatalogue\n",
    "from rsqsim_api.fault.multifault import RsqSimMultiFault\n",
    "import fnmatch\n",
    "import os\n",
    "import numpy as np\n",
    "import pandas as pd\n",
    "\n",
    "# # Tell python where field paths etc are relative to\n",
    "script_dir = os.path.abspath('')\n",
    "fault_dir = \"../../../data/shaw2021/rundir5091\"\n",
    "#fault_dir = \"../../../data/subduction\"\n",
    "catalogue_dir = fault_dir"
   ]
  },
  {
   "cell_type": "markdown",
   "id": "8e173a7d",
   "metadata": {
    "pycharm": {
     "name": "#%% md\n"
    }
   },
   "source": [
    "Read in faults and earthquake catalogue. The files are quite large and can be downloaded from https://doi.org/10.5281/zenodo.5534462. Using subduction catalogue and fault model only to save RAM."
   ]
  },
  {
   "cell_type": "code",
   "execution_count": 17,
   "id": "98eb24ae",
   "metadata": {
    "pycharm": {
     "name": "#%%\n"
    }
   },
   "outputs": [],
   "source": [
    "#fault_model = RsqSimMultiFault.read_fault_file_keith(os.path.join(fault_dir,\"hik_creep.flt\"))\n",
    "#short_catalogue = RsqSimCatalogue.from_csv_and_arrays(os.path.join(catalogue_dir,\"trimmed\"))\n",
    "\n",
    "fault_model = RsqSimMultiFault.read_fault_file_bruce(os.path.join(script_dir, fault_dir, \"zfault_Deepen.in\"),\n",
    "                                                     os.path.join(script_dir, fault_dir, \"znames_Deepen.in\"),\n",
    "                                                     transform_from_utm=True)\n",
    "eq_catalogue = RsqSimCatalogue.from_catalogue_file_and_lists(os.path.join(catalogue_dir, \"eqs..out\"),\n",
    "                                                                list_file_directory=catalogue_dir, list_file_prefix=\"catalog\")"
   ]
  },
  {
   "cell_type": "markdown",
   "id": "46005c8f",
   "metadata": {
    "pycharm": {
     "name": "#%% md\n"
    }
   },
   "source": [
    "Plot magnitude frequency distribution (number of events per year greater than a given magnitude against magnitude)"
   ]
  },
  {
   "cell_type": "code",
   "execution_count": null,
   "id": "066dc1f5",
   "metadata": {
    "pycharm": {
     "name": "#%%\n",
     "is_executing": true
    }
   },
   "outputs": [],
   "source": [
    "eq_catalogue.plot_gr(fault_model,write=\"GR_bruce.png\",show=True)"
   ]
  },
  {
   "cell_type": "markdown",
   "id": "1a9c1d67",
   "metadata": {
    "pycharm": {
     "name": "#%% md\n"
    }
   },
   "source": [
    "Plot mean slip against magnitude for a given catalogue and fault model.\n",
    "From scaling relations:\n",
    " $\\frac{\\bar{u}}{L}\\sim constant$ and $M_{0} = \\mu \\bar{u} L W = \\frac{\\mu \\bar{u} L^{2}}{\\sin \\delta}$\n",
    " (assuming a planar surface and that fault length, L = seismogenic thickness).\n",
    " These relations  $\\Rightarrow M_{0} \\propto \\bar{u}^3$.\n",
    " and since $M_{W} \\sim \\log_{10} M_{0} $\n",
    " we expect $\\log_{10} \\bar{u} \\sim \\frac{1}{3} M_{W}$"
   ]
  },
  {
   "cell_type": "code",
   "execution_count": null,
   "id": "804e1852",
   "metadata": {
    "pycharm": {
     "name": "#%%\n",
     "is_executing": true
    }
   },
   "outputs": [],
   "source": [
    "eq_catalogue.plot_mean_slip_vs_mag(fault_model,write=\"slip_mw_bruce.png\", show=True)"
   ]
  },
  {
   "cell_type": "markdown",
   "source": [
    "Plot log (area) against magnitude for a given catalogue and fault model.\n",
    "Different scaling relations between M$_W$ and M$_0$ will give different expected gradients for this relationship."
   ],
   "metadata": {
    "collapsed": false,
    "pycharm": {
     "name": "#%% md\n"
    }
   }
  },
  {
   "cell_type": "code",
   "execution_count": null,
   "outputs": [],
   "source": [
    "eq_catalogue.plot_area_vs_mag(fault_model, write=\"area_mw_bruce.png\", show=True)"
   ],
   "metadata": {
    "collapsed": false,
    "pycharm": {
     "name": "#%%\n",
     "is_executing": true
    }
   }
  },
  {
   "cell_type": "code",
   "execution_count": null,
   "id": "b72cd0f1",
   "metadata": {
    "pycharm": {
     "name": "#%%\n",
     "is_executing": true
    }
   },
   "outputs": [],
   "source": []
  },
  {
   "cell_type": "code",
   "execution_count": null,
   "id": "d0541df3",
   "metadata": {
    "pycharm": {
     "name": "#%%\n",
     "is_executing": true
    }
   },
   "outputs": [],
   "source": []
  },
  {
   "cell_type": "code",
   "execution_count": null,
   "id": "ceb18f22",
   "metadata": {
    "pycharm": {
     "name": "#%%\n",
     "is_executing": true
    }
   },
   "outputs": [],
   "source": []
  }
 ],
 "metadata": {
  "kernelspec": {
   "display_name": "Python 3 (ipykernel)",
   "language": "python",
   "name": "python3"
  },
  "language_info": {
   "codemirror_mode": {
    "name": "ipython",
    "version": 3
   },
   "file_extension": ".py",
   "mimetype": "text/x-python",
   "name": "python",
   "nbconvert_exporter": "python",
   "pygments_lexer": "ipython3",
   "version": "3.10.4"
  }
 },
 "nbformat": 4,
 "nbformat_minor": 5
}