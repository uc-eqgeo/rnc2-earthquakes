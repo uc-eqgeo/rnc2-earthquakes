{
 "cells": [
  {
   "cell_type": "markdown",
   "id": "b32d29b1",
   "metadata": {},
   "source": [
    "Plot MFD of an earthquake catalogue and mean slip on a patch vs magnitude."
   ]
  },
  {
   "cell_type": "code",
   "execution_count": 1,
   "id": "32fa2f0c",
   "metadata": {},
   "outputs": [],
   "source": [
    "# Import relevant modules\n",
    "from rsqsim_api.catalogue.catalogue import RsqSimCatalogue\n",
    "from rsqsim_api.fault.multifault import RsqSimMultiFault\n",
    "import fnmatch\n",
    "import os\n",
    "import numpy as np\n",
    "import pandas as pd\n",
    "\n",
    "# # Tell python where field paths etc are relative to\n",
    "script_dir = os.path.abspath('')\n",
    "#fault_dir = \"../../../data/shaw2021/rundir5091\"\n",
    "fault_dir=\"/media/camilla/TOSHIBA EXT/NewZealand/Work/rsqsim-python-tools/data/subduction/\"\n",
    "catalogue_dir = fault_dir"
   ]
  },
  {
   "cell_type": "markdown",
   "id": "8e173a7d",
   "metadata": {},
   "source": [
    "Read in faults and earthquake catalogue. The files are quite large and can be downloaded from https://doi.org/10.5281/zenodo.5534462. Using subduction catalogue and fault model only to save RAM."
   ]
  },
  {
   "cell_type": "code",
   "execution_count": null,
   "id": "98eb24ae",
   "metadata": {},
   "outputs": [],
   "source": [
    "fault_model = RsqSimMultiFault.read_fault_file_keith(os.path.join(fault_dir,\"hik_creep.flt\"))\n",
    "short_catalogue = RsqSimCatalogue.from_csv_and_arrays(os.path.join(catalogue_dir,\"trimmed\"))"
   ]
  },
  {
   "cell_type": "markdown",
   "id": "46005c8f",
   "metadata": {},
   "source": [
    "Plot magnitude frequency distribution (number of events per year greater than a given magnitude against magnitude)"
   ]
  },
  {
   "cell_type": "code",
   "execution_count": null,
   "id": "066dc1f5",
   "metadata": {},
   "outputs": [],
   "source": [
    "short_catalogue.plot_GR(fault_model)"
   ]
  },
  {
   "cell_type": "markdown",
   "id": "1a9c1d67",
   "metadata": {},
   "source": [
    "Plot mean slip against magnitude for a given catalogue and fault model."
   ]
  },
  {
   "cell_type": "code",
   "execution_count": null,
   "id": "804e1852",
   "metadata": {},
   "outputs": [],
   "source": [
    "short_catalogue.plot_mean_slip_vs_mag(fault_model)"
   ]
  },
  {
   "cell_type": "code",
   "execution_count": null,
   "id": "bc3952c6",
   "metadata": {},
   "outputs": [],
   "source": [
    "short_catalogue.plot_area_vs_mag(fault_model)"
   ]
  },
  {
   "cell_type": "code",
   "execution_count": null,
   "id": "b72cd0f1",
   "metadata": {},
   "outputs": [],
   "source": []
  },
  {
   "cell_type": "code",
   "execution_count": null,
   "id": "d0541df3",
   "metadata": {},
   "outputs": [],
   "source": []
  },
  {
   "cell_type": "code",
   "execution_count": null,
   "id": "ceb18f22",
   "metadata": {},
   "outputs": [],
   "source": []
  }
 ],
 "metadata": {
  "kernelspec": {
   "display_name": "Python 3 (ipykernel)",
   "language": "python",
   "name": "python3"
  },
  "language_info": {
   "codemirror_mode": {
    "name": "ipython",
    "version": 3
   },
   "file_extension": ".py",
   "mimetype": "text/x-python",
   "name": "python",
   "nbconvert_exporter": "python",
   "pygments_lexer": "ipython3",
   "version": "3.10.4"
  }
 },
 "nbformat": 4,
 "nbformat_minor": 5
}
