{
 "cells": [
  {
   "cell_type": "markdown",
   "source": [
    "Find multifault ruptures in RSQsim catalogue and investigate which faults are involved.\n",
    "Compare initiation of multifault ruptures to slip rates."
   ],
   "metadata": {
    "collapsed": false,
    "pycharm": {
     "name": "#%% md\n"
    }
   }
  },
  {
   "cell_type": "code",
   "execution_count": 1,
   "outputs": [],
   "source": [
    "import matplotlib.pyplot as plt\n",
    "from rsqsim_api.fault.multifault import RsqSimMultiFault\n",
    "import shutil\n",
    "from rsqsim_api.catalogue.catalogue import RsqSimCatalogue\n",
    "import os\n",
    "import numpy as np\n",
    "import pandas as pd\n",
    "\n",
    "seconds_per_year = 31557600.0"
   ],
   "metadata": {
    "collapsed": false,
    "pycharm": {
     "name": "#%%\n"
    }
   }
  },
  {
   "cell_type": "code",
   "execution_count": 2,
   "outputs": [],
   "source": [
    "# # Tell python where field paths etc are relative to\n",
    "script_dir = os.path.abspath('')\n",
    "fault_dir = \"../../../data/shaw2021/rundir5091\"\n",
    "catalogue_dir = fault_dir\n",
    "#give directory to write multifault catalogue too / read from\n",
    "multi_cat_dir=\"../../../data/shaw2021/multifault/\"\n",
    "#prefix of multifault catalogue file (takes a minute or so to filter whole catalogue)\n",
    "multi_cat_name=\"multi_cat\""
   ],
   "metadata": {
    "collapsed": false,
    "pycharm": {
     "name": "#%%\n"
    }
   }
  },
  {
   "cell_type": "markdown",
   "source": [
    "Read in catalogue of RSQsim events and fault model"
   ],
   "metadata": {
    "collapsed": false,
    "pycharm": {
     "name": "#%% md\n"
    }
   }
  },
  {
   "cell_type": "code",
   "execution_count": 3,
   "outputs": [],
   "source": [
    "fault_model = RsqSimMultiFault.read_fault_file_bruce(os.path.join(script_dir, fault_dir, \"zfault_Deepen.in\"),\n",
    "                                                     os.path.join(script_dir, fault_dir, \"znames_Deepen.in\"),\n",
    "                                                     transform_from_utm=True)\n",
    "whole_catalogue = RsqSimCatalogue.from_catalogue_file_and_lists(os.path.join(catalogue_dir, \"eqs..out\"),\n",
    "                                                                list_file_directory=catalogue_dir, list_file_prefix=\"catalog\")\n"
   ],
   "metadata": {
    "collapsed": false,
    "pycharm": {
     "name": "#%%\n"
    }
   }
  },
  {
   "cell_type": "markdown",
   "source": [
    "Read in catalogue of multifault ruptures or find multifault ruptures in the whole catalogue."
   ],
   "metadata": {
    "collapsed": false,
    "pycharm": {
     "name": "#%% md\n"
    }
   }
  },
  {
   "cell_type": "code",
   "execution_count": 4,
   "outputs": [],
   "source": [
    "if os.path.exists(os.path.join(multi_cat_dir,multi_cat_name)):\n",
    "    multi_cat=RsqSimCatalogue.from_csv_and_arrays(prefix=multi_cat_dir+multi_cat_name)\n",
    "    multifault=[ev for ev in multi_cat.all_events(fault_model)]\n",
    "else:\n",
    "    # identify multifault events if not already read in\n",
    "    multifault=[ev for ev in whole_catalogue.all_events(fault_model) if ev.num_faults > 1]\n",
    "    #and filter catalogue to just these events \n",
    "    multifault_ids=[event.event_id for event in multifault]\n",
    "    multi_cat=whole_catalogue.filter_by_events(multifault_ids)\n",
    "    #write out\n",
    "    os.makedirs(multi_cat_dir)\n",
    "    multi_cat.write_csv_and_arrays(prefix=multi_cat_name,directory=multi_cat_dir)"
   ],
   "metadata": {
    "collapsed": false,
    "pycharm": {
     "name": "#%%\n"
    }
   }
  },
  {
   "cell_type": "markdown",
   "source": [
    "Find number of events in whole catalogue, time span and proportion which are multifault."
   ],
   "metadata": {
    "collapsed": false,
    "pycharm": {
     "name": "#%% md\n"
    }
   }
  },
  {
   "cell_type": "code",
   "execution_count": 5,
   "outputs": [
    {
     "name": "stdout",
     "output_type": "stream",
     "text": [
      "Catalogue contains 61,322,247 events over 276,581 years.\n",
      "94,010 (0.15%) of these are multifault ruptures\n"
     ]
    }
   ],
   "source": [
    "#catalogue info\n",
    "nevents=len(whole_catalogue.event_list)\n",
    "timeSpan=(np.max(whole_catalogue.patch_time_list) - np.min (whole_catalogue.patch_time_list))/seconds_per_year\n",
    "nmultifault=len(multifault)\n",
    "prop_multifault=nmultifault/nevents\n",
    "#write out\n",
    "print('Catalogue contains {:,} events over {:,.0f} years.\\n{:,} ({:.2f}%) of these are multifault ruptures'.format(nevents, timeSpan,nmultifault,prop_multifault*100.))"
   ],
   "metadata": {
    "collapsed": false,
    "pycharm": {
     "name": "#%%\n"
    }
   }
  },
  {
   "cell_type": "code",
   "execution_count": 6,
   "outputs": [],
   "source": [
    "#create dictionary of faults in each multifault event\n",
    "\n",
    "#minimulti=multifault[10:100]\n",
    "fault_dic={}\n",
    "\n",
    "#for ev in minimulti:\n",
    "for i, ev in enumerate(multifault):\n",
    "    ev_faults=fault_model.filter_faults_by_patch_numbers(ev.patch_numbers)\n",
    "    ev_fault_names=ev_faults.names\n",
    "    #find starting fault\n",
    "    assert len(np.where(ev.patch_time==ev.patch_time.min())) == 1, \"Event starts on multiple patches\"\n",
    "    firstPatch=ev.patch_numbers[np.argmin(ev.patch_time)]\n",
    "    firstFault=ev_faults.filter_faults_by_patch_numbers(firstPatch,fault_from_single_patch=True)\n",
    "    firstFaultName=firstFault.name\n",
    "    #write dict entry\n",
    "    fault_dic[i]=(ev.event_id,ev,len(ev_fault_names),ev_fault_names,firstFaultName)\n",
    "\n",
    "multifault_db=pd.DataFrame.from_dict(fault_dic,orient='index',columns=('Event_id','Event','N_faults','Fault_names','Start_fault'))"
   ],
   "metadata": {
    "collapsed": false,
    "pycharm": {
     "name": "#%%\n"
    }
   }
  },
  {
   "cell_type": "code",
   "execution_count": 7,
   "outputs": [],
   "source": [
    "#sort by number of faults involved\n",
    "multifault_db.sort_values(by=['N_faults'],axis=0,inplace=True)"
   ],
   "metadata": {
    "collapsed": false,
    "pycharm": {
     "name": "#%%\n"
    }
   }
  },
  {
   "cell_type": "code",
   "execution_count": 8,
   "outputs": [],
   "source": [
    "# example of search for events with constraints on numbers of faults\n",
    "two_faults=multifault_db.loc[multifault_db['N_faults']==2]\n",
    "more_faults=multifault_db.loc[multifault_db['N_faults']>4]\n",
    "most_faults=multifault_db.loc[multifault_db['N_faults']==np.max(multifault_db['N_faults'])]"
   ],
   "metadata": {
    "collapsed": false,
    "pycharm": {
     "name": "#%%\n"
    }
   }
  },
  {
   "cell_type": "code",
   "execution_count": 9,
   "outputs": [
    {
     "name": "stdout",
     "output_type": "stream",
     "text": [
      "67,990 events  (72.3% of multifault ruptures)  involve 2 faults.\n",
      "7,336 events (7.8% of multifault ruptures)  involve 5 or more faults. \n",
      " The maximum number of faults involved is 188 in a Mw 9.06 earthquake (there are 528 faults in the model).\n"
     ]
    }
   ],
   "source": [
    "# print some associated information\n",
    "print('{:,} events  ({:.1f}% of multifault ruptures)  involve 2 faults.\\n'\n",
    "      '{:,} events ({:.1f}% of multifault ruptures)  involve 5 or more faults. \\n The maximum number of faults involved is {} in a Mw {:.2f} earthquake (there are {} faults in the model).'.\\\n",
    "      format(len(two_faults),100.*len(two_faults)/nmultifault,len(more_faults),100.*len(more_faults)/nmultifault,np.max(multifault_db['N_faults']),most_faults['Event'].iloc[0].mw,len(fault_model.faults)))"
   ],
   "metadata": {
    "collapsed": false,
    "pycharm": {
     "name": "#%%\n"
    }
   }
  },
  {
   "cell_type": "markdown",
   "source": [
    "Investigate multifault events including or starting on a specific fault e.g. hundalee (alpiner is a good test because have lots of these)"
   ],
   "metadata": {
    "collapsed": false,
    "pycharm": {
     "name": "#%% md\n"
    }
   }
  },
  {
   "cell_type": "code",
   "execution_count": 10,
   "outputs": [],
   "source": [
    "faultName='alpiner'\n",
    "#access list of lists of fault names\n",
    "fault_list=[multifault_db['Fault_names'].values[i] for i in np.arange(0,len(multifault_db['Fault_names'].values))]\n",
    "\n",
    "#find the instances which contain the fault of interest\n",
    "fault_events= [list_i for list_i in fault_list if faultName in list_i]\n",
    "#find multifault events starting on the fault of interest\n",
    "fault_start_events=multifault_db.loc[multifault_db['Start_fault']==faultName]"
   ],
   "metadata": {
    "collapsed": false,
    "pycharm": {
     "name": "#%%\n"
    }
   }
  },
  {
   "cell_type": "code",
   "execution_count": 11,
   "outputs": [
    {
     "name": "stdout",
     "output_type": "stream",
     "text": [
      "alpiner fault participates in 12704 multifault ruptures, with 105 unique combinations.\n",
      " 10138 (79.8%) of these multifault ruptures start on this fault.\n"
     ]
    }
   ],
   "source": [
    "#write out findings\n",
    "print('{} fault participates in {} multifault ruptures, with {} unique combinations.\\n {} ({:.1f}%) of these multifault ruptures start on this fault.'.\\\n",
    "      format(faultName,len(fault_events),len(np.unique(np.asanyarray(fault_events,dtype=object))),len(fault_start_events),100.*len(fault_start_events)/len(fault_events)))"
   ],
   "metadata": {
    "collapsed": false,
    "pycharm": {
     "name": "#%%\n"
    }
   }
  },
  {
   "cell_type": "markdown",
   "source": [
    "Look at how many multifault ruptures start on $\\textbf{each}$ fault"
   ],
   "metadata": {
    "collapsed": false,
    "pycharm": {
     "name": "#%% md\n"
    }
   }
  },
  {
   "cell_type": "code",
   "execution_count": 12,
   "outputs": [],
   "source": [
    "# cumulative number of events starting on each fault\n",
    "start_fault_by_nevents=multifault_db['Start_fault'].value_counts(sort=True)"
   ],
   "metadata": {
    "collapsed": false,
    "pycharm": {
     "name": "#%%\n"
    }
   }
  },
  {
   "cell_type": "markdown",
   "source": [
    "Want to compare these multifault rupture initiations to fault slip rates - so make a dictionary of fault slip rates."
   ],
   "metadata": {
    "collapsed": false,
    "pycharm": {
     "name": "#%% md\n"
    }
   }
  },
  {
   "cell_type": "code",
   "execution_count": 13,
   "outputs": [],
   "source": [
    "slip_rate_dict={}\n",
    "\n",
    "for fault in fault_model.faults:\n",
    "    all_slip_rates=[]\n",
    "    for patch_id in fault.patch_numbers:\n",
    "        patch = fault.patch_dic[patch_id]\n",
    "        slip_rate = patch.total_slip\n",
    "        all_slip_rates.append(slip_rate)\n",
    "    #mean slip rate in mm/yr\n",
    "    mean_slip_rate=np.mean(all_slip_rates)*seconds_per_year*1000\n",
    "    if fault.name in start_fault_by_nevents.keys():\n",
    "        slip_rate_dict[fault.name]=[mean_slip_rate,start_fault_by_nevents[fault.name]]\n",
    "    else:\n",
    "        slip_rate_dict[fault.name]=[mean_slip_rate,0]"
   ],
   "metadata": {
    "collapsed": false,
    "pycharm": {
     "name": "#%%\n"
    }
   }
  },
  {
   "cell_type": "markdown",
   "source": [
    "... and plot"
   ],
   "metadata": {
    "collapsed": false,
    "pycharm": {
     "name": "#%% md\n"
    }
   }
  },
  {
   "cell_type": "code",
   "execution_count": 14,
   "outputs": [
    {
     "data": {
      "text/plain": "<Figure size 432x288 with 1 Axes>",
      "image/png": "[encoded data removed]"
     },
     "metadata": {
      "needs_background": "light"
     },
     "output_type": "display_data"
    }
   ],
   "source": [
    "fig,ax=plt.subplots()\n",
    "\n",
    "fault_names,points=zip(*slip_rate_dict.items())\n",
    "x,y=zip(*points)\n",
    "\n",
    "x=np.array(x)\n",
    "y=np.array(y)\n",
    "label_mask=(x<10) * (y<2000)\n",
    "x_no_label=x[label_mask]\n",
    "y_no_label=y[label_mask]\n",
    "ax.scatter(x_no_label,y_no_label,marker=\"+\",c=\"grey\")\n",
    "#and plot higher values which we do want to label\n",
    "x_label=x[~label_mask]\n",
    "y_label=y[~label_mask]\n",
    "fault_names=np.array(fault_names)\n",
    "fault_labels=fault_names[~label_mask]\n",
    "\n",
    "for label in fault_labels:\n",
    "    index=np.where(fault_labels==label)\n",
    "    ax.scatter(x_label[index],y_label[index],label=label)\n",
    "\n",
    "#for i, txt in enumerate(fault_labels):\n",
    "#    plt.annotate(txt,(x_label[i],y_label[i]))\n",
    "plt.legend()\n",
    "ax.set_xlabel(\"Slip Rate / mmyr$^{-1}$\")\n",
    "ax.set_ylabel(\"# multifault events initiating on fault\")\n",
    "fig.savefig(\"multi_init-slip_rate.jpg\",dpi=300)"
   ],
   "metadata": {
    "collapsed": false,
    "pycharm": {
     "name": "#%%\n"
    }
   }
  },
  {
   "cell_type": "markdown",
   "source": [
    "Next steps:\n",
    "* look at total number of ruptures and / or multifault ruptures involving each fault\n",
    "* look at what multifault ruptures are happening (i.e. which faults are involved)\n",
    "* these would probably be easier if had fault_events as an RSQsimCatalogue object - how to do this?\n",
    "* Does number of faults involved correlate with event magnitude?"
   ],
   "metadata": {
    "collapsed": false,
    "pycharm": {
     "name": "#%% md\n"
    }
   }
  },
  {
   "cell_type": "code",
   "execution_count": 15,
   "outputs": [
    {
     "data": {
      "text/plain": "       Event_id                                              Event  N_faults  \\\n0           157  <rsqsim_api.catalogue.event.RsqSimEvent object...         2   \n57611   1229287  <rsqsim_api.catalogue.event.RsqSimEvent object...         2   \n57531   1227429  <rsqsim_api.catalogue.event.RsqSimEvent object...         2   \n57542   1227586  <rsqsim_api.catalogue.event.RsqSimEvent object...         2   \n57564   1228235  <rsqsim_api.catalogue.event.RsqSimEvent object...         2   \n...         ...                                                ...       ...   \n48838   1041893  <rsqsim_api.catalogue.event.RsqSimEvent object...         3   \n52974   1129601  <rsqsim_api.catalogue.event.RsqSimEvent object...         3   \n30382    650581  <rsqsim_api.catalogue.event.RsqSimEvent object...         3   \n41736    890471  <rsqsim_api.catalogue.event.RsqSimEvent object...         3   \n88622   1886692  <rsqsim_api.catalogue.event.RsqSimEvent object...         4   \n\n                                         Fault_names Start_fault  \n0                              [alpiner, sfiordmg13]     alpiner  \n57611                          [alpiner, sfiordmg13]     alpiner  \n57531                         [alpiner, fiordpusz09]     alpiner  \n57542                         [alpiner, fiordpusz09]     alpiner  \n57564                          [alpiner, sfiordmg13]     alpiner  \n...                                              ...         ...  \n48838             [alpiner, fiordpusz09, sfiordmg13]     alpiner  \n52974             [alpiner, fiordpusz09, sfiordmg13]     alpiner  \n30382             [alpiner, fiordpusz09, sfiordmg13]     alpiner  \n41736             [alpiner, fiordpusz09, sfiordmg13]     alpiner  \n88622  [alpiner, fiordpusz09, fiordsz03, sfiordmg13]     alpiner  \n\n[10138 rows x 5 columns]",
      "text/html": "<div>\n<style scoped>\n    .dataframe tbody tr th:only-of-type {\n        vertical-align: middle;\n    }\n\n    .dataframe tbody tr th {\n        vertical-align: top;\n    }\n\n    .dataframe thead th {\n        text-align: right;\n    }\n</style>\n<table border=\"1\" class=\"dataframe\">\n  <thead>\n    <tr style=\"text-align: right;\">\n      <th></th>\n      <th>Event_id</th>\n      <th>Event</th>\n      <th>N_faults</th>\n      <th>Fault_names</th>\n      <th>Start_fault</th>\n    </tr>\n  </thead>\n  <tbody>\n    <tr>\n      <th>0</th>\n      <td>157</td>\n      <td>&lt;rsqsim_api.catalogue.event.RsqSimEvent object...</td>\n      <td>2</td>\n      <td>[alpiner, sfiordmg13]</td>\n      <td>alpiner</td>\n    </tr>\n    <tr>\n      <th>57611</th>\n      <td>1229287</td>\n      <td>&lt;rsqsim_api.catalogue.event.RsqSimEvent object...</td>\n      <td>2</td>\n      <td>[alpiner, sfiordmg13]</td>\n      <td>alpiner</td>\n    </tr>\n    <tr>\n      <th>57531</th>\n      <td>1227429</td>\n      <td>&lt;rsqsim_api.catalogue.event.RsqSimEvent object...</td>\n      <td>2</td>\n      <td>[alpiner, fiordpusz09]</td>\n      <td>alpiner</td>\n    </tr>\n    <tr>\n      <th>57542</th>\n      <td>1227586</td>\n      <td>&lt;rsqsim_api.catalogue.event.RsqSimEvent object...</td>\n      <td>2</td>\n      <td>[alpiner, fiordpusz09]</td>\n      <td>alpiner</td>\n    </tr>\n    <tr>\n      <th>57564</th>\n      <td>1228235</td>\n      <td>&lt;rsqsim_api.catalogue.event.RsqSimEvent object...</td>\n      <td>2</td>\n      <td>[alpiner, sfiordmg13]</td>\n      <td>alpiner</td>\n    </tr>\n    <tr>\n      <th>...</th>\n      <td>...</td>\n      <td>...</td>\n      <td>...</td>\n      <td>...</td>\n      <td>...</td>\n    </tr>\n    <tr>\n      <th>48838</th>\n      <td>1041893</td>\n      <td>&lt;rsqsim_api.catalogue.event.RsqSimEvent object...</td>\n      <td>3</td>\n      <td>[alpiner, fiordpusz09, sfiordmg13]</td>\n      <td>alpiner</td>\n    </tr>\n    <tr>\n      <th>52974</th>\n      <td>1129601</td>\n      <td>&lt;rsqsim_api.catalogue.event.RsqSimEvent object...</td>\n      <td>3</td>\n      <td>[alpiner, fiordpusz09, sfiordmg13]</td>\n      <td>alpiner</td>\n    </tr>\n    <tr>\n      <th>30382</th>\n      <td>650581</td>\n      <td>&lt;rsqsim_api.catalogue.event.RsqSimEvent object...</td>\n      <td>3</td>\n      <td>[alpiner, fiordpusz09, sfiordmg13]</td>\n      <td>alpiner</td>\n    </tr>\n    <tr>\n      <th>41736</th>\n      <td>890471</td>\n      <td>&lt;rsqsim_api.catalogue.event.RsqSimEvent object...</td>\n      <td>3</td>\n      <td>[alpiner, fiordpusz09, sfiordmg13]</td>\n      <td>alpiner</td>\n    </tr>\n    <tr>\n      <th>88622</th>\n      <td>1886692</td>\n      <td>&lt;rsqsim_api.catalogue.event.RsqSimEvent object...</td>\n      <td>4</td>\n      <td>[alpiner, fiordpusz09, fiordsz03, sfiordmg13]</td>\n      <td>alpiner</td>\n    </tr>\n  </tbody>\n</table>\n<p>10138 rows × 5 columns</p>\n</div>"
     },
     "execution_count": 15,
     "metadata": {},
     "output_type": "execute_result"
    }
   ],
   "source": [
    "fault_start_events"
   ],
   "metadata": {
    "collapsed": false,
    "pycharm": {
     "name": "#%%\n"
    }
   }
  },
  {
   "cell_type": "code",
   "execution_count": 16,
   "outputs": [
    {
     "data": {
      "text/plain": "array([list(['alpiner', 'alpinef2k', 'fiordsz03']),\n       list(['alpiner', 'alpinef2k', 'fiordsz03', 'sfiordmg13']),\n       list(['alpiner', 'cballeny', 'chalky1to3', 'fiordpusz09', 'caswell1', 'fivefingers']),\n       list(['alpiner', 'cballeny', 'chalky1to3', 'fiordpusz09', 'chalky4to8']),\n       list(['alpiner', 'cballeny', 'chalky1to3', 'fiordpusz09', 'chalky4to8', 'fivefingers']),\n       list(['alpiner', 'cballeny', 'chalky1to3', 'fiordpusz09', 'fivefingers']),\n       list(['alpiner', 'cballeny', 'chalky1to3', 'fiordpusz09', 'sfiordmg1to9', 'chalky4to8', 'fivefingers']),\n       list(['alpiner', 'cballeny', 'fiordpusz09', 'chalky4to8', 'fivefingers']),\n       list(['alpiner', 'cballeny', 'fiordpusz09', 'sfiordmg1to9', 'chalky4to8', 'fivefingers']),\n       list(['alpiner', 'cballeny', 'sfiordmg13', 'chalky1to3', 'fiordpusz09', 'chalky4to8']),\n       list(['alpiner', 'cballeny', 'sfiordmg13', 'chalky1to3', 'fiordpusz09', 'chalky4to8', 'fivefingers']),\n       list(['alpiner', 'cballeny', 'sfiordmg13', 'chalky1to3', 'fiordpusz09', 'fivefingers']),\n       list(['alpiner', 'cballeny', 'sfiordmg13', 'chalky1to3', 'fiordpusz09', 'sfiordmg1to9', 'chalky4to8', 'fivefingers']),\n       list(['alpiner', 'cballeny', 'sfiordmg13', 'chalky1to3', 'fiordpusz09', 'swedge1', 'chalky4to8', 'fivefingers']),\n       list(['alpiner', 'cballeny', 'sfiordmg13', 'chalky1to3', 'fiordpusz09', 'swedge5', 'chalky4to8', 'fivefingers']),\n       list(['alpiner', 'cballeny', 'sfiordmg13', 'fiordpusz09', 'chalky4to8', 'fivefingers']),\n       list(['alpiner', 'cballeny', 'sfiordmg13', 'fiordpusz09', 'sfiordmg1to9', 'chalky4to8', 'fivefingers']),\n       list(['alpiner', 'chalky1to3', 'chalky4to8', 'fiordpusz09']),\n       list(['alpiner', 'chalky1to3', 'fiordpusz09']),\n       list(['alpiner', 'chalky1to3', 'fiordpusz09', 'cballeny']),\n       list(['alpiner', 'chalky1to3', 'fiordpusz09', 'chalky4to8', 'fivefingers']),\n       list(['alpiner', 'chalky1to3', 'fiordpusz09', 'fivefingers']),\n       list(['alpiner', 'chalky1to3', 'fiordpusz09', 'sfiordmg1to9', 'chalky4to8']),\n       list(['alpiner', 'chalky1to3', 'fiordpusz09', 'swedge1', 'sfiordmg1to9', 'chalky4to8', 'fivefingers']),\n       list(['alpiner', 'chalky4to8', 'cballeny', 'fiordpusz09']),\n       list(['alpiner', 'chalky4to8', 'fiordpusz09']),\n       list(['alpiner', 'chalky4to8', 'fiordpusz09', 'fivefingers']),\n       list(['alpiner', 'chalky4to8', 'fiordpusz09', 'sfiordmg13']),\n       list(['alpiner', 'cw4swedge411']),\n       list(['alpiner', 'cw4swedge411', 'cwedge123', 'sfiordmg13']),\n       list(['alpiner', 'cw4swedge411', 'cwedge123', 'swedge5', 'swedge3']),\n       list(['alpiner', 'cw4swedge411', 'fiordpusz09', 'swedge5', 'caswell4']),\n       list(['alpiner', 'cw4swedge411', 'fiordpusz09', 'swedge5', 'swedge3']),\n       list(['alpiner', 'cw4swedge411', 'fiordsz03', 'sfiordmg13', 'cwedge123', 'swedge5', 'swedge3']),\n       list(['alpiner', 'cw4swedge411', 'sfiordmg13']),\n       list(['alpiner', 'cw4swedge411', 'sfiordmg13', 'caswellh67', 'cwedge123']),\n       list(['alpiner', 'cw4swedge411', 'sfiordmg13', 'caswellh67', 'cwedge123', 'caswell5']),\n       list(['alpiner', 'cw4swedge411', 'sfiordmg13', 'caswellh67', 'cwedge123', 'fiordpusz09', 'swedge5', 'caswell5']),\n       list(['alpiner', 'cw4swedge411', 'sfiordmg13', 'caswellh67', 'cwedge123', 'swedge3']),\n       list(['alpiner', 'cw4swedge411', 'sfiordmg13', 'caswellh67', 'cwedge123', 'swedge5']),\n       list(['alpiner', 'cw4swedge411', 'sfiordmg13', 'caswellh67', 'cwedge123', 'swedge5', 'caswell5']),\n       list(['alpiner', 'cw4swedge411', 'sfiordmg13', 'cwedge123', 'caswell5']),\n       list(['alpiner', 'cw4swedge411', 'sfiordmg13', 'cwedge123', 'caswell5', 'swedge3']),\n       list(['alpiner', 'cw4swedge411', 'sfiordmg13', 'cwedge123', 'fiordpusz09', 'swedge3']),\n       list(['alpiner', 'cw4swedge411', 'sfiordmg13', 'cwedge123', 'fiordpusz09', 'swedge5', 'swedge3']),\n       list(['alpiner', 'cw4swedge411', 'sfiordmg13', 'cwedge123', 'swedge3']),\n       list(['alpiner', 'cw4swedge411', 'sfiordmg13', 'cwedge123', 'swedge5']),\n       list(['alpiner', 'cw4swedge411', 'sfiordmg13', 'cwedge123', 'swedge5', 'caswell5']),\n       list(['alpiner', 'cw4swedge411', 'sfiordmg13', 'cwedge123', 'swedge5', 'caswell5', 'swedge3']),\n       list(['alpiner', 'cw4swedge411', 'sfiordmg13', 'cwedge123', 'swedge5', 'swedge3']),\n       list(['alpiner', 'cw4swedge411', 'sfiordmg13', 'fiordpusz09', 'swedge3']),\n       list(['alpiner', 'cw4swedge411', 'sfiordmg13', 'fiordpusz09', 'swedge5']),\n       list(['alpiner', 'cw4swedge411', 'sfiordmg13', 'fiordpusz09', 'swedge5', 'swedge3']),\n       list(['alpiner', 'cw4swedge411', 'sfiordmg13', 'swedge3', 'fiordpusz09', 'swedge2']),\n       list(['alpiner', 'cw4swedge411', 'sfiordmg13', 'swedge5', 'swedge3']),\n       list(['alpiner', 'cw4swedge411', 'swedge2', 'swedge5', 'swedge3']),\n       list(['alpiner', 'cw4swedge411', 'swedge3']),\n       list(['alpiner', 'cw4swedge411', 'swedge3', 'cwedge123']),\n       list(['alpiner', 'cw4swedge411', 'swedge3', 'sfiordmg13']),\n       list(['alpiner', 'cw4swedge411', 'swedge3', 'swedge2']),\n       list(['alpiner', 'cw4swedge411', 'swedge5']),\n       list(['alpiner', 'cw4swedge411', 'swedge5', 'caswell4']),\n       list(['alpiner', 'cw4swedge411', 'swedge5', 'caswell4', 'caswell5', 'swedge3']),\n       list(['alpiner', 'cw4swedge411', 'swedge5', 'caswell5']),\n       list(['alpiner', 'cw4swedge411', 'swedge5', 'fiordpusz09']),\n       list(['alpiner', 'cw4swedge411', 'swedge5', 'sfiordmg13']),\n       list(['alpiner', 'cw4swedge411', 'swedge5', 'swedge3']),\n       list(['alpiner', 'fiordpusz09']),\n       list(['alpiner', 'fiordpusz09', 'cballeny']),\n       list(['alpiner', 'fiordpusz09', 'cballeny', 'fivefingers']),\n       list(['alpiner', 'fiordpusz09', 'cballeny', 'sfiordmg13']),\n       list(['alpiner', 'fiordpusz09', 'fiordsz03', 'sfiordmg13']),\n       list(['alpiner', 'fiordpusz09', 'fivefingers']),\n       list(['alpiner', 'fiordpusz09', 'sfiordmg13']),\n       list(['alpiner', 'fiordpusz09', 'sfiordmg1to9', 'chalky4to8', 'fivefingers']),\n       list(['alpiner', 'fiordpusz09', 'swedge1', 'chalky4to8', 'fivefingers']),\n       list(['alpiner', 'fiordpusz09', 'swedge1', 'sfiordmg1to9', 'chalky4to8']),\n       list(['alpiner', 'fiordpusz09', 'swedge5', 'chalky4to8', 'fivefingers']),\n       list(['alpiner', 'fiordsz03']),\n       list(['alpiner', 'fiordsz03', 'sfiordmg13']),\n       list(['alpiner', 'fiordsz03', 'sfiordmg13', 'fiordpusz09', 'chalky4to8']),\n       list(['alpiner', 'sfiordmg13']),\n       list(['alpiner', 'sfiordmg13', 'chalky1to3', 'fiordpusz09', 'chalky4to8']),\n       list(['alpiner', 'sfiordmg13', 'chalky1to3', 'fiordpusz09', 'chalky4to8', 'fivefingers']),\n       list(['alpiner', 'sfiordmg13', 'chalky1to3', 'fiordpusz09', 'sfiordmg1to9', 'chalky4to8', 'fivefingers']),\n       list(['alpiner', 'sfiordmg13', 'fiordpusz09', 'chalky4to8', 'fivefingers']),\n       list(['alpiner', 'sfiordmg13', 'fiordpusz09', 'fivefingers']),\n       list(['alpiner', 'sfiordmg13', 'fiordpusz09', 'sfiordmg1to9', 'chalky4to8']),\n       list(['alpiner', 'sfiordmg13', 'fiordpusz09', 'sfiordmg1to9', 'chalky4to8', 'fivefingers']),\n       list(['alpiner', 'sfiordmg13', 'fiordpusz09', 'sfiordmg1to9', 'fivefingers']),\n       list(['alpiner', 'sfiordmg13', 'fiordpusz09', 'swedge1', 'chalky4to8']),\n       list(['alpiner', 'sfiordmg13', 'fiordpusz09', 'swedge1', 'chalky4to8', 'fivefingers']),\n       list(['alpiner', 'sfiordmg13', 'fiordpusz09', 'swedge5', 'chalky4to8']),\n       list(['alpiner', 'sfiordmg13', 'fiordsz03', 'fivefingers']),\n       list(['alpiner', 'sfiordmg1to9', 'chalky4to8', 'fiordpusz09']),\n       list(['alpiner', 'sfiordmg1to9', 'fiordpusz09', 'fivefingers']),\n       list(['alpiner', 'sfiordmg1to9', 'fiordpusz09', 'sfiordmg13']),\n       list(['alpiner', 'swedge1', 'chalky4to8', 'fiordpusz09']),\n       list(['alpiner', 'swedge1', 'fiordpusz09', 'sfiordmg13']),\n       list(['alpiner', 'swedge2']),\n       list(['alpiner', 'swedge2', 'sfiordmg13']),\n       list(['alpiner', 'swedge3', 'fiordpusz09', 'sfiordmg13']),\n       list(['alpiner', 'swedge3', 'sfiordmg13']),\n       list(['alpiner', 'swedge3', 'swedge2']),\n       list(['alpiner', 'swedge3', 'swedge2', 'sfiordmg13'])],\n      dtype=object)"
     },
     "execution_count": 16,
     "metadata": {},
     "output_type": "execute_result"
    }
   ],
   "source": [],
   "metadata": {
    "collapsed": false,
    "pycharm": {
     "name": "#%%\n"
    }
   }
  },
  {
   "cell_type": "code",
   "execution_count": 17,
   "outputs": [
    {
     "data": {
      "text/plain": "[['alpiner', 'sfiordmg13'],\n ['cust', 'leesv'],\n ['tuhuan04', 'astrolabe02'],\n ['hikwgtnmax', 'opouaweuruti'],\n ['ngakurunew', 'ngakurusw'],\n ['jorkekneed', 'wairarapnich'],\n ['alpiner', 'fiordsz03'],\n ['tuakana09', 'taurtre06'],\n ['hikwgtnmax', 'opouaweuruti'],\n ['alpinek2t', 'awateresw'],\n ['matatara01', 'tuakana04'],\n ['browning', 'kelly'],\n ['awatnevercl', 'awaterene'],\n ['matatara01', 'tuakana02'],\n ['ran-02', 'ran-01'],\n ['hawkebay2', 'napier1931'],\n ['browning', 'kelly'],\n ['barefell', 'awateresw'],\n ['otaraeast01', 'volkner04'],\n ['hikwgtnmax', 'pahaua'],\n ['fiordpusz09', 'sfiordmg13'],\n ['volkner04', 'volkner05'],\n ['tauranga05', 'tuakana03'],\n ['hopecw', 'hopetara'],\n ['georger1', 'fiordmar1&2'],\n ['browning', 'kelly'],\n ['alpiner', 'sfiordmg13'],\n ['hopecw', 'hopetara'],\n ['hopecw', 'hope1888'],\n ['maungatiw02', 'volkner04'],\n ['alpiner', 'sfiordmg13'],\n ['ruatorias1', 'hikraukmax'],\n ['ngatoros04', 'ohena04'],\n ['hawkebay2', 'napier1931'],\n ['browning', 'alpinek2t'],\n ['astrolabe05', 'astrolabe03'],\n ['poranagw2', 'hikhbaymax'],\n ['tewheta', 'maleme'],\n ['hikhbaymax', 'poranagw1'],\n ['matatara04', 'maungatie01'],\n ['alpinek2t', 'hopetara'],\n ['alpinef2k', 'browning'],\n ['jorkekneed', 'fidget'],\n ['ngatoros02', 'ngatoros05'],\n ['hikwgtnmax', 'pahaua'],\n ['alpiner', 'fiordpusz09'],\n ['tuatoru02', 'tearawa03'],\n ['alpiner', 'sfiordmg13'],\n ['alpinef2k', 'alpinek2t'],\n ['cust', 'leesv'],\n ['jorkekneed', 'fidget'],\n ['whareamabank', 'hikwgtnmax'],\n ['ohena02', 'ngatoros02'],\n ['hikwgtnmax', 'pahaua'],\n ['alpiner', 'fiordpusz09'],\n ['cw4swedge411', 'cwedge123'],\n ['astrolabe05', 'taurtrw01'],\n ['alpinek2t', 'kelly'],\n ['hopeconway', 'hanmer'],\n ['alpiner', 'sfiordmg13'],\n ['hopeterapa1n2', 'upperslope'],\n ['alpiner', 'sfiordmg13'],\n ['tuhuan04', 'tuhuan01'],\n ['hikhbaymax', 'madden'],\n ['hawkebay2', 'napier1931'],\n ['fiordpusz09', 'sfiordmg13'],\n ['ohena02', 'ngatoros02'],\n ['maungatiw02', 'otarawest01'],\n ['maungatiw01', 'maungatie01'],\n ['urutin', 'hikwgtnmax'],\n ['hollyford', 'milfordb1'],\n ['cw4swedge411', 'cwedge123'],\n ['wairaka01', 'wairaka02'],\n ['alpiner', 'fiordsz03'],\n ['hikwgtnmax', 'boobooall'],\n ['alpiner', 'fiordpusz09'],\n ['alpiner', 'fiordpusz09'],\n ['alpiner', 'sfiordmg13'],\n ['clarencecentr', 'clarencesw'],\n ['kaiwaras', 'omihi'],\n ['browning', 'kelly'],\n ['fiordpusz09', 'sfiordmg13'],\n ['braemar', 'rotoiti'],\n ['gableend', 'arielbank'],\n ['ruatorias1', 'hikraukmax'],\n ['palliserkai', 'urutibasin'],\n ['cw4swedge411', 'swedge3'],\n ['ohena01', 'astrolabe06'],\n ['alpiner', 'sfiordmg13'],\n ['alpinef2k', 'alpinek2t'],\n ['alpiner', 'fiordpusz09'],\n ['tarawera03', 'tauranga03'],\n ['awatnevercl', 'awaterene'],\n ['hopeconwayos', 'ms05'],\n ['whangamataw', 'puketerata'],\n ['caswell4', 'caswell5'],\n ['hollyford', 'alpinef2k'],\n ['alpiner', 'fiordpusz09'],\n ['opouaweuruti', 'boobooall'],\n ['lowry', 'kaiwaran'],\n ['paparoarf', 'brunant'],\n ['maungatiw01', 'maungatie01'],\n ['alpiner', 'fiordpusz09'],\n ['hope1888', 'kakapo'],\n ['gableend', 'arielnorth'],\n ['awatnevercl', 'awaterene'],\n ['jorkekneed', 'wairarapnich'],\n ['clarencecentr', 'clarencene'],\n ['waihie', 'poutu'],\n ['awatnevercl', 'awaterene'],\n ['astrolabe07', 'astrolabe08'],\n ['gableend', 'arielbank'],\n ['alpiner', 'fiordpusz09'],\n ['thornton01', 'motuhoras01'],\n ['wharatocampb', 'boobooall'],\n ['alpiner', 'fiordpusz09'],\n ['alpiner', 'fiordsz03'],\n ['hikraukmax', 'houtunui'],\n ['fiordpusz09', 'sfiordmg13'],\n ['fiordpusz09', 'sfiordmg13'],\n ['poroutawhao', 'rangioffsh'],\n ['alpiner', 'fiordpusz09'],\n ['whakaari03', 'calypso02'],\n ['alpiner', 'sfiordmg13'],\n ['hikwgtnmax', 'hikhbaymax'],\n ['awatnevercl', 'awaterene'],\n ['fiordpusz09', 'sfiordmg13'],\n ['onepoto', 'mascarin'],\n ['whareamabank', 'hikwgtnmax'],\n ['hopecw', 'hope1888'],\n ['caswell1', 'caswell4'],\n ['alpinef2k', 'browning'],\n ['huttpeelnorth', 'northbranch'],\n ['alpinek2t', 'kelly'],\n ['alpiner', 'fiordpusz09'],\n ['jorkekneed', 'wairarapnich'],\n ['alpiner', 'sfiordmg13'],\n ['urewera3', 'opotiki02'],\n ['tearawa01', 'pukn-1'],\n ['volkner04', 'volkner05'],\n ['nukuhou01', 'tumokemoke01'],\n ['jorkekneed', 'wairarapnich'],\n ['arielbank', 'arielnorth'],\n ['tuakana11', 'taurtre06'],\n ['otaraeast03', 'otaraeast05'],\n ['waimeas', 'wairau'],\n ['mtstew', 'rangioffsh'],\n ['tarawera04', 'tarawera03'],\n ['billys', 'taierir'],\n ['kelly', 'hopetara'],\n ['ngatoros04', 'ngatoros02'],\n ['whakaari03', 'whakaari02'],\n ['tuakana02', 'tauranga05'],\n ['tuakana13', 'astrolabe03'],\n ['jorkekneed', 'fidget'],\n ['volkner04', 'volkner05'],\n ['taurtrw04', 'ngatoros03'],\n ['onepoto', 'mascarin'],\n ['tarawera01', 'okurei01'],\n ['matatara01', 'okurei03'],\n ['waihiw', 'poutu'],\n ['whiteis01', 'edgecumbcs'],\n ['maungatiw01', 'whakatanes'],\n ['wellp', 'mohakas'],\n ['whirinakiall', 'ngakurunew'],\n ['ruahinec', 'ruahines'],\n ['fiordpusz09', 'sfiordmg13'],\n ['hikwgtnmax', 'wharatocampb'],\n ['whareamabank', 'hikwgtnmax'],\n ['whareamabank', 'hikwgtnmax'],\n ['wheaon', 'wheaos'],\n ['alpiner', 'fiordpusz09'],\n ['tuakana04', 'tauranga05'],\n ['ohena01', 'astrolabe06'],\n ['ngatoros04', 'ngatoros06'],\n ['jorkekneed', 'fidget'],\n ['tearawa01', 'pukn-1'],\n ['alpiner', 'sfiordmg13'],\n ['alpiner', 'sfiordmg13'],\n ['alpiner', 'sfiordmg13'],\n ['lkheron', 'foxpk'],\n ['ngatoros04', 'ngatoros02'],\n ['alpiner', 'fiordpusz09'],\n ['ohena02', 'ngatoros02'],\n ['alpiner', 'fiordsz03'],\n ['hopeconway', 'hanmer'],\n ['maketu01', 'okurei01'],\n ['braemar', 'waiohaun'],\n ['waitot1011', 'waitot8to9'],\n ['woodville', 'wellp'],\n ['alpiner', 'fiordpusz09'],\n ['barefell', 'awateresw'],\n ['jorkekneed', 'wairarapnich'],\n ['awatnevercl', 'awaterene'],\n ['motuokurae', 'hikhbaymax'],\n ['awatnevercl', 'awaterene'],\n ['alpinek2t', 'hopetara'],\n ['alpiner', 'sfiordmg13'],\n ['tauranga04', 'volkner01'],\n ['rangioffsh', 'himatangiant'],\n ['whakaari04', 'tumokemoke01'],\n ['caswell4', 'caswell3'],\n ['ruatorias1', 'hikraukmax'],\n ['ruatorias1', 'hikraukmax'],\n ['barefell', 'fowlers'],\n ['whiteis01', 'edgecumbcs'],\n ['tuhuan02', 'tuhuan01'],\n ['alpiner', 'fiordpusz09'],\n ['alpinek2t', 'kelly'],\n ['alpiner', 'sfiordmg13'],\n ['alpiner', 'fiordpusz09'],\n ['hopeterapa1n2', 'upperslope'],\n ['whirinakiall', 'ngakurunew'],\n ['hikwgtnmax', 'palliserkai'],\n ['arielbank', 'arieleast'],\n ['ruahinec', 'ruahinen'],\n ['cheeseman', 'harper'],\n ['tuakana05', 'tuakana06'],\n ['whirinakiall', 'paeroaall'],\n ['alpiner', 'fiordpusz09'],\n ['jorkekneed', 'fidget'],\n ['whareamabank', 'hikwgtnmax'],\n ['waimeas', 'wairau'],\n ['otaraeast05', 'wairaka01'],\n ['otaraeast04', 'otaraeast05'],\n ['ngatoros04', 'ngatoros03'],\n ['volkner03', 'volkner02'],\n ['hikwgtnmax', 'boobooall'],\n ['chalky1to3', 'fiordpusz09'],\n ['pukn-2', 'tumokemoke01'],\n ['hopeterapa1n2', 'upperslope'],\n ['alpiner', 'sfiordmg13'],\n ['paeroaall', 'maleme'],\n ['alpiner', 'fiordpusz09'],\n ['alpiner', 'fiordpusz09'],\n ['browning', 'alpinek2t'],\n ['fiordpusz09', 'sfiordmg13'],\n ['hope1888', 'kakapo'],\n ['alpiner', 'fiordpusz09'],\n ['alpinek2t', 'kelly'],\n ['otaraeast01', 'volkner04'],\n ['alpinek2t', 'kelly'],\n ['awatnevercl', 'awaterene'],\n ['awatnevercl', 'awaterene'],\n ['ohena02', 'ngatoros05'],\n ['astrolabe07', 'taurtrw02'],\n ['cheeseman', 'harper'],\n ['jorkekneed', 'wairarapnich'],\n ['hopeconwayos', 'ms05'],\n ['wharatocampb', 'boobooall'],\n ['alpiner', 'fiordpusz09'],\n ['alpinek2t', 'kelly'],\n ['arielbank', 'arielnorth'],\n ['edgecumbcs', 'edgecumb87'],\n ['jorkekneed', 'wairarapnich'],\n ['alpiner', 'sfiordmg13'],\n ['pukn-2', 'tumokemoke01'],\n ['jorkekneed', 'wairarapnich'],\n ['hopecw', 'hopetara'],\n ['hopeconway', 'hanmer'],\n ['matatara02', 'tauranga05'],\n ['kelly', 'hopetara'],\n ['hopeconwayos', 'ms05'],\n ['clarencecentr', 'clarencesw'],\n ['wharatocampb', 'boobooall'],\n ['cballeny', 'fiordpusz09'],\n ['tuakana12', 'taurtre06'],\n ['alpiner', 'sfiordmg13'],\n ['jorkekneed', 'fidget'],\n ['astrolabe05', 'astrolabe03'],\n ['onepoto', 'mascarin'],\n ['alpinek2t', 'hopetara'],\n ['astrolabe05', 'astrolabe04'],\n ['jorkekneed', 'fidget'],\n ['alpiner', 'fiordpusz09'],\n ['ngangiho', 'kaiapo'],\n ['alpiner', 'fiordpusz09'],\n ['poroutawhao', 'rangioffsh'],\n ['ngatoros01', 'ngatoros05'],\n ['orakeikorako', 'orakonui'],\n ['ashley', 'port2greys'],\n ['ngatoros02', 'ngatoros03'],\n ['alpiner', 'fiordpusz09'],\n ['hopecw', 'hopetara'],\n ['browning', 'kelly'],\n ['wharekauhau', 'wairarapnich'],\n ['otaraeast03', 'otaraeast05'],\n ['hopeconway', 'hanmer'],\n ['clarencecentr', 'clarencene'],\n ['swedge5', 'cw4swedge411'],\n ['hope1888', 'hanmer'],\n ['cw4swedge411', 'swedge3'],\n ['wharatocampb', 'boobooall'],\n ['jorkekneed', 'wairarapnich'],\n ['wharatocampb', 'boobooall'],\n ['raukumaraf17', 'raukumaraf18'],\n ['awatnever', 'awaterene'],\n ['alpiner', 'fiordpusz09'],\n ['alpiner', 'fiordpusz09'],\n ['alpinek2t', 'hopetara'],\n ['hopecw', 'hopetara'],\n ['alpiner', 'fiordpusz09'],\n ['jorkekneed', 'wairarapnich'],\n ['moutoki01', 'tokata01'],\n ['orakeikorako', 'orakonui'],\n ['alpiner', 'sfiordmg13'],\n ['maungatiw01', 'volkner04'],\n ['hopecw', 'hopetara'],\n ['hopecw', 'hopetara'],\n ['hikwgtnmax', 'madden'],\n ['waihis', 'poutu'],\n ['hikwgtnmax', 'urutibasin'],\n ['hopecw', 'hope1888'],\n ['alpiner', 'fiordpusz09'],\n ['paparoarf', 'maimai'],\n ['whangamataw', 'puketerata'],\n ['alpinef2k', 'browning'],\n ['whareamabank', 'hikwgtnmax'],\n ['alpiner', 'fiordpusz09'],\n ['hopeconwayos', 'ms05'],\n ['alpiner', 'fiordpusz09'],\n ['alpiner', 'fiordpusz09'],\n ['chalky4to8', 'fiordpusz09'],\n ['hikwgtnmax', 'hikhbaymax'],\n ['alpinef2k', 'alpinek2t'],\n ['alpiner', 'fiordpusz09'],\n ['alpiner', 'fiordpusz09'],\n ['awatnevercl', 'awaterene'],\n ['alpiner', 'sfiordmg13'],\n ['awatnevercl', 'awaterene'],\n ['alpiner', 'fiordpusz09'],\n ['hikwgtnmax', 'opouaweuruti'],\n ['otarawest02', 'otarawest01'],\n ['maketu02', 'whakaari01'],\n ['whakaari01', 'tumokemoke01'],\n ['alpinek2t', 'kelly'],\n ['gableend', 'arielnorth'],\n ['whangamataw', 'whakaipo'],\n ['tewheta', 'paeroaall'],\n ['gableend', 'arielbank'],\n ['tuakana09', 'taurtre06'],\n ['taurtre02', 'astrolabe07'],\n ['alpinef2k', 'alpinek2t'],\n ['alpiner', 'sfiordmg13'],\n ['awateresw', 'awaterene'],\n ['alpiner', 'fiordpusz09'],\n ['paparoarf', 'maimai'],\n ['alpinef2k', 'alpinek2t'],\n ['maketu01', 'okurei01'],\n ['hikhbaymax', 'madden'],\n ['hikhbaymax', 'madden'],\n ['awatnevercl', 'awaterene'],\n ['springfield', 'torlesse'],\n ['alpiner', 'sfiordmg13'],\n ['matatara02', 'tauranga05'],\n ['otarawest02', 'otarawest01'],\n ['waimanas', 'patokarang'],\n ['raukumaraf19', 'raukumaraf18'],\n ['whakaari03', 'whakaari02'],\n ['otarawest02', 'taurtre01'],\n ['hollyford', 'alpinef2k'],\n ['mascarin', 'fisherman'],\n ['whakaari03', 'whakaari02'],\n ['barefell', 'awateresw'],\n ['cballeny', 'fiordpusz09'],\n ['browning', 'kelly'],\n ['alpinek2t', 'awateresw'],\n ['tuatoru02', 'tuatoru03'],\n ['hopecw', 'hopetara'],\n ['alpinef2k', 'milfordb1'],\n ['alpiner', 'sfiordmg13'],\n ['alpiner', 'sfiordmg13'],\n ['alpiner', 'fiordpusz09'],\n ['tewheta', 'paeroaall'],\n ['volkner01', 'tumokemoke01'],\n ['maungatiw01', 'volkner05'],\n ['astrolabe07', 'taurtrw02'],\n ['jorkekneed', 'fidget'],\n ['awatnevercl', 'awaterene'],\n ['tearawa01', 'whiteis03'],\n ['alpiner', 'fiordpusz09'],\n ['clarencecentr', 'clarencesw'],\n ['tuatoru02', 'tearawa01'],\n ['tarawera05', 'tauranga03'],\n ['tewheta', 'ngakurunew'],\n ['hikwgtnmax', 'pahaua'],\n ['hikwgtnmax', 'pahaua'],\n ['whirinakiall', 'ngakurunew'],\n ['swedge5', 'cw4swedge411'],\n ['ohena04', 'ohena03'],\n ['wharekauhau', 'wairarapnich'],\n ['kelly', 'hopetara'],\n ['maungatiw01', 'volkner05'],\n ['tauranga05', 'tauranga03'],\n ['alpiner', 'sfiordmg13'],\n ['alpiner', 'fiordpusz09'],\n ['otaraeast03', 'otaraeast05'],\n ['matata', 'edgecumbcs'],\n ['alpiner', 'fiordpusz09'],\n ['clarencecentr', 'clarencene'],\n ['awatnevercl', 'awaterene'],\n ['hikwgtnmax', 'pahaua'],\n ['alpiner', 'sfiordmg13'],\n ['whiteis01', 'edgecumbcs'],\n ['fiordpusz09', 'sfiordmg13'],\n ['fiordpusz09', 'sfiordmg13'],\n ['rangioffsh', 'himatangiant'],\n ['hundalee', 'hopeconway'],\n ['awatnevercl', 'awaterene'],\n ['onepoto', 'okupe'],\n ['barefell', 'awateresw'],\n ['hawkebay2', 'napier1931'],\n ['ruahinec', 'ruahinen'],\n ['clarencecentr', 'clarencesw'],\n ['clarencecentr', 'clarencesw'],\n ['wkm-1', 'waikaremoana'],\n ['alpiner', 'fiordpusz09'],\n ['taurtre02', 'astrolabe07'],\n ['hikwgtnmax', 'poranagw1'],\n ['hikwgtnmax', 'madden'],\n ['hikwgtnmax', 'pahaua'],\n ['calypso03', 'whiteis02'],\n ['alpinef2k', 'browning'],\n ['maungatiw01', 'volkner04'],\n ['jorkekneed', 'wairarapnich'],\n ['hikhbaymax', 'madden'],\n ['jorkekneed', 'wairarapnich'],\n ['whakaari02', 'pokare02'],\n ['tuhuan02', 'astrolabe02'],\n ['alpiner', 'sfiordmg13'],\n ['ohiwanorth01', 'tearawa01'],\n ['ohena04', 'ngatoros01'],\n ['alpiner', 'fiordpusz09'],\n ['whangamataw', 'orakonui'],\n ['orakeikorako', 'puketerata'],\n ['alpiner', 'fiordpusz09'],\n ['browning', 'kelly'],\n ['rangioffsh', 'himatangiant'],\n ['alpiner', 'fiordpusz09'],\n ['taurtrw05', 'taurtre05'],\n ['jorkekneed', 'fidget'],\n ['awatnevercl', 'awaterene'],\n ['whakaari04', 'tumokemoke01'],\n ['alpiner', 'fiordpusz09'],\n ['whareamabank', 'hikwgtnmax'],\n ['whareamabank', 'hikwgtnmax'],\n ['caswellh67', 'caswell5'],\n ['tuakana04', 'tuakana03'],\n ['awatnevercl', 'awaterene'],\n ['alpiner', 'fiordpusz09'],\n ['tuakana07', 'taurtre06'],\n ['ohena04', 'ohena03'],\n ['matatara02', 'tauranga05'],\n ['alpiner', 'sfiordmg13'],\n ['hope1888', 'kakapo'],\n ['waihis', 'treetrunk'],\n ['otaraeast01', 'whiteisn01'],\n ['alpiner', 'fiordpusz09'],\n ['alpinek2t', 'hopetara'],\n ['jorkekneed', 'wairarapnich'],\n ['wharatocampb', 'boobooall'],\n ['hikwgtnmax', 'boobooall'],\n ['clarencecentr', 'clarencesw'],\n ['arielbank', 'arielnorth'],\n ['taurtre04', 'taurtrw05'],\n ['alpiner', 'fiordpusz09'],\n ['opouaweuruti', 'boobooall'],\n ['awatnevercl', 'awaterene'],\n ['alpiner', 'sfiordmg13'],\n ['whiteis01', 'piripai01'],\n ['rangioffsh', 'himatangiant'],\n ['braemar', 'edgecumb87'],\n ['maungatiw01', 'volkner04'],\n ['otaraeast04', 'otaraeast05'],\n ['jorkekneed', 'fidget'],\n ['alpinef2k', 'alpinek2t'],\n ['alpiner', 'fiordpusz09'],\n ['georger1', 'milb5geor2'],\n ['braemar', 'rotoiti'],\n ['fiordpusz09', 'sfiordmg13'],\n ['awatnevercl', 'awaterene'],\n ['motuokurae', 'hikhbaymax'],\n ['alpiner', 'sfiordmg13'],\n ['ohena02', 'taurtrw02'],\n ['whangamataw', 'orakonui'],\n ['hikwgtnmax', 'boobooall'],\n ['alpiner', 'fiordpusz09'],\n ['alpiner', 'fiordpusz09'],\n ['alpiner', 'fiordpusz09'],\n ['alpinek2t', 'clarencesw'],\n ['fiordpusz09', 'sfiordmg13'],\n ['wharatocampb', 'boobooall'],\n ['hikwgtnmax', 'boobooall'],\n ['tuakana02', 'tauranga05'],\n ['awatnevercl', 'awaterene'],\n ['barefell', 'awateresw'],\n ['fiordsz03', 'sfiordmg13'],\n ['rangioffsh', 'himatangiant'],\n ['otaraeast01', 'whiteisn01'],\n ['alpinek2t', 'kelly'],\n ['maungatiw01', 'volkner05'],\n ['hikwgtnmax', 'pahaua'],\n ['cw4swedge411', 'swedge3'],\n ['barefell', 'fowlers'],\n ['arielbank', 'arieleast'],\n ['braemar', 'rotoiti'],\n ['nmfzk1', 'nmfzk2'],\n ['alpinef2k', 'alpinek2t'],\n ['alpiner', 'fiordpusz09'],\n ['alpiner', 'fiordpusz09'],\n ['alpiner', 'fiordpusz09'],\n ['braemar', 'edgecumb87'],\n ['otaraeast04', 'wairaka01'],\n ['matata', 'edgecumb87'],\n ['whakaari02', 'tumokemoke01'],\n ['hopecw', 'hope1888'],\n ['awatnevercl', 'awaterene'],\n ['nmfzf2', 'nmfzf1'],\n ['matata', 'edgecumbcs'],\n ['hollyford', 'alpinef2k'],\n ['hikwgtnmax', 'pahaua'],\n ['clarencecentr', 'clarencesw'],\n ['hopeconway', 'hanmer'],\n ['fiordpusz09', 'sfiordmg13'],\n ['jorkekneed', 'fidget'],\n ['ran-02', 'ohiwa01'],\n ['mohakan', 'whakatanes'],\n ['matatara03', 'tauranga05'],\n ['hopecw', 'hope1888'],\n ['jorkekneed', 'fidget'],\n ['ashley', 'leesv'],\n ['swedge5', 'cw4swedge411'],\n ['fiordpusz09', 'sfiordmg13'],\n ['ruatorias1', 'hikraukmax'],\n ['cw4swedge411', 'swedge3'],\n ['ohena01', 'ohena03'],\n ['alpiner', 'fiordpusz09'],\n ['clarencecentr', 'clarencesw'],\n ['alpinek2t', 'kelly'],\n ['alpiner', 'fiordpusz09'],\n ['hikwgtnmax', 'pahaua'],\n ['whakaari02', 'whakaari01'],\n ['ran-02', 'ran-01'],\n ['cballeny', 'fiordpusz09'],\n ['alpinef2k', 'alpinek2t'],\n ['alpiner', 'sfiordmg13'],\n ['tewheta', 'paeroaall'],\n ['nmfze1', 'nmfz4647'],\n ['awatnevercl', 'awaterene'],\n ['hopeterapa1n2', 'upperslope'],\n ['awatnevercl', 'awaterene'],\n ['whakaari03', 'whakaari02'],\n ['browning', 'alpinek2t'],\n ['hopecw', 'hopetara'],\n ['wharatocampb', 'boobooall'],\n ['whakaari02', 'tumokemoke01'],\n ['awatnevercl', 'awaterene'],\n ['nukuhou01', 'tumokemoke01'],\n ['alpiner', 'fiordpusz09'],\n ['fiordpusz09', 'sfiordmg13'],\n ['jorkekneed', 'wairarapnich'],\n ['hikhbaymax', 'madden'],\n ['alpiner', 'fiordpusz09'],\n ['alpiner', 'sfiordmg13'],\n ['patokarang', 'mohakas'],\n ['hikwgtnmax', 'opouaweuruti'],\n ['alpiner', 'fiordpusz09'],\n ['opouaweuruti', 'boobooall'],\n ['onepoto', 'mascarin'],\n ['alpiner', 'fiordpusz09'],\n ['alpinek2t', 'hopetara'],\n ['tuatoru01', 'ohiwanorth01'],\n ['alpiner', 'sfiordmg13'],\n ['tuakana09', 'taurtre06'],\n ['alpiner', 'sfiordmg13'],\n ['maungatiw01', 'volkner05'],\n ['ohena04', 'ohena03'],\n ['ran-02', 'ran-01'],\n ['waiohaus', 'tewhaiti'],\n ['otarawest02', 'otarawest01'],\n ['ngatoros04', 'ngatoros02'],\n ['volkner03', 'matatara04'],\n ['raurimu', 'nationalpk'],\n ['waihiw', 'treetrunk'],\n ['urewera3', 'opotiki02'],\n ['urewera3', 'raukumaraf13'],\n ['woodville', 'wellp'],\n ['waihis', 'rangipon'],\n ['alfmakuri', 'volkner03'],\n ['whakaari04', 'tumokemoke01'],\n ['alpiner', 'fiordpusz09'],\n ['georger1', 'fiordmar1&2'],\n ['alpiner', 'fiordpusz09'],\n ['tarawera05', 'tarawera03'],\n ['cw4swedge411', 'swedge3'],\n ['waihie', 'treetrunk'],\n ['browning', 'kelly'],\n ['awatnevercl', 'awaterene'],\n ['fiordpusz09', 'sfiordmg13'],\n ['alpiner', 'sfiordmg13'],\n ['tuakana01', 'tuakana02'],\n ['alpiner', 'fiordpusz09'],\n ['whakaari03', 'whakaari02'],\n ['hopecw', 'hopetara'],\n ['alpiner', 'sfiordmg13'],\n ['volkner04', 'volkner05'],\n ['volkner04', 'volkner05'],\n ['waimanan', 'waikaremoana'],\n ['alpiner', 'fiordpusz09'],\n ['ngatoros04', 'ngatoros05'],\n ['hopecw', 'hope1888'],\n ['tauranga04', 'tauranga03'],\n ['alpiner', 'fiordpusz09'],\n ['otaraeast03', 'otaraeast04'],\n ['barefell', 'fowlers'],\n ['browning', 'kelly'],\n ['hopecw', 'hopetara'],\n ['ohena02', 'ngatoros02'],\n ['ohena02', 'ngatoros02'],\n ['fiordpusz09', 'sfiordmg13'],\n ['ohakuri', 'orakonui'],\n ['georger1', 'fiordmar1&2'],\n ['hikwgtnmax', 'pahaua'],\n ['alpiner', 'fiordsz03'],\n ['ohena02', 'ngatoros02'],\n ['springfield', 'torlesse'],\n ['mascarin', 'fisherman'],\n ['fiordpusz09', 'sfiordmg13'],\n ['matatara03', 'maungatie01'],\n ['alpiner', 'fiordpusz09'],\n ['awatnevercl', 'awaterene'],\n ['awatnevercl', 'awaterene'],\n ['ohena02', 'taurtrw03'],\n ['alpinef2k', 'alpinek2t'],\n ['alpiner', 'fiordpusz09'],\n ['jorkekneed', 'wairarapnich'],\n ['cw4swedge411', 'swedge3'],\n ['otaraeast03', 'otaraeast05'],\n ['gableend', 'arielnorth'],\n ['otaraeast03', 'otaraeast05'],\n ['alpiner', 'sfiordmg13'],\n ['alpiner', 'fiordpusz09'],\n ['alpinef2k', 'alpinek2t'],\n ['alpiner', 'fiordpusz09'],\n ['waimeas', 'wairau'],\n ['volkner04', 'volkner05'],\n ['hundalee', 'kaiwaran'],\n ['whiteis01', 'motuhoras01'],\n ['tarawera03', 'tauranga03'],\n ['alpinek2t', 'wairau'],\n ['fiordpusz09', 'sfiordmg13'],\n ['alpiner', 'sfiordmg13'],\n ['tumokemoke02', 'tauranga05'],\n ['kaiwaras', 'omihi'],\n ['jorkekneed', 'wairarapnich'],\n ['awatnevercl', 'awaterene'],\n ['alpinek2t', 'hopetara'],\n ['browning', 'alpinek2t'],\n ['edgecumbcs', 'edgecumb87'],\n ['hopeterapa1n2', 'upperslope'],\n ['ruatorias1', 'ruatorias2'],\n ['calypso02', 'tumokemoke01'],\n ['alpiner', 'fiordpusz09'],\n ['ruatorias1', 'ruatorias2'],\n ['ruatorias1', 'hikraukmax'],\n ['gableend', 'arielnorth'],\n ['alpiner', 'fiordpusz09'],\n ['braemar', 'rotoiti'],\n ['alpinef2k', 'alpinek2t'],\n ['ruatorias1', 'hikraukmax'],\n ['otaraeast03', 'otaraeast05'],\n ['otaraeast06', 'otaraeast05'],\n ['motuokurae', 'hikhbaymax'],\n ['hopeterapa1n2', 'upperslope'],\n ['alpiner', 'fiordpusz09'],\n ['alpinek2t', 'awateresw'],\n ['volkner03', 'volkner04'],\n ['awatnevercl', 'awaterene'],\n ['hopecw', 'hopetara'],\n ['hopecw', 'hopetara'],\n ['pukn-2', 'tumokemoke01'],\n ['ran-02', 'piripai01'],\n ['motuokurae', 'hikhbaymax'],\n ['alpiner', 'sfiordmg13'],\n ['whangamata', 'ngangiho'],\n ['moutoki02', 'pukn-2'],\n ['paeroaall', 'ngakurusw'],\n ['otaraeast02', 'wairaka01'],\n ['browning', 'alpinek2t'],\n ['cust', 'port2greys'],\n ['hopeterapa1n2', 'upperslope'],\n ['mascarin', 'okupe'],\n ['hopeterapa1n2', 'upperslope'],\n ['mascarin', 'fisherman'],\n ['aldermanw01', 'aldermane01'],\n ['ngangiho', 'kaiapo'],\n ['volkner04', 'volkner05'],\n ['volkner04', 'otarawest01'],\n ['awatnevercl', 'awaterene'],\n ['hopecw', 'hopetara'],\n ['whiteis01', 'edgecumbcs'],\n ['alpiner', 'sfiordmg13'],\n ['nevis', 'moonlightnth'],\n ['tuakana11', 'taurtre06'],\n ['hopecw', 'hopetara'],\n ['alpiner', 'sfiordmg13'],\n ['leesv', 'port2greys'],\n ['tuakana09', 'taurtre06'],\n ['calypso03', 'calypso02'],\n ['tuakana09', 'taurtre06'],\n ['awatnevercl', 'awaterene'],\n ['astrolabe05', 'taurtre06'],\n ['hopeconway', 'hanmer'],\n ['tuakana02', 'tuakana03'],\n ['matatara04', 'volkner02'],\n ['tuakana02', 'tuakana03'],\n ['alpiner', 'fiordpusz09'],\n ['alpiner', 'sfiordmg13'],\n ['whiteisn01', 'tearawa03'],\n ['taurtrw01', 'taurtrw02'],\n ['wellp', 'mohakas'],\n ['tuakana09', 'taurtre06'],\n ['alpiner', 'fiordsz03'],\n ['ohena04', 'ngatoros02'],\n ['ohena02', 'ngatoros02'],\n ['tarawera05', 'tarawera03'],\n ['maungatiw01', 'volkner04'],\n ['whakaari04', 'tumokemoke01'],\n ['hopecw', 'hopetara'],\n ['lowry', 'kaiwaran'],\n ['onepoto', 'mascarin'],\n ['hopecw', 'hope1888'],\n ['whakaari04', 'tumokemoke01'],\n ['volkner01', 'tumokemoke01'],\n ['raurimu', 'nationalpk'],\n ['tearawa01', 'pukn-1'],\n ['waihiw', 'waihie'],\n ['otaraeast02', 'otaraeast01'],\n ['alpiner', 'fiordpusz09'],\n ['alpiner', 'sfiordmg13'],\n ['alpiner', 'fiordpusz09'],\n ['hopecw', 'hopetara'],\n ['alpiner', 'sfiordmg13'],\n ['tuakana11', 'tuakana07'],\n ['otaraeast04', 'otaraeast05'],\n ['hikwgtnmax', 'pahaua'],\n ['fiordpusz09', 'sfiordmg13'],\n ['mascarin', 'fisherman'],\n ['urewera3', 'opotiki02'],\n ['moutoki02', 'pukn-2'],\n ['wellteast', 'akaotaki'],\n ['alpiner', 'fiordpusz09'],\n ['braemar', 'edgecumb87'],\n ['georger1', 'fiordmar1&2'],\n ['browning', 'kelly'],\n ['jorkekneed', 'wairarapnich'],\n ['tuakana02', 'tuakana03'],\n ['alpiner', 'fiordpusz09'],\n ['hikwgtnmax', 'boobooall'],\n ['alpiner', 'fiordpusz09'],\n ['clarencesw', 'clarencene'],\n ['alpinef2k', 'alpinek2t'],\n ['astrolabe07', 'astrolabe08'],\n ['matatara01', 'astrolabe01'],\n ['rangioffsh', 'himatangiant'],\n ['waihiw', 'waihie'],\n ['onepoto', 'mascarin'],\n ['alpiner', 'fiordpusz09'],\n ['tuakana02', 'tuakana03'],\n ['awatnevercl', 'awaterene'],\n ['maungatiw01', 'volkner04'],\n ['alpiner', 'fiordpusz09'],\n ['wharatocampb', 'boobooall'],\n ['alpinek2t', 'kelly'],\n ['alpinef2k', 'alpinek2t'],\n ['alpinek2t', 'kelly'],\n ['otarawest03', 'whiteisn01'],\n ['awatnevercl', 'awaterene'],\n ['browning', 'alpinek2t'],\n ['hope1888', 'hanmer'],\n ['waihis', 'treetrunk'],\n ['alpiner', 'fiordpusz09'],\n ['hikwgtnmax', 'honeycomb'],\n ['alpinef2k', 'milfordb1'],\n ['hikwgtnmax', 'pahaua'],\n ['esk', 'waitohi'],\n ['hikwgtnmax', 'hikhbaymax'],\n ['hikwgtnmax', 'wharatocampb'],\n ['whakaari01', 'tumokemoke01'],\n ['hikwgtnmax', 'pahaua'],\n ['alpiner', 'sfiordmg13'],\n ['waitot1011', 'waitot8to9'],\n ['onepoto', 'mascarin'],\n ['swedge5', 'cw4swedge411'],\n ['hikwgtnmax', 'pahaua'],\n ['maungatiw02', 'volkner04'],\n ['edgecumbcs', 'edgecumb87'],\n ['volkner04', 'volkner05'],\n ['georger1', 'fiordmar1&2'],\n ['alpiner', 'fiordsz03'],\n ['jorkekneed', 'fidget'],\n ['taurtrw03', 'taurtrw02'],\n ['astrolabe07', 'taurtrw02'],\n ['braemar', 'edgecumb87'],\n ['hikwgtnmax', 'opouaweuruti'],\n ['otaraeast03', 'otaraeast05'],\n ['taurtrw01', 'astrolabe07'],\n ['alpiner', 'sfiordmg13'],\n ['cw4swedge411', 'swedge3'],\n ['hopecw', 'hopetara'],\n ['alpinef2k', 'alpinek2t'],\n ['tuakana09', 'taurtre06'],\n ['maungatiw01', 'volkner05'],\n ['braemar', 'rotoiti'],\n ['braemar', 'rotoiti'],\n ['alpiner', 'sfiordmg13'],\n ['alpiner', 'fiordpusz09'],\n ['whirinakiall', 'maleme'],\n ['jorkekneed', 'fidget'],\n ['alpinef2k', 'alpinek2t'],\n ['awatnevercl', 'awaterene'],\n ['hikwgtnmax', 'hikhbaymax'],\n ['alpiner', 'sfiordmg13'],\n ['kaiwaras', 'omihi'],\n ['hikwgtnmax', 'opouaweuruti'],\n ['hollyford', 'alpinef2k'],\n ['browning', 'alpinek2t'],\n ['hopecw', 'hopetara'],\n ['wharatocampb', 'boobooall'],\n ['clarencecentr', 'clarencesw'],\n ['hopeterapa1n2', 'upperslope'],\n ['kaiwaras', 'omihi'],\n ['kaiwaras', 'omihi'],\n ['whakaari04', 'tumokemoke01'],\n ['hopeconway', 'hanmer'],\n ['tuakana06', 'tuakana03'],\n ['riversdale', 'mataikona'],\n ['cheeseman', 'harper'],\n ['braemar', 'awakeri'],\n ['waimarama1&2', 'waimarama3&4'],\n ['hopecw', 'hope1888'],\n ['clarencecentr', 'clarencesw'],\n ['maungatiw01', 'maungatie01'],\n ['jorkekneed', 'wairarapnich'],\n ['hikwgtnmax', 'opouaweuruti'],\n ['barefell', 'awateresw'],\n ['tuahenir', 'hikraukmax'],\n ['whangamataw', 'whakaipo'],\n ['alpiner', 'fiordpusz09'],\n ['hikwgtnmax', 'urutibasin'],\n ['jorkekneed', 'fidget'],\n ['wairaka04', 'wairaka02'],\n ['tauranga02', 'tauranga01'],\n ['browning', 'kelly'],\n ['volkner03', 'volkner04'],\n ['calypso02', 'tumokemoke01'],\n ['cballeny', 'fiordpusz09'],\n ['alpiner', 'fiordpusz09'],\n ['waihiw', 'poutu'],\n ['ohena03', 'ngatoros06'],\n ['leedstown', 'martonant'],\n ['matatara03', 'volkner02'],\n ['hopecw', 'hope1888'],\n ['ruatorias1', 'hikraukmax'],\n ['alpiner', 'sfiordmg13'],\n ['hopeterapa1n2', 'upperslope'],\n ['ruatorias1', 'hikraukmax'],\n ['alpinek2t', 'kelly'],\n ['awatnevercl', 'awaterene'],\n ['awatnevercl', 'awaterene'],\n ['ruatorias1', 'ruatorias2'],\n ['taurtrw03', 'ohena03'],\n ['alpiner', 'fiordpusz09'],\n ['barefell', 'awateresw'],\n ['alpiner', 'fiordsz03'],\n ['hopeterapa1n2', 'upperslope'],\n ['alpiner', 'fiordpusz09'],\n ['otaraeast04', 'otaraeast05'],\n ['ohena02', 'ngatoros05'],\n ['ngakurunew', 'paeroaall'],\n ['browning', 'alpinek2t'],\n ['braemar', 'rotoiti'],\n ['hopeconway', 'hanmer'],\n ['fiordpusz09', 'sfiordmg13'],\n ['aldermanw02', 'aldermane03'],\n ['ohena01', 'astrolabe06'],\n ['ruatorias1', 'ruatorias2'],\n ['ngatoros04', 'ngatoros02'],\n ['ngatoros04', 'ngatoros03'],\n ['awatnevercl', 'awaterene'],\n ['braemar', 'edgecumb87'],\n ['whangamata', 'ngangiho'],\n ['palliserkai', 'urutibasin'],\n ['fiordpusz09', 'sfiordmg13'],\n ['alpiner', 'fiordpusz09'],\n ['alpinef2k', 'milfordb1'],\n ['alpiner', 'fiordpusz09'],\n ['esk', 'waitohi'],\n ['alpiner', 'fiordpusz09'],\n ['volkner03', 'volkner04'],\n ['tuatoru02', 'tearawa03'],\n ['awatnevercl', 'awaterene'],\n ['alpiner', 'fiordpusz09'],\n ['jorkekneed', 'fidget'],\n ['alpiner', 'sfiordmg13'],\n ['swedge5', 'cw4swedge411'],\n ['otaraeast01', 'whiteisn01'],\n ['maketu02', 'tauranga03'],\n ['hikraukmax', 'houtunui'],\n ['ruatorias1', 'ruatorias2'],\n ['alpiner', 'sfiordmg13'],\n ['tarawera04', 'tauranga01'],\n ['alpiner', 'fiordpusz09'],\n ['braemar', 'rotoiti'],\n ['alpinek2t', 'kelly'],\n ['oruakukuru', 'waipuna'],\n ['volkner01', 'tumokemoke01'],\n ['tuakana09', 'tuakana07'],\n ['clarencecentr', 'clarencesw'],\n ['whiteisn01', 'tearawa03'],\n ['alpiner', 'fiordpusz09'],\n ['alpiner', 'fiordpusz09'],\n ['alpiner', 'fiordpusz09'],\n ['whangamataw', 'orakonui'],\n ['tuakana09', 'tuakana07'],\n ['tuakana09', 'taurtre06'],\n ['astrolabe01', 'astrolabe03'],\n ['hikwgtnmax', 'wairarapnich'],\n ['motuokurae', 'hikhbaymax'],\n ['whirinakiall', 'maleme'],\n ['hopecw', 'hopetara'],\n ['alpinek2t', 'kelly'],\n ['tokata01', 'thornton02'],\n ['clarencecentr', 'clarencene'],\n ['awatnevercl', 'awaterene'],\n ['tauranga01', 'tarawera03'],\n ['alpinef2k', 'alpinek2t'],\n ['ruatorias1', 'hikraukmax'],\n ['alpiner', 'sfiordmg13'],\n ['ohena04', 'ngatoros01'],\n ['tuakana11', 'tuakana07'],\n ['matata', 'awakeri'],\n ['hikwgtnmax', 'pahaua'],\n ['ruatorias1', 'hikraukmax'],\n ['gableend', 'arielnorth'],\n ['alpiner', 'fiordpusz09'],\n ['whakaari03', 'whakaari02'],\n ['tuakana02', 'tuakana03'],\n ['maungatiw01', 'volkner04'],\n ['jorkekneed', 'fidget'],\n ['maungatiw01', 'volkner03'],\n ['caswell4', 'caswell3'],\n ['alpiner', 'sfiordmg13'],\n ['ruatorias1', 'ruatorias2'],\n ['hopecw', 'hopetara'],\n ['hopecw', 'hope1888'],\n ['hopecw', 'hopetara'],\n ['hikwgtnmax', 'wairau'],\n ['tarawera03', 'tauranga03'],\n ['maungatiw02', 'maungatie01'],\n ['palliserkai', 'urutibasin'],\n ['whakaari03', 'whakaari02'],\n ['whiteis01', 'piripai01'],\n ['alpinek2t', 'kelly'],\n ['otaraeast01', 'volkner04'],\n ['ohena04', 'ngatoros02'],\n ['awatnevercl', 'awaterene'],\n ['alpinek2t', 'hopetara'],\n ['barefell', 'awateresw'],\n ['clarencecentr', 'clarencesw'],\n ['clarencecentr', 'clarencesw'],\n ['awatnevercl', 'awaterene'],\n ['jorkekneed', 'fidget'],\n ['whirinakiall', 'tuahu'],\n ['braemar', 'rotoiti'],\n ['otaraeast05', 'wairaka01'],\n ['horohoro', 'ngapouri'],\n ['hope1888', 'hanmer'],\n ['hopecw', 'hope1888'],\n ['domino02', 'tauranga03'],\n ['whiteis01', 'piripai01'],\n ['ohena04', 'ohena03'],\n ['whiteis01', 'piripai01'],\n ['hope1888', 'kakapo'],\n ['whiteis01', 'piripai01'],\n ['alpiner', 'sfiordmg13'],\n ['ngatoros01', 'ngatoros05'],\n ['hopecw', 'hopetara'],\n ['tarawera04', 'tauranga01'],\n ['whangamata', 'whakaipo'],\n ['otarawest02', 'taurtre01'],\n ['awatnevercl', 'awaterene'],\n ['maungatiw01', 'maungatiw02'],\n ['alpiner', 'fiordpusz09'],\n ['awatnevercl', 'awaterene'],\n ['matatara03', 'matatara04'],\n ['tumokemoke02', 'tuakana02'],\n ['browning', 'kelly'],\n ['alpiner', 'fiordsz03'],\n ['alpinef2k', 'alpinek2t'],\n ...]"
     },
     "execution_count": 17,
     "metadata": {},
     "output_type": "execute_result"
    }
   ],
   "source": [
    "faultName='alpiner'\n",
    "#access list of lists of fault names\n",
    "fault_list=[multifault_db['Fault_names'].values[i] for i in np.arange(0,len(multifault_db['Fault_names'].values))]\n",
    "fault_list"
   ],
   "metadata": {
    "collapsed": false,
    "pycharm": {
     "name": "#%%\n"
    }
   }
  },
  {
   "cell_type": "code",
   "execution_count": 19,
   "outputs": [
    {
     "data": {
      "text/plain": "[['alpiner', 'sfiordmg13'],\n ['alpiner', 'fiordsz03'],\n ['alpiner', 'sfiordmg13'],\n ['alpiner', 'sfiordmg13'],\n ['alpiner', 'fiordpusz09'],\n ['alpiner', 'sfiordmg13'],\n ['alpiner', 'fiordpusz09'],\n ['alpiner', 'sfiordmg13'],\n ['alpiner', 'sfiordmg13'],\n ['alpiner', 'fiordsz03'],\n ['alpiner', 'fiordpusz09'],\n ['alpiner', 'fiordpusz09'],\n ['alpiner', 'sfiordmg13'],\n ['alpiner', 'sfiordmg13'],\n ['alpiner', 'fiordpusz09'],\n ['alpiner', 'fiordpusz09'],\n ['alpiner', 'fiordpusz09'],\n ['alpiner', 'fiordpusz09'],\n ['alpiner', 'fiordpusz09'],\n ['alpiner', 'fiordsz03'],\n ['alpiner', 'fiordpusz09'],\n ['alpiner', 'sfiordmg13'],\n ['alpiner', 'fiordpusz09'],\n ['alpiner', 'sfiordmg13'],\n ['alpiner', 'fiordpusz09'],\n ['alpiner', 'sfiordmg13'],\n ['alpiner', 'sfiordmg13'],\n ['alpiner', 'sfiordmg13'],\n ['alpiner', 'fiordpusz09'],\n ['alpiner', 'fiordsz03'],\n ['alpiner', 'fiordpusz09'],\n ['alpiner', 'sfiordmg13'],\n ['alpiner', 'fiordpusz09'],\n ['alpiner', 'sfiordmg13'],\n ['alpiner', 'fiordpusz09'],\n ['alpiner', 'fiordpusz09'],\n ['alpiner', 'sfiordmg13'],\n ['alpiner', 'fiordpusz09'],\n ['alpiner', 'fiordpusz09'],\n ['alpiner', 'fiordpusz09'],\n ['alpiner', 'fiordpusz09'],\n ['alpiner', 'sfiordmg13'],\n ['alpiner', 'sfiordmg13'],\n ['alpiner', 'fiordpusz09'],\n ['alpiner', 'fiordpusz09'],\n ['alpiner', 'fiordpusz09'],\n ['alpiner', 'fiordpusz09'],\n ['alpiner', 'fiordpusz09'],\n ['alpiner', 'fiordpusz09'],\n ['alpiner', 'sfiordmg13'],\n ['alpiner', 'fiordpusz09'],\n ['alpiner', 'fiordpusz09'],\n ['alpiner', 'fiordpusz09'],\n ['alpiner', 'fiordpusz09'],\n ['alpiner', 'fiordpusz09'],\n ['alpiner', 'fiordpusz09'],\n ['alpiner', 'sfiordmg13'],\n ['alpiner', 'fiordpusz09'],\n ['alpiner', 'sfiordmg13'],\n ['alpiner', 'fiordpusz09'],\n ['alpiner', 'sfiordmg13'],\n ['alpiner', 'sfiordmg13'],\n ['alpiner', 'sfiordmg13'],\n ['alpiner', 'fiordpusz09'],\n ['alpiner', 'fiordpusz09'],\n ['alpiner', 'sfiordmg13'],\n ['alpiner', 'fiordpusz09'],\n ['alpiner', 'fiordpusz09'],\n ['alpiner', 'sfiordmg13'],\n ['alpiner', 'fiordpusz09'],\n ['alpiner', 'sfiordmg13'],\n ['alpiner', 'fiordpusz09'],\n ['alpiner', 'fiordpusz09'],\n ['alpiner', 'fiordpusz09'],\n ['alpiner', 'fiordpusz09'],\n ['alpiner', 'fiordpusz09'],\n ['alpiner', 'sfiordmg13'],\n ['alpiner', 'fiordpusz09'],\n ['alpiner', 'fiordpusz09'],\n ['alpiner', 'sfiordmg13'],\n ['alpiner', 'fiordpusz09'],\n ['alpiner', 'sfiordmg13'],\n ['alpiner', 'fiordpusz09'],\n ['alpiner', 'fiordpusz09'],\n ['alpiner', 'fiordpusz09'],\n ['alpiner', 'fiordpusz09'],\n ['alpiner', 'fiordpusz09'],\n ['alpiner', 'fiordpusz09'],\n ['alpiner', 'fiordpusz09'],\n ['alpiner', 'fiordpusz09'],\n ['alpiner', 'sfiordmg13'],\n ['alpiner', 'fiordpusz09'],\n ['alpiner', 'fiordpusz09'],\n ['alpiner', 'sfiordmg13'],\n ['alpiner', 'fiordpusz09'],\n ['alpiner', 'fiordpusz09'],\n ['alpiner', 'sfiordmg13'],\n ['alpiner', 'sfiordmg13'],\n ['alpiner', 'fiordpusz09'],\n ['alpiner', 'fiordpusz09'],\n ['alpiner', 'sfiordmg13'],\n ['alpiner', 'fiordpusz09'],\n ['alpiner', 'sfiordmg13'],\n ['alpiner', 'fiordpusz09'],\n ['alpiner', 'fiordpusz09'],\n ['alpiner', 'fiordsz03'],\n ['alpiner', 'fiordpusz09'],\n ['alpiner', 'fiordpusz09'],\n ['alpiner', 'sfiordmg13'],\n ['alpiner', 'fiordpusz09'],\n ['alpiner', 'fiordpusz09'],\n ['alpiner', 'sfiordmg13'],\n ['alpiner', 'fiordpusz09'],\n ['alpiner', 'fiordpusz09'],\n ['alpiner', 'fiordpusz09'],\n ['alpiner', 'sfiordmg13'],\n ['alpiner', 'sfiordmg13'],\n ['alpiner', 'sfiordmg13'],\n ['alpiner', 'fiordpusz09'],\n ['alpiner', 'sfiordmg13'],\n ['alpiner', 'fiordsz03'],\n ['alpiner', 'fiordpusz09'],\n ['alpiner', 'sfiordmg13'],\n ['alpiner', 'fiordpusz09'],\n ['alpiner', 'sfiordmg13'],\n ['alpiner', 'fiordpusz09'],\n ['alpiner', 'fiordpusz09'],\n ['alpiner', 'fiordpusz09'],\n ['alpiner', 'fiordpusz09'],\n ['alpiner', 'fiordpusz09'],\n ['alpiner', 'fiordpusz09'],\n ['alpiner', 'sfiordmg13'],\n ['alpiner', 'fiordsz03'],\n ['alpiner', 'sfiordmg13'],\n ['alpiner', 'sfiordmg13'],\n ['alpiner', 'fiordpusz09'],\n ['alpiner', 'sfiordmg13'],\n ['alpiner', 'fiordpusz09'],\n ['alpiner', 'fiordpusz09'],\n ['alpiner', 'sfiordmg13'],\n ['alpiner', 'fiordpusz09'],\n ['alpiner', 'fiordsz03'],\n ['alpiner', 'fiordpusz09'],\n ['alpiner', 'fiordpusz09'],\n ['alpiner', 'fiordpusz09'],\n ['alpiner', 'fiordpusz09'],\n ['alpiner', 'fiordpusz09'],\n ['alpiner', 'sfiordmg13'],\n ['alpiner', 'sfiordmg13'],\n ['alpiner', 'fiordpusz09'],\n ['alpiner', 'fiordpusz09'],\n ['alpiner', 'fiordpusz09'],\n ['alpiner', 'fiordpusz09'],\n ['alpiner', 'sfiordmg13'],\n ['alpiner', 'fiordpusz09'],\n ['alpiner', 'sfiordmg13'],\n ['alpiner', 'sfiordmg13'],\n ['alpiner', 'fiordpusz09'],\n ['alpiner', 'fiordsz03'],\n ['alpiner', 'fiordpusz09'],\n ['alpiner', 'fiordpusz09'],\n ['alpiner', 'sfiordmg13'],\n ['alpiner', 'fiordpusz09'],\n ['alpiner', 'fiordpusz09'],\n ['alpiner', 'fiordpusz09'],\n ['alpiner', 'sfiordmg13'],\n ['alpiner', 'sfiordmg13'],\n ['alpiner', 'fiordpusz09'],\n ['alpiner', 'fiordsz03'],\n ['alpiner', 'fiordpusz09'],\n ['alpiner', 'sfiordmg13'],\n ['alpiner', 'sfiordmg13'],\n ['alpiner', 'sfiordmg13'],\n ['alpiner', 'fiordpusz09'],\n ['alpiner', 'sfiordmg13'],\n ['alpiner', 'sfiordmg13'],\n ['alpiner', 'fiordpusz09'],\n ['alpiner', 'fiordpusz09'],\n ['alpiner', 'fiordpusz09'],\n ['alpiner', 'fiordpusz09'],\n ['alpiner', 'sfiordmg13'],\n ['alpiner', 'fiordpusz09'],\n ['alpiner', 'sfiordmg13'],\n ['alpiner', 'sfiordmg13'],\n ['alpiner', 'fiordpusz09'],\n ['alpiner', 'fiordsz03'],\n ['alpiner', 'sfiordmg13'],\n ['alpiner', 'fiordpusz09'],\n ['alpiner', 'fiordpusz09'],\n ['alpiner', 'fiordpusz09'],\n ['alpiner', 'fiordpusz09'],\n ['alpiner', 'sfiordmg13'],\n ['alpiner', 'sfiordmg13'],\n ['alpiner', 'fiordpusz09'],\n ['alpiner', 'sfiordmg13'],\n ['alpiner', 'sfiordmg13'],\n ['alpiner', 'fiordpusz09'],\n ['alpiner', 'fiordpusz09'],\n ['alpiner', 'fiordpusz09'],\n ['alpiner', 'fiordpusz09'],\n ['alpiner', 'fiordpusz09'],\n ['alpiner', 'fiordpusz09'],\n ['alpiner', 'sfiordmg13'],\n ['alpiner', 'sfiordmg13'],\n ['alpiner', 'sfiordmg13'],\n ['alpiner', 'fiordpusz09'],\n ['alpiner', 'sfiordmg13'],\n ['alpiner', 'fiordpusz09'],\n ['alpiner', 'fiordpusz09'],\n ['alpiner', 'sfiordmg13'],\n ['alpiner', 'fiordpusz09'],\n ['alpiner', 'fiordsz03'],\n ['alpiner', 'sfiordmg13'],\n ['alpiner', 'fiordpusz09'],\n ['alpiner', 'fiordpusz09'],\n ['alpiner', 'fiordsz03'],\n ['alpiner', 'fiordpusz09'],\n ['alpiner', 'fiordpusz09'],\n ['alpiner', 'fiordpusz09'],\n ['alpiner', 'fiordpusz09'],\n ['alpiner', 'fiordsz03'],\n ['alpiner', 'sfiordmg13'],\n ['alpiner', 'fiordpusz09'],\n ['alpiner', 'fiordpusz09'],\n ['alpiner', 'fiordpusz09'],\n ['alpiner', 'fiordpusz09'],\n ['alpiner', 'sfiordmg13'],\n ['alpiner', 'fiordpusz09'],\n ['alpiner', 'fiordpusz09'],\n ['alpiner', 'sfiordmg13'],\n ['alpiner', 'fiordpusz09'],\n ['alpiner', 'fiordpusz09'],\n ['alpiner', 'fiordpusz09'],\n ['alpiner', 'fiordsz03'],\n ['alpiner', 'fiordpusz09'],\n ['alpiner', 'sfiordmg13'],\n ['alpiner', 'sfiordmg13'],\n ['alpiner', 'fiordsz03'],\n ['alpiner', 'sfiordmg13'],\n ['alpiner', 'fiordpusz09'],\n ['alpiner', 'sfiordmg13'],\n ['alpiner', 'sfiordmg13'],\n ['alpiner', 'fiordpusz09'],\n ['alpiner', 'fiordpusz09'],\n ['alpiner', 'fiordsz03'],\n ['alpiner', 'fiordsz03'],\n ['alpiner', 'fiordpusz09'],\n ['alpiner', 'sfiordmg13'],\n ['alpiner', 'fiordpusz09'],\n ['alpiner', 'fiordpusz09'],\n ['alpiner', 'fiordpusz09'],\n ['alpiner', 'sfiordmg13'],\n ['alpiner', 'fiordpusz09'],\n ['alpiner', 'fiordsz03'],\n ['alpiner', 'sfiordmg13'],\n ['alpiner', 'sfiordmg13'],\n ['alpiner', 'sfiordmg13'],\n ['alpiner', 'sfiordmg13'],\n ['alpiner', 'fiordpusz09'],\n ['alpiner', 'fiordpusz09'],\n ['alpiner', 'fiordpusz09'],\n ['alpiner', 'fiordpusz09'],\n ['alpiner', 'fiordpusz09'],\n ['alpiner', 'fiordpusz09'],\n ['alpiner', 'sfiordmg13'],\n ['alpiner', 'sfiordmg13'],\n ['alpiner', 'fiordpusz09'],\n ['alpiner', 'sfiordmg13'],\n ['alpiner', 'fiordpusz09'],\n ['alpiner', 'fiordpusz09'],\n ['alpiner', 'sfiordmg13'],\n ['alpiner', 'fiordpusz09'],\n ['alpiner', 'fiordpusz09'],\n ['alpiner', 'fiordsz03'],\n ['alpiner', 'sfiordmg13'],\n ['alpiner', 'fiordsz03'],\n ['alpiner', 'fiordpusz09'],\n ['alpiner', 'fiordpusz09'],\n ['alpiner', 'fiordsz03'],\n ['alpiner', 'fiordpusz09'],\n ['alpiner', 'fiordpusz09'],\n ['alpiner', 'fiordpusz09'],\n ['alpiner', 'fiordpusz09'],\n ['alpiner', 'fiordpusz09'],\n ['alpiner', 'fiordpusz09'],\n ['alpiner', 'fiordpusz09'],\n ['alpiner', 'fiordpusz09'],\n ['alpiner', 'sfiordmg13'],\n ['alpiner', 'fiordpusz09'],\n ['alpiner', 'sfiordmg13'],\n ['alpiner', 'fiordpusz09'],\n ['alpiner', 'sfiordmg13'],\n ['alpiner', 'fiordpusz09'],\n ['alpiner', 'fiordpusz09'],\n ['alpiner', 'sfiordmg13'],\n ['alpiner', 'fiordpusz09'],\n ['alpiner', 'sfiordmg13'],\n ['alpiner', 'fiordpusz09'],\n ['alpiner', 'sfiordmg13'],\n ['alpiner', 'fiordsz03'],\n ['alpiner', 'fiordpusz09'],\n ['alpiner', 'fiordpusz09'],\n ['alpiner', 'sfiordmg13'],\n ['alpiner', 'fiordpusz09'],\n ['alpiner', 'fiordpusz09'],\n ['alpiner', 'sfiordmg13'],\n ['alpiner', 'fiordpusz09'],\n ['alpiner', 'fiordsz03'],\n ['alpiner', 'sfiordmg13'],\n ['alpiner', 'fiordpusz09'],\n ['alpiner', 'fiordpusz09'],\n ['alpiner', 'fiordpusz09'],\n ['alpiner', 'fiordpusz09'],\n ['alpiner', 'fiordpusz09'],\n ['alpiner', 'fiordsz03'],\n ['alpiner', 'fiordpusz09'],\n ['alpiner', 'fiordpusz09'],\n ['alpiner', 'fiordsz03'],\n ['alpiner', 'sfiordmg13'],\n ['alpiner', 'sfiordmg13'],\n ['alpiner', 'fiordpusz09'],\n ['alpiner', 'fiordpusz09'],\n ['alpiner', 'sfiordmg13'],\n ['alpiner', 'fiordpusz09'],\n ['alpiner', 'fiordpusz09'],\n ['alpiner', 'fiordpusz09'],\n ['alpiner', 'fiordpusz09'],\n ['alpiner', 'fiordpusz09'],\n ['alpiner', 'fiordpusz09'],\n ['alpiner', 'fiordpusz09'],\n ['alpiner', 'fiordpusz09'],\n ['alpiner', 'sfiordmg13'],\n ['alpiner', 'fiordpusz09'],\n ['alpiner', 'fiordsz03'],\n ['alpiner', 'fiordpusz09'],\n ['alpiner', 'fiordpusz09'],\n ['alpiner', 'sfiordmg13'],\n ['alpiner', 'fiordpusz09'],\n ['alpiner', 'fiordsz03'],\n ['alpiner', 'fiordpusz09'],\n ['alpiner', 'fiordpusz09'],\n ['alpiner', 'fiordpusz09'],\n ['alpiner', 'fiordpusz09'],\n ['alpiner', 'sfiordmg13'],\n ['alpiner', 'fiordpusz09'],\n ['alpiner', 'fiordpusz09'],\n ['alpiner', 'sfiordmg13'],\n ['alpiner', 'sfiordmg13'],\n ['alpiner', 'fiordpusz09'],\n ['alpiner', 'fiordpusz09'],\n ['alpiner', 'sfiordmg13'],\n ['alpiner', 'fiordpusz09'],\n ['alpiner', 'fiordpusz09'],\n ['alpiner', 'fiordpusz09'],\n ['alpiner', 'fiordpusz09'],\n ['alpiner', 'fiordpusz09'],\n ['alpiner', 'sfiordmg13'],\n ['alpiner', 'fiordpusz09'],\n ['alpiner', 'fiordpusz09'],\n ['alpiner', 'sfiordmg13'],\n ['alpiner', 'sfiordmg13'],\n ['alpiner', 'fiordpusz09'],\n ['alpiner', 'fiordsz03'],\n ['alpiner', 'fiordpusz09'],\n ['alpiner', 'fiordpusz09'],\n ['alpiner', 'sfiordmg13'],\n ['alpiner', 'sfiordmg13'],\n ['alpiner', 'fiordpusz09'],\n ['alpiner', 'fiordsz03'],\n ['alpiner', 'sfiordmg13'],\n ['alpiner', 'fiordpusz09'],\n ['alpiner', 'fiordpusz09'],\n ['alpiner', 'fiordpusz09'],\n ['alpiner', 'sfiordmg13'],\n ['alpiner', 'fiordpusz09'],\n ['alpiner', 'fiordsz03'],\n ['alpiner', 'sfiordmg13'],\n ['alpiner', 'sfiordmg13'],\n ['alpiner', 'sfiordmg13'],\n ['alpiner', 'sfiordmg13'],\n ['alpiner', 'sfiordmg13'],\n ['alpiner', 'sfiordmg13'],\n ['alpiner', 'fiordpusz09'],\n ['alpiner', 'fiordpusz09'],\n ['alpiner', 'fiordpusz09'],\n ['alpiner', 'fiordpusz09'],\n ['alpiner', 'fiordpusz09'],\n ['alpiner', 'fiordpusz09'],\n ['alpiner', 'fiordpusz09'],\n ['alpiner', 'sfiordmg13'],\n ['alpiner', 'fiordpusz09'],\n ['alpiner', 'sfiordmg13'],\n ['alpiner', 'sfiordmg13'],\n ['alpiner', 'fiordpusz09'],\n ['alpiner', 'fiordsz03'],\n ['alpiner', 'sfiordmg13'],\n ['alpiner', 'fiordpusz09'],\n ['alpiner', 'fiordpusz09'],\n ['alpiner', 'fiordpusz09'],\n ['alpiner', 'fiordpusz09'],\n ['alpiner', 'fiordpusz09'],\n ['alpiner', 'fiordpusz09'],\n ['alpiner', 'fiordpusz09'],\n ['alpiner', 'fiordpusz09'],\n ['alpiner', 'fiordsz03'],\n ['alpiner', 'fiordpusz09'],\n ['alpiner', 'sfiordmg13'],\n ['alpiner', 'fiordpusz09'],\n ['alpiner', 'fiordpusz09'],\n ['alpiner', 'fiordpusz09'],\n ['alpiner', 'sfiordmg13'],\n ['alpiner', 'fiordpusz09'],\n ['alpiner', 'fiordpusz09'],\n ['alpiner', 'fiordpusz09'],\n ['alpiner', 'sfiordmg13'],\n ['alpiner', 'fiordpusz09'],\n ['alpiner', 'fiordpusz09'],\n ['alpiner', 'fiordpusz09'],\n ['alpiner', 'sfiordmg13'],\n ['alpiner', 'fiordpusz09'],\n ['alpiner', 'fiordpusz09'],\n ['alpiner', 'fiordpusz09'],\n ['alpiner', 'fiordpusz09'],\n ['alpiner', 'fiordpusz09'],\n ['alpiner', 'fiordpusz09'],\n ['alpiner', 'fiordpusz09'],\n ['alpiner', 'sfiordmg13'],\n ['alpiner', 'sfiordmg13'],\n ['alpiner', 'sfiordmg13'],\n ['alpiner', 'fiordpusz09'],\n ['alpiner', 'sfiordmg13'],\n ['alpiner', 'fiordpusz09'],\n ['alpiner', 'fiordpusz09'],\n ['alpiner', 'fiordpusz09'],\n ['alpiner', 'fiordsz03'],\n ['alpiner', 'fiordpusz09'],\n ['alpiner', 'fiordsz03'],\n ['alpiner', 'fiordpusz09'],\n ['alpiner', 'sfiordmg13'],\n ['alpiner', 'sfiordmg13'],\n ['alpiner', 'fiordpusz09'],\n ['alpiner', 'fiordsz03'],\n ['alpiner', 'fiordpusz09'],\n ['alpiner', 'fiordpusz09'],\n ['alpiner', 'fiordpusz09'],\n ['alpiner', 'fiordpusz09'],\n ['alpiner', 'sfiordmg13'],\n ['alpiner', 'fiordsz03'],\n ['alpiner', 'fiordpusz09'],\n ['alpiner', 'sfiordmg13'],\n ['alpiner', 'sfiordmg13'],\n ['alpiner', 'fiordpusz09'],\n ['alpiner', 'fiordpusz09'],\n ['alpiner', 'sfiordmg13'],\n ['alpiner', 'fiordpusz09'],\n ['alpiner', 'fiordpusz09'],\n ['alpiner', 'fiordpusz09'],\n ['alpiner', 'fiordpusz09'],\n ['alpiner', 'fiordpusz09'],\n ['alpiner', 'fiordpusz09'],\n ['alpiner', 'fiordpusz09'],\n ['alpiner', 'sfiordmg13'],\n ['alpiner', 'fiordpusz09'],\n ['alpiner', 'sfiordmg13'],\n ['alpiner', 'sfiordmg13'],\n ['alpiner', 'sfiordmg13'],\n ['alpiner', 'sfiordmg13'],\n ['alpiner', 'sfiordmg13'],\n ['alpiner', 'fiordsz03'],\n ['alpiner', 'fiordpusz09'],\n ['alpiner', 'fiordpusz09'],\n ['alpiner', 'fiordpusz09'],\n ['alpiner', 'sfiordmg13'],\n ['alpiner', 'fiordsz03'],\n ['alpiner', 'fiordpusz09'],\n ['alpiner', 'fiordpusz09'],\n ['alpiner', 'fiordpusz09'],\n ['alpiner', 'sfiordmg13'],\n ['alpiner', 'sfiordmg13'],\n ['alpiner', 'fiordpusz09'],\n ['alpiner', 'fiordpusz09'],\n ['alpiner', 'fiordpusz09'],\n ['alpiner', 'fiordpusz09'],\n ['alpiner', 'sfiordmg13'],\n ['alpiner', 'sfiordmg13'],\n ['alpiner', 'fiordpusz09'],\n ['alpiner', 'fiordpusz09'],\n ['alpiner', 'fiordpusz09'],\n ['alpiner', 'sfiordmg13'],\n ['alpiner', 'fiordsz03'],\n ['alpiner', 'fiordsz03'],\n ['alpiner', 'sfiordmg13'],\n ['alpiner', 'fiordpusz09'],\n ['alpiner', 'fiordpusz09'],\n ['alpiner', 'fiordpusz09'],\n ['alpiner', 'fiordpusz09'],\n ['alpiner', 'fiordpusz09'],\n ['alpiner', 'fiordpusz09'],\n ['alpiner', 'fiordpusz09'],\n ['alpiner', 'sfiordmg13'],\n ['alpiner', 'sfiordmg13'],\n ['alpiner', 'fiordpusz09'],\n ['alpiner', 'fiordpusz09'],\n ['alpiner', 'fiordpusz09'],\n ['alpiner', 'sfiordmg13'],\n ['alpiner', 'swedge2'],\n ['alpiner', 'sfiordmg13'],\n ['alpiner', 'fiordpusz09'],\n ['alpiner', 'fiordsz03'],\n ['alpiner', 'fiordpusz09'],\n ['alpiner', 'sfiordmg13'],\n ['alpiner', 'fiordpusz09'],\n ['alpiner', 'fiordpusz09'],\n ['alpiner', 'fiordpusz09'],\n ['alpiner', 'fiordpusz09'],\n ['alpiner', 'sfiordmg13'],\n ['alpiner', 'fiordpusz09'],\n ['alpiner', 'fiordpusz09'],\n ['alpiner', 'fiordpusz09'],\n ['alpiner', 'sfiordmg13'],\n ['alpiner', 'fiordpusz09'],\n ['alpiner', 'fiordpusz09'],\n ['alpiner', 'sfiordmg13'],\n ['alpiner', 'fiordpusz09'],\n ['alpiner', 'fiordpusz09'],\n ['alpiner', 'fiordpusz09'],\n ['alpiner', 'sfiordmg13'],\n ['alpiner', 'fiordsz03'],\n ['alpiner', 'fiordpusz09'],\n ['alpiner', 'fiordsz03'],\n ['alpiner', 'fiordpusz09'],\n ['alpiner', 'sfiordmg13'],\n ['alpiner', 'fiordpusz09'],\n ['alpiner', 'fiordpusz09'],\n ['alpiner', 'fiordpusz09'],\n ['alpiner', 'sfiordmg13'],\n ['alpiner', 'sfiordmg13'],\n ['alpiner', 'fiordpusz09'],\n ['alpiner', 'fiordsz03'],\n ['alpiner', 'fiordpusz09'],\n ['alpiner', 'fiordpusz09'],\n ['alpiner', 'fiordpusz09'],\n ['alpiner', 'fiordpusz09'],\n ['alpiner', 'fiordpusz09'],\n ['alpiner', 'fiordpusz09'],\n ['alpiner', 'fiordpusz09'],\n ['alpiner', 'fiordpusz09'],\n ['alpiner', 'fiordpusz09'],\n ['alpiner', 'fiordpusz09'],\n ['alpiner', 'fiordpusz09'],\n ['alpiner', 'fiordpusz09'],\n ['alpiner', 'fiordpusz09'],\n ['alpiner', 'fiordpusz09'],\n ['alpiner', 'fiordpusz09'],\n ['alpiner', 'fiordpusz09'],\n ['alpiner', 'sfiordmg13'],\n ['alpiner', 'sfiordmg13'],\n ['alpiner', 'fiordpusz09'],\n ['alpiner', 'fiordpusz09'],\n ['alpiner', 'fiordpusz09'],\n ['alpiner', 'sfiordmg13'],\n ['alpiner', 'sfiordmg13'],\n ['alpiner', 'fiordpusz09'],\n ['alpiner', 'fiordpusz09'],\n ['alpiner', 'fiordpusz09'],\n ['alpiner', 'sfiordmg13'],\n ['alpiner', 'fiordpusz09'],\n ['alpiner', 'fiordpusz09'],\n ['alpiner', 'sfiordmg13'],\n ['alpiner', 'fiordsz03'],\n ['alpiner', 'sfiordmg13'],\n ['alpiner', 'sfiordmg13'],\n ['alpiner', 'fiordpusz09'],\n ['alpiner', 'sfiordmg13'],\n ['alpiner', 'fiordpusz09'],\n ['alpiner', 'fiordpusz09'],\n ['alpiner', 'fiordsz03'],\n ['alpiner', 'sfiordmg13'],\n ['alpiner', 'fiordpusz09'],\n ['alpiner', 'sfiordmg13'],\n ['alpiner', 'fiordpusz09'],\n ['alpiner', 'sfiordmg13'],\n ['alpiner', 'fiordpusz09'],\n ['alpiner', 'fiordpusz09'],\n ['alpiner', 'fiordpusz09'],\n ['alpiner', 'fiordsz03'],\n ['alpiner', 'sfiordmg13'],\n ['alpiner', 'sfiordmg13'],\n ['alpiner', 'sfiordmg13'],\n ['alpiner', 'fiordpusz09'],\n ['alpiner', 'fiordpusz09'],\n ['alpiner', 'sfiordmg13'],\n ['alpiner', 'fiordpusz09'],\n ['alpiner', 'fiordsz03'],\n ['alpiner', 'sfiordmg13'],\n ['alpiner', 'sfiordmg13'],\n ['alpiner', 'sfiordmg13'],\n ['alpiner', 'fiordsz03'],\n ['alpiner', 'sfiordmg13'],\n ['alpiner', 'fiordsz03'],\n ['alpiner', 'fiordsz03'],\n ['alpiner', 'sfiordmg13'],\n ['alpiner', 'fiordpusz09'],\n ['alpiner', 'fiordpusz09'],\n ['alpiner', 'fiordpusz09'],\n ['alpiner', 'sfiordmg13'],\n ['alpiner', 'fiordpusz09'],\n ['alpiner', 'fiordpusz09'],\n ['alpiner', 'fiordpusz09'],\n ['alpiner', 'fiordpusz09'],\n ['alpiner', 'fiordpusz09'],\n ['alpiner', 'fiordpusz09'],\n ['alpiner', 'fiordpusz09'],\n ['alpiner', 'sfiordmg13'],\n ['alpiner', 'sfiordmg13'],\n ['alpiner', 'sfiordmg13'],\n ['alpiner', 'fiordpusz09'],\n ['alpiner', 'fiordpusz09'],\n ['alpiner', 'fiordpusz09'],\n ['alpiner', 'sfiordmg13'],\n ['alpiner', 'sfiordmg13'],\n ['alpiner', 'fiordpusz09'],\n ['alpiner', 'sfiordmg13'],\n ['alpiner', 'sfiordmg13'],\n ['alpiner', 'fiordpusz09'],\n ['alpiner', 'fiordsz03'],\n ['alpiner', 'fiordpusz09'],\n ['alpiner', 'fiordpusz09'],\n ['alpiner', 'sfiordmg13'],\n ['alpiner', 'sfiordmg13'],\n ['alpiner', 'fiordpusz09'],\n ['alpiner', 'fiordpusz09'],\n ['alpiner', 'fiordsz03'],\n ['alpiner', 'fiordsz03'],\n ['alpiner', 'fiordpusz09'],\n ['alpiner', 'fiordpusz09'],\n ['alpiner', 'fiordpusz09'],\n ['alpiner', 'fiordpusz09'],\n ['alpiner', 'fiordpusz09'],\n ['alpiner', 'fiordpusz09'],\n ['alpiner', 'fiordpusz09'],\n ['alpiner', 'fiordpusz09'],\n ['alpiner', 'fiordpusz09'],\n ['alpiner', 'fiordpusz09'],\n ['alpiner', 'fiordpusz09'],\n ['alpiner', 'fiordpusz09'],\n ['alpiner', 'sfiordmg13'],\n ['alpiner', 'fiordsz03'],\n ['alpiner', 'fiordpusz09'],\n ['alpiner', 'sfiordmg13'],\n ['alpiner', 'fiordpusz09'],\n ['alpiner', 'fiordsz03'],\n ['alpiner', 'sfiordmg13'],\n ['alpiner', 'fiordpusz09'],\n ['alpiner', 'sfiordmg13'],\n ['alpiner', 'fiordpusz09'],\n ['alpiner', 'sfiordmg13'],\n ['alpiner', 'fiordsz03'],\n ['alpiner', 'sfiordmg13'],\n ['alpiner', 'fiordpusz09'],\n ['alpiner', 'sfiordmg13'],\n ['alpiner', 'sfiordmg13'],\n ['alpiner', 'fiordpusz09'],\n ['alpiner', 'sfiordmg13'],\n ['alpiner', 'fiordsz03'],\n ['alpiner', 'sfiordmg13'],\n ['alpiner', 'sfiordmg13'],\n ['alpiner', 'fiordpusz09'],\n ['alpiner', 'sfiordmg13'],\n ['alpiner', 'fiordpusz09'],\n ['alpiner', 'fiordpusz09'],\n ['alpiner', 'sfiordmg13'],\n ['alpiner', 'sfiordmg13'],\n ['alpiner', 'fiordpusz09'],\n ['alpiner', 'sfiordmg13'],\n ['alpiner', 'fiordpusz09'],\n ['alpiner', 'fiordpusz09'],\n ['alpiner', 'fiordpusz09'],\n ['alpiner', 'fiordpusz09'],\n ['alpiner', 'sfiordmg13'],\n ['alpiner', 'fiordpusz09'],\n ['alpiner', 'fiordpusz09'],\n ['alpiner', 'sfiordmg13'],\n ['alpiner', 'fiordpusz09'],\n ['alpiner', 'sfiordmg13'],\n ['alpiner', 'sfiordmg13'],\n ['alpiner', 'sfiordmg13'],\n ['alpiner', 'fiordsz03'],\n ['alpiner', 'fiordpusz09'],\n ['alpiner', 'fiordpusz09'],\n ['alpiner', 'fiordpusz09'],\n ['alpiner', 'sfiordmg13'],\n ['alpiner', 'sfiordmg13'],\n ['alpiner', 'sfiordmg13'],\n ['alpiner', 'sfiordmg13'],\n ['alpiner', 'fiordpusz09'],\n ['alpiner', 'fiordpusz09'],\n ['alpiner', 'sfiordmg13'],\n ['alpiner', 'sfiordmg13'],\n ['alpiner', 'fiordpusz09'],\n ['alpiner', 'fiordpusz09'],\n ['alpiner', 'sfiordmg13'],\n ['alpiner', 'fiordpusz09'],\n ['alpiner', 'fiordpusz09'],\n ['alpiner', 'fiordpusz09'],\n ['alpiner', 'fiordpusz09'],\n ['alpiner', 'sfiordmg13'],\n ['alpiner', 'fiordpusz09'],\n ['alpiner', 'fiordpusz09'],\n ['alpiner', 'sfiordmg13'],\n ['alpiner', 'sfiordmg13'],\n ['alpiner', 'fiordsz03'],\n ['alpiner', 'fiordpusz09'],\n ['alpiner', 'fiordpusz09'],\n ['alpiner', 'fiordpusz09'],\n ['alpiner', 'sfiordmg13'],\n ['alpiner', 'sfiordmg13'],\n ['alpiner', 'fiordpusz09'],\n ['alpiner', 'sfiordmg13'],\n ['alpiner', 'fiordpusz09'],\n ['alpiner', 'fiordsz03'],\n ['alpiner', 'fiordpusz09'],\n ['alpiner', 'sfiordmg13'],\n ['alpiner', 'fiordpusz09'],\n ['alpiner', 'fiordpusz09'],\n ['alpiner', 'fiordpusz09'],\n ['alpiner', 'fiordpusz09'],\n ['alpiner', 'sfiordmg13'],\n ['alpiner', 'fiordpusz09'],\n ['alpiner', 'fiordpusz09'],\n ['alpiner', 'sfiordmg13'],\n ['alpiner', 'sfiordmg13'],\n ['alpiner', 'fiordpusz09'],\n ['alpiner', 'fiordpusz09'],\n ['alpiner', 'fiordpusz09'],\n ['alpiner', 'sfiordmg13'],\n ['alpiner', 'fiordsz03'],\n ['alpiner', 'fiordpusz09'],\n ['alpiner', 'fiordpusz09'],\n ['alpiner', 'fiordpusz09'],\n ['alpiner', 'sfiordmg13'],\n ['alpiner', 'sfiordmg13'],\n ['alpiner', 'fiordpusz09'],\n ['alpiner', 'fiordpusz09'],\n ['alpiner', 'fiordsz03'],\n ['alpiner', 'sfiordmg13'],\n ['alpiner', 'fiordpusz09'],\n ['alpiner', 'fiordpusz09'],\n ['alpiner', 'fiordpusz09'],\n ['alpiner', 'fiordpusz09'],\n ['alpiner', 'sfiordmg13'],\n ['alpiner', 'sfiordmg13'],\n ['alpiner', 'fiordpusz09'],\n ['alpiner', 'fiordpusz09'],\n ['alpiner', 'fiordpusz09'],\n ['alpiner', 'fiordpusz09'],\n ['alpiner', 'fiordpusz09'],\n ['alpiner', 'fiordpusz09'],\n ['alpiner', 'sfiordmg13'],\n ['alpiner', 'fiordpusz09'],\n ['alpiner', 'fiordsz03'],\n ['alpiner', 'fiordsz03'],\n ['alpiner', 'sfiordmg13'],\n ['alpiner', 'sfiordmg13'],\n ['alpiner', 'fiordpusz09'],\n ['alpiner', 'sfiordmg13'],\n ['alpiner', 'sfiordmg13'],\n ['alpiner', 'fiordpusz09'],\n ['alpiner', 'fiordsz03'],\n ['alpiner', 'fiordpusz09'],\n ['alpiner', 'fiordpusz09'],\n ['alpiner', 'fiordpusz09'],\n ['alpiner', 'sfiordmg13'],\n ['alpiner', 'sfiordmg13'],\n ['alpiner', 'fiordpusz09'],\n ['alpiner', 'sfiordmg13'],\n ['alpiner', 'sfiordmg13'],\n ['alpiner', 'sfiordmg13'],\n ['alpiner', 'fiordpusz09'],\n ['alpiner', 'fiordpusz09'],\n ['alpiner', 'sfiordmg13'],\n ['alpiner', 'fiordpusz09'],\n ['alpiner', 'fiordpusz09'],\n ['alpiner', 'fiordpusz09'],\n ['alpiner', 'fiordpusz09'],\n ['alpiner', 'fiordpusz09'],\n ['alpiner', 'sfiordmg13'],\n ['alpiner', 'fiordsz03'],\n ['alpiner', 'sfiordmg13'],\n ['alpiner', 'sfiordmg13'],\n ['alpiner', 'sfiordmg13'],\n ['alpiner', 'fiordpusz09'],\n ['alpiner', 'fiordpusz09'],\n ['alpiner', 'sfiordmg13'],\n ['alpiner', 'fiordpusz09'],\n ['alpiner', 'fiordpusz09'],\n ['alpiner', 'sfiordmg13'],\n ['alpiner', 'fiordpusz09'],\n ['alpiner', 'fiordsz03'],\n ['alpiner', 'sfiordmg13'],\n ['alpiner', 'fiordpusz09'],\n ['alpiner', 'fiordpusz09'],\n ['alpiner', 'fiordpusz09'],\n ['alpiner', 'fiordpusz09'],\n ['alpiner', 'fiordsz03'],\n ['alpiner', 'fiordpusz09'],\n ['alpiner', 'sfiordmg13'],\n ['alpiner', 'sfiordmg13'],\n ['alpiner', 'sfiordmg13'],\n ['alpiner', 'fiordpusz09'],\n ['alpiner', 'sfiordmg13'],\n ['alpiner', 'sfiordmg13'],\n ['alpiner', 'fiordpusz09'],\n ['alpiner', 'fiordpusz09'],\n ['alpiner', 'fiordpusz09'],\n ['alpiner', 'sfiordmg13'],\n ['alpiner', 'sfiordmg13'],\n ['alpiner', 'fiordpusz09'],\n ['alpiner', 'fiordpusz09'],\n ['alpiner', 'fiordpusz09'],\n ['alpiner', 'fiordpusz09'],\n ['alpiner', 'fiordpusz09'],\n ['alpiner', 'sfiordmg13'],\n ['alpiner', 'fiordpusz09'],\n ['alpiner', 'fiordpusz09'],\n ['alpiner', 'sfiordmg13'],\n ['alpiner', 'sfiordmg13'],\n ['alpiner', 'fiordsz03'],\n ['alpiner', 'fiordpusz09'],\n ['alpiner', 'sfiordmg13'],\n ['alpiner', 'fiordpusz09'],\n ['alpiner', 'sfiordmg13'],\n ['alpiner', 'sfiordmg13'],\n ['alpiner', 'fiordpusz09'],\n ['alpiner', 'fiordpusz09'],\n ['alpiner', 'fiordsz03'],\n ['alpiner', 'fiordpusz09'],\n ['alpiner', 'fiordpusz09'],\n ['alpiner', 'fiordpusz09'],\n ['alpiner', 'fiordpusz09'],\n ['alpiner', 'sfiordmg13'],\n ['alpiner', 'fiordpusz09'],\n ['alpiner', 'fiordpusz09'],\n ['alpiner', 'sfiordmg13'],\n ['alpiner', 'fiordpusz09'],\n ['alpiner', 'fiordsz03'],\n ['alpiner', 'fiordpusz09'],\n ['alpiner', 'fiordpusz09'],\n ['alpiner', 'fiordpusz09'],\n ['alpiner', 'fiordpusz09'],\n ['alpiner', 'fiordpusz09'],\n ['alpiner', 'fiordpusz09'],\n ['alpiner', 'fiordpusz09'],\n ['alpiner', 'fiordpusz09'],\n ['alpiner', 'sfiordmg13'],\n ['alpiner', 'sfiordmg13'],\n ['alpiner', 'fiordpusz09'],\n ['alpiner', 'sfiordmg13'],\n ['alpiner', 'fiordpusz09'],\n ['alpiner', 'fiordpusz09'],\n ['alpiner', 'fiordpusz09'],\n ['alpiner', 'fiordpusz09'],\n ['alpiner', 'fiordpusz09'],\n ['alpiner', 'sfiordmg13'],\n ['alpiner', 'sfiordmg13'],\n ['alpiner', 'fiordpusz09'],\n ['alpiner', 'fiordpusz09'],\n ['alpiner', 'fiordpusz09'],\n ['alpiner', 'sfiordmg13'],\n ['alpiner', 'sfiordmg13'],\n ['alpiner', 'fiordpusz09'],\n ['alpiner', 'sfiordmg13'],\n ['alpiner', 'sfiordmg13'],\n ['alpiner', 'sfiordmg13'],\n ['alpiner', 'sfiordmg13'],\n ['alpiner', 'fiordpusz09'],\n ['alpiner', 'fiordpusz09'],\n ['alpiner', 'sfiordmg13'],\n ['alpiner', 'fiordpusz09'],\n ['alpiner', 'fiordpusz09'],\n ['alpiner', 'sfiordmg13'],\n ['alpiner', 'sfiordmg13'],\n ['alpiner', 'fiordpusz09'],\n ['alpiner', 'fiordpusz09'],\n ['alpiner', 'fiordpusz09'],\n ['alpiner', 'fiordpusz09'],\n ['alpiner', 'fiordpusz09'],\n ['alpiner', 'fiordpusz09'],\n ['alpiner', 'fiordpusz09'],\n ['alpiner', 'sfiordmg13'],\n ['alpiner', 'fiordpusz09'],\n ['alpiner', 'sfiordmg13'],\n ['alpiner', 'fiordpusz09'],\n ['alpiner', 'fiordpusz09'],\n ['alpiner', 'fiordpusz09'],\n ['alpiner', 'fiordpusz09'],\n ['alpiner', 'fiordpusz09'],\n ['alpiner', 'fiordpusz09'],\n ['alpiner', 'fiordsz03'],\n ['alpiner', 'fiordpusz09'],\n ['alpiner', 'fiordpusz09'],\n ['alpiner', 'fiordpusz09'],\n ['alpiner', 'fiordpusz09'],\n ['alpiner', 'fiordsz03'],\n ['alpiner', 'fiordpusz09'],\n ['alpiner', 'sfiordmg13'],\n ['alpiner', 'sfiordmg13'],\n ['alpiner', 'sfiordmg13'],\n ['alpiner', 'fiordpusz09'],\n ['alpiner', 'sfiordmg13'],\n ['alpiner', 'fiordpusz09'],\n ['alpiner', 'fiordpusz09'],\n ['alpiner', 'sfiordmg13'],\n ['alpiner', 'sfiordmg13'],\n ['alpiner', 'sfiordmg13'],\n ['alpiner', 'fiordpusz09'],\n ['alpiner', 'fiordpusz09'],\n ['alpiner', 'fiordpusz09'],\n ['alpiner', 'sfiordmg13'],\n ['alpiner', 'fiordpusz09'],\n ['alpiner', 'fiordpusz09'],\n ['alpiner', 'sfiordmg13'],\n ['alpiner', 'fiordpusz09'],\n ['alpiner', 'sfiordmg13'],\n ['alpiner', 'sfiordmg13'],\n ['alpiner', 'sfiordmg13'],\n ['alpiner', 'fiordpusz09'],\n ['alpiner', 'fiordpusz09'],\n ['alpiner', 'fiordpusz09'],\n ['alpiner', 'fiordpusz09'],\n ['alpiner', 'fiordsz03'],\n ['alpiner', 'fiordpusz09'],\n ['alpiner', 'fiordpusz09'],\n ['alpiner', 'sfiordmg13'],\n ['alpiner', 'fiordsz03'],\n ['alpiner', 'fiordsz03'],\n ['alpiner', 'sfiordmg13'],\n ['alpiner', 'fiordpusz09'],\n ['alpiner', 'fiordpusz09'],\n ['alpiner', 'fiordpusz09'],\n ['alpiner', 'fiordsz03'],\n ['alpiner', 'fiordpusz09'],\n ['alpiner', 'fiordpusz09'],\n ['alpiner', 'fiordpusz09'],\n ['alpiner', 'fiordpusz09'],\n ['alpiner', 'fiordpusz09'],\n ['alpiner', 'fiordpusz09'],\n ['alpiner', 'fiordpusz09'],\n ['alpiner', 'fiordpusz09'],\n ['alpiner', 'sfiordmg13'],\n ['alpiner', 'sfiordmg13'],\n ['alpiner', 'sfiordmg13'],\n ['alpiner', 'sfiordmg13'],\n ['alpiner', 'fiordpusz09'],\n ['alpiner', 'fiordpusz09'],\n ['alpiner', 'fiordpusz09'],\n ['alpiner', 'fiordpusz09'],\n ['alpiner', 'sfiordmg13'],\n ['alpiner', 'sfiordmg13'],\n ['alpiner', 'sfiordmg13'],\n ['alpiner', 'sfiordmg13'],\n ['alpiner', 'fiordpusz09'],\n ['alpiner', 'fiordpusz09'],\n ['alpiner', 'sfiordmg13'],\n ['alpiner', 'fiordpusz09'],\n ['alpiner', 'fiordpusz09'],\n ['alpiner', 'sfiordmg13'],\n ['alpiner', 'fiordpusz09'],\n ['alpiner', 'fiordpusz09'],\n ['alpiner', 'sfiordmg13'],\n ['alpiner', 'sfiordmg13'],\n ['alpiner', 'sfiordmg13'],\n ['alpiner', 'sfiordmg13'],\n ['alpiner', 'fiordpusz09'],\n ['alpiner', 'fiordpusz09'],\n ['alpiner', 'fiordpusz09'],\n ['alpiner', 'fiordsz03'],\n ['alpiner', 'fiordpusz09'],\n ['alpiner', 'fiordpusz09'],\n ['alpiner', 'sfiordmg13'],\n ['alpiner', 'fiordpusz09'],\n ['alpiner', 'fiordpusz09'],\n ['alpiner', 'sfiordmg13'],\n ['alpiner', 'sfiordmg13'],\n ['alpiner', 'fiordpusz09'],\n ['alpiner', 'fiordsz03'],\n ['alpiner', 'fiordpusz09'],\n ['alpiner', 'fiordpusz09'],\n ['alpiner', 'fiordpusz09'],\n ['alpiner', 'fiordpusz09'],\n ['alpiner', 'fiordpusz09'],\n ['alpiner', 'sfiordmg13'],\n ['alpiner', 'fiordpusz09'],\n ['alpiner', 'fiordpusz09'],\n ['alpiner', 'fiordpusz09'],\n ['alpiner', 'sfiordmg13'],\n ['alpiner', 'fiordsz03'],\n ['alpiner', 'sfiordmg13'],\n ['alpiner', 'sfiordmg13'],\n ['alpiner', 'fiordpusz09'],\n ...]"
     },
     "execution_count": 19,
     "metadata": {},
     "output_type": "execute_result"
    }
   ],
   "source": [
    "\n",
    "#find the instances which contain the fault of interest\n",
    "fault_events= [list_i for list_i in fault_list if faultName in list_i]\n",
    "\n",
    "fault_events"
   ],
   "metadata": {
    "collapsed": false,
    "pycharm": {
     "name": "#%%\n"
    }
   }
  },
  {
   "cell_type": "code",
   "execution_count": null,
   "outputs": [],
   "source": [],
   "metadata": {
    "collapsed": false,
    "pycharm": {
     "name": "#%%\n"
    }
   }
  }
 ],
 "metadata": {
  "kernelspec": {
   "display_name": "Python 3 (ipykernel)",
   "language": "python",
   "name": "python3"
  },
  "language_info": {
   "codemirror_mode": {
    "name": "ipython",
    "version": 3
   },
   "file_extension": ".py",
   "mimetype": "text/x-python",
   "name": "python",
   "nbconvert_exporter": "python",
   "pygments_lexer": "ipython3",
   "version": "3.10.4"
  }
 },
 "nbformat": 4,
 "nbformat_minor": 1
}