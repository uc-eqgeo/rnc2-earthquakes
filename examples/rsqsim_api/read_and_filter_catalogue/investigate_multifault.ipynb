{
 "cells": [
  {
   "cell_type": "markdown",
   "source": [
    "Find multifault ruptures in RSQsim catalogue and investigate which faults are involved.\n",
    "Compare initiation of multifault ruptures to slip rates."
   ],
   "metadata": {
    "collapsed": false,
    "pycharm": {
     "name": "#%% md\n"
    }
   }
  },
  {
   "cell_type": "code",
   "execution_count": 1,
   "outputs": [],
   "source": [
    "import matplotlib.pyplot as plt\n",
    "from rsqsim_api.fault.multifault import RsqSimMultiFault\n",
    "import shutil\n",
    "from rsqsim_api.catalogue.catalogue import RsqSimCatalogue\n",
    "import os\n",
    "import numpy as np\n",
    "import pandas as pd\n",
    "\n",
    "seconds_per_year = 31557600.0"
   ],
   "metadata": {
    "collapsed": false,
    "pycharm": {
     "name": "#%%\n"
    }
   }
  },
  {
   "cell_type": "code",
   "execution_count": 2,
   "outputs": [],
   "source": [
    "# # Tell python where field paths etc are relative to\n",
    "script_dir = os.path.abspath('')\n",
    "fault_dir = \"../../../data/shaw2021/rundir5091\"\n",
    "catalogue_dir = fault_dir\n",
    "#give directory to write multifault catalogue too / read from\n",
    "multi_cat_dir=\"../../../data/shaw2021/multifault/\"\n",
    "#prefix of multifault catalogue file (takes a minute or so to filter whole catalogue)\n",
    "multi_cat_name=\"multi_cat\""
   ],
   "metadata": {
    "collapsed": false,
    "pycharm": {
     "name": "#%%\n"
    }
   }
  },
  {
   "cell_type": "markdown",
   "source": [
    "Read in catalogue of RSQsim events and fault model"
   ],
   "metadata": {
    "collapsed": false,
    "pycharm": {
     "name": "#%% md\n"
    }
   }
  },
  {
   "cell_type": "code",
   "execution_count": 3,
   "outputs": [],
   "source": [
    "fault_model = RsqSimMultiFault.read_fault_file_bruce(os.path.join(script_dir, fault_dir, \"zfault_Deepen.in\"),\n",
    "                                                     os.path.join(script_dir, fault_dir, \"znames_Deepen.in\"),\n",
    "                                                     transform_from_utm=True)\n",
    "whole_catalogue = RsqSimCatalogue.from_catalogue_file_and_lists(os.path.join(catalogue_dir, \"eqs..out\"),\n",
    "                                                                list_file_directory=catalogue_dir, list_file_prefix=\"catalog\")\n"
   ],
   "metadata": {
    "collapsed": false,
    "pycharm": {
     "name": "#%%\n"
    }
   }
  },
  {
   "cell_type": "markdown",
   "source": [
    "Read in catalogue of multifault ruptures or find multifault ruptures in the whole catalogue."
   ],
   "metadata": {
    "collapsed": false,
    "pycharm": {
     "name": "#%% md\n"
    }
   }
  },
  {
   "cell_type": "code",
   "execution_count": 4,
   "outputs": [
    {
     "name": "stdout",
     "output_type": "stream",
     "text": [
      "writing\n"
     ]
    }
   ],
   "source": [
    "if os.path.exists(os.path.join(multi_cat_dir,multi_cat_name+\"_catalogue.csv\")):\n",
    "    multi_cat=RsqSimCatalogue.from_csv_and_arrays(prefix=multi_cat_dir+multi_cat_name)\n",
    "    multifault=[ev for ev in multi_cat.all_events(fault_model)]\n",
    "else:\n",
    "    # identify multifault events if not already read in\n",
    "    multifault,multi_cat=whole_catalogue.find_multi_fault(fault_model)\n",
    "    #write out\n",
    "    if not os.path.exists(multi_cat_dir):\n",
    "        os.makedirs(multi_cat_dir)\n",
    "    multi_cat.write_csv_and_arrays(prefix=multi_cat_name,directory=multi_cat_dir)"
   ],
   "metadata": {
    "collapsed": false,
    "pycharm": {
     "name": "#%%\n"
    }
   }
  },
  {
   "cell_type": "markdown",
   "source": [
    "Find number of events in whole catalogue, time span and proportion which are multifault."
   ],
   "metadata": {
    "collapsed": false,
    "pycharm": {
     "name": "#%% md\n"
    }
   }
  },
  {
   "cell_type": "code",
   "execution_count": 5,
   "outputs": [
    {
     "name": "stdout",
     "output_type": "stream",
     "text": [
      "Catalogue contains 2,000,000 events over 276,581 years.\n",
      "94,010 (4.70%) of these are multifault ruptures\n"
     ]
    }
   ],
   "source": [
    "#catalogue info\n",
    "nevents=len(whole_catalogue.catalogue_df)\n",
    "timeSpan=(np.max(whole_catalogue.patch_time_list) - np.min (whole_catalogue.patch_time_list))/seconds_per_year\n",
    "nmultifault=len(multifault)\n",
    "prop_multifault=nmultifault/nevents\n",
    "#write out\n",
    "print('Catalogue contains {:,} events over {:,.0f} years.\\n{:,} ({:.2f}%) of these are multifault ruptures'.format(nevents, timeSpan,nmultifault,prop_multifault*100.))"
   ],
   "metadata": {
    "collapsed": false,
    "pycharm": {
     "name": "#%%\n"
    }
   }
  },
  {
   "cell_type": "code",
   "execution_count": 6,
   "outputs": [],
   "source": [
    "#create dictionary of faults in each multifault event\n",
    "\n",
    "#minimulti=multifault[10:100]\n",
    "fault_dic={}\n",
    "\n",
    "#for ev in minimulti:\n",
    "for i, ev in enumerate(multifault):\n",
    "    ev_faults=fault_model.filter_faults_by_patch_numbers(ev.patch_numbers)\n",
    "    ev_fault_names=ev_faults.names\n",
    "    #find starting fault\n",
    "    assert len(np.where(ev.patch_time==ev.patch_time.min())) == 1, \"Event starts on multiple patches\"\n",
    "    firstPatch=ev.patch_numbers[np.argmin(ev.patch_time)]\n",
    "    lastPatch=ev.patch_numbers[np.argmax(ev.patch_time)]\n",
    "\n",
    "    firstFault=ev_faults.filter_faults_by_patch_numbers(firstPatch,fault_from_single_patch=True)\n",
    "    lastFault=ev_faults.filter_faults_by_patch_numbers(lastPatch,fault_from_single_patch=True)\n",
    "    firstFaultName=firstFault.name\n",
    "    lastFaultName=lastFault.name\n",
    "    #write dict entry\n",
    "    fault_dic[i]=(ev.event_id,ev,len(ev_fault_names),ev_fault_names,firstFaultName,lastFaultName,ev.dt,ev.mw)\n",
    "\n",
    "multifault_db=pd.DataFrame.from_dict(fault_dic,orient='index',columns=('Event_id','Event','N_faults','Fault_names','Start_fault','End_fault','dt','Mw'))"
   ],
   "metadata": {
    "collapsed": false,
    "pycharm": {
     "name": "#%%\n"
    }
   }
  },
  {
   "cell_type": "code",
   "execution_count": 7,
   "outputs": [],
   "source": [
    "#sort by number of faults involved\n",
    "multifault_db.sort_values(by=['N_faults'],axis=0,inplace=True)"
   ],
   "metadata": {
    "collapsed": false,
    "pycharm": {
     "name": "#%%\n"
    }
   }
  },
  {
   "cell_type": "code",
   "execution_count": 8,
   "outputs": [],
   "source": [
    "# example of search for events with constraints on numbers of faults\n",
    "two_faults=multifault_db.loc[multifault_db['N_faults']==2]\n",
    "more_faults=multifault_db.loc[multifault_db['N_faults']>4]\n",
    "most_faults=multifault_db.loc[multifault_db['N_faults']==np.max(multifault_db['N_faults'])]"
   ],
   "metadata": {
    "collapsed": false,
    "pycharm": {
     "name": "#%%\n"
    }
   }
  },
  {
   "cell_type": "code",
   "execution_count": 9,
   "outputs": [
    {
     "name": "stdout",
     "output_type": "stream",
     "text": [
      "67,990 events  (72.3% of multifault ruptures)  involve 2 faults.\n",
      "7,336 events (7.8% of multifault ruptures)  involve 5 or more faults. \n",
      " The maximum number of faults involved is 188 in a Mw 9.06 earthquake (there are 528 faults in the model).\n"
     ]
    }
   ],
   "source": [
    "# print some associated information\n",
    "print('{:,} events  ({:.1f}% of multifault ruptures)  involve 2 faults.\\n'\n",
    "      '{:,} events ({:.1f}% of multifault ruptures)  involve 5 or more faults. \\n The maximum number of faults involved is {} in a Mw {:.2f} earthquake (there are {} faults in the model).'.\\\n",
    "      format(len(two_faults),100.*len(two_faults)/nmultifault,len(more_faults),100.*len(more_faults)/nmultifault,np.max(multifault_db['N_faults']),most_faults['Event'].iloc[0].mw,len(fault_model.faults)))"
   ],
   "metadata": {
    "collapsed": false,
    "pycharm": {
     "name": "#%%\n"
    }
   }
  },
  {
   "cell_type": "markdown",
   "source": [
    "Investigate multifault events including or starting on a specific fault e.g. hundalee (alpiner is a good test because have lots of these)"
   ],
   "metadata": {
    "collapsed": false,
    "pycharm": {
     "name": "#%% md\n"
    }
   }
  },
  {
   "cell_type": "code",
   "execution_count": 10,
   "outputs": [],
   "source": [
    "faultName='alpiner'\n",
    "#find events including the fault of interest\n",
    "event_indices = []\n",
    "ev_list=[]\n",
    "for i, row in multifault_db.iterrows():\n",
    "    if faultName in row[\"Fault_names\"]:\n",
    "        event_indices.append(i)\n",
    "        ev_list.append(row[\"Fault_names\"])\n",
    "fault_events=multifault_db.loc[event_indices]\n",
    "#find the instances which contain the fault of interest\n",
    "#fault_events= [list_i for list_i in fault_list if faultName in list_i]\n",
    "# find unique events (in terms of faults ruptured)\n",
    "fault_events_unique=np.unique(np.asanyarray(ev_list,dtype=object))\n",
    "#find multifault events starting on the fault of interest\n",
    "fault_start_events=multifault_db.loc[multifault_db['Start_fault']==faultName]\n",
    "#find multifault events which end on the fault of interest\n",
    "fault_end_events=multifault_db.loc[multifault_db['End_fault']==faultName]"
   ],
   "metadata": {
    "collapsed": false,
    "pycharm": {
     "name": "#%%\n"
    }
   }
  },
  {
   "cell_type": "code",
   "execution_count": 11,
   "outputs": [
    {
     "name": "stdout",
     "output_type": "stream",
     "text": [
      "alpiner fault participates in 12704 multifault ruptures, with 105 unique combinations.\n",
      " 10138 (79.8%) of these multifault ruptures start on this fault.\n"
     ]
    }
   ],
   "source": [
    "#write out findings\n",
    "print('{} fault participates in {} multifault ruptures, with {} unique combinations.\\n {} ({:.1f}%) of these multifault ruptures start on this fault.'.\\\n",
    "      format(faultName,len(fault_events),len(fault_events_unique),len(fault_start_events),100.*len(fault_start_events)/len(fault_events)))"
   ],
   "metadata": {
    "collapsed": false,
    "pycharm": {
     "name": "#%%\n"
    }
   }
  },
  {
   "cell_type": "markdown",
   "source": [
    "Look at how many multifault ruptures start on $\\textbf{each}$ fault"
   ],
   "metadata": {
    "collapsed": false,
    "pycharm": {
     "name": "#%% md\n"
    }
   }
  },
  {
   "cell_type": "code",
   "execution_count": 12,
   "outputs": [],
   "source": [
    "# cumulative number of events starting on each fault\n",
    "start_fault_by_nevents=multifault_db['Start_fault'].value_counts(sort=True)"
   ],
   "metadata": {
    "collapsed": false,
    "pycharm": {
     "name": "#%%\n"
    }
   }
  },
  {
   "cell_type": "markdown",
   "source": [
    "Want to compare these multifault rupture initiations to fault slip rates - so make a dictionary of fault slip rates."
   ],
   "metadata": {
    "collapsed": false,
    "pycharm": {
     "name": "#%% md\n"
    }
   }
  },
  {
   "cell_type": "code",
   "execution_count": 13,
   "outputs": [],
   "source": [
    "slip_rate_dict={}\n",
    "\n",
    "for fault in fault_model.faults:\n",
    "    all_slip_rates=[]\n",
    "    for patch_id in fault.patch_numbers:\n",
    "        patch = fault.patch_dic[patch_id]\n",
    "        slip_rate = patch.total_slip\n",
    "        all_slip_rates.append(slip_rate)\n",
    "    #mean slip rate in mm/yr\n",
    "    mean_slip_rate=np.mean(all_slip_rates)*seconds_per_year*1000\n",
    "    if fault.name in start_fault_by_nevents.keys():\n",
    "        slip_rate_dict[fault.name]=[mean_slip_rate,start_fault_by_nevents[fault.name]]\n",
    "    else:\n",
    "        slip_rate_dict[fault.name]=[mean_slip_rate,0]"
   ],
   "metadata": {
    "collapsed": false,
    "pycharm": {
     "name": "#%%\n"
    }
   }
  },
  {
   "cell_type": "markdown",
   "source": [
    "... and plot"
   ],
   "metadata": {
    "collapsed": false,
    "pycharm": {
     "name": "#%% md\n"
    }
   }
  },
  {
   "cell_type": "code",
   "execution_count": 14,
   "outputs": [
    {
     "data": {
      "text/plain": "<Figure size 432x288 with 1 Axes>",
      "image/png": "[encoded data removed]"
     },
     "metadata": {
      "needs_background": "light"
     },
     "output_type": "display_data"
    }
   ],
   "source": [
    "fig,ax=plt.subplots()\n",
    "\n",
    "fault_names,points=zip(*slip_rate_dict.items())\n",
    "x,y=zip(*points)\n",
    "\n",
    "x=np.array(x)\n",
    "y=np.array(y)\n",
    "label_mask=(x<10) * (y<2000)\n",
    "x_no_label=x[label_mask]\n",
    "y_no_label=y[label_mask]\n",
    "ax.scatter(x_no_label,y_no_label,marker=\"+\",c=\"grey\")\n",
    "#and plot higher values which we do want to label\n",
    "x_label=x[~label_mask]\n",
    "y_label=y[~label_mask]\n",
    "fault_names=np.array(fault_names)\n",
    "fault_labels=fault_names[~label_mask]\n",
    "\n",
    "for label in fault_labels:\n",
    "    index=np.where(fault_labels==label)\n",
    "    ax.scatter(x_label[index],y_label[index],label=label)\n",
    "\n",
    "#for i, txt in enumerate(fault_labels):\n",
    "#    plt.annotate(txt,(x_label[i],y_label[i]))\n",
    "plt.legend()\n",
    "ax.set_xlabel(\"Slip Rate / mmyr$^{-1}$\")\n",
    "ax.set_ylabel(\"# multifault events initiating on fault\")\n",
    "fig.savefig(\"multi_init-slip_rate.jpg\",dpi=300)"
   ],
   "metadata": {
    "collapsed": false,
    "pycharm": {
     "name": "#%%\n"
    }
   }
  },
  {
   "cell_type": "markdown",
   "source": [
    "Next steps:\n",
    "* look at total number of ruptures and / or multifault ruptures involving each fault\n",
    "* look at what multifault ruptures are happening (i.e. which faults are involved)\n",
    "* these would probably be easier if had fault_events as an RSQsimCatalogue object - how to do this?\n",
    "* Does number of faults involved correlate with event magnitude?"
   ],
   "metadata": {
    "collapsed": false,
    "pycharm": {
     "name": "#%% md\n"
    }
   }
  },
  {
   "cell_type": "code",
   "execution_count": 15,
   "outputs": [
    {
     "ename": "KeyError",
     "evalue": "2355",
     "output_type": "error",
     "traceback": [
      "\u001B[0;31m---------------------------------------------------------------------------\u001B[0m",
      "\u001B[0;31mKeyError\u001B[0m                                  Traceback (most recent call last)",
      "File \u001B[0;32m~/anaconda3/envs/rsqsim-python-tools/lib/python3.10/site-packages/pandas/core/indexes/base.py:3621\u001B[0m, in \u001B[0;36mIndex.get_loc\u001B[0;34m(self, key, method, tolerance)\u001B[0m\n\u001B[1;32m   3620\u001B[0m \u001B[38;5;28;01mtry\u001B[39;00m:\n\u001B[0;32m-> 3621\u001B[0m     \u001B[38;5;28;01mreturn\u001B[39;00m \u001B[38;5;28;43mself\u001B[39;49m\u001B[38;5;241;43m.\u001B[39;49m\u001B[43m_engine\u001B[49m\u001B[38;5;241;43m.\u001B[39;49m\u001B[43mget_loc\u001B[49m\u001B[43m(\u001B[49m\u001B[43mcasted_key\u001B[49m\u001B[43m)\u001B[49m\n\u001B[1;32m   3622\u001B[0m \u001B[38;5;28;01mexcept\u001B[39;00m \u001B[38;5;167;01mKeyError\u001B[39;00m \u001B[38;5;28;01mas\u001B[39;00m err:\n",
      "File \u001B[0;32m~/anaconda3/envs/rsqsim-python-tools/lib/python3.10/site-packages/pandas/_libs/index.pyx:136\u001B[0m, in \u001B[0;36mpandas._libs.index.IndexEngine.get_loc\u001B[0;34m()\u001B[0m\n",
      "File \u001B[0;32m~/anaconda3/envs/rsqsim-python-tools/lib/python3.10/site-packages/pandas/_libs/index.pyx:163\u001B[0m, in \u001B[0;36mpandas._libs.index.IndexEngine.get_loc\u001B[0;34m()\u001B[0m\n",
      "File \u001B[0;32mpandas/_libs/hashtable_class_helper.pxi:2131\u001B[0m, in \u001B[0;36mpandas._libs.hashtable.Int64HashTable.get_item\u001B[0;34m()\u001B[0m\n",
      "File \u001B[0;32mpandas/_libs/hashtable_class_helper.pxi:2140\u001B[0m, in \u001B[0;36mpandas._libs.hashtable.Int64HashTable.get_item\u001B[0;34m()\u001B[0m\n",
      "\u001B[0;31mKeyError\u001B[0m: 2355",
      "\nThe above exception was the direct cause of the following exception:\n",
      "\u001B[0;31mKeyError\u001B[0m                                  Traceback (most recent call last)",
      "Input \u001B[0;32mIn [15]\u001B[0m, in \u001B[0;36m<cell line: 2>\u001B[0;34m()\u001B[0m\n\u001B[1;32m      1\u001B[0m \u001B[38;5;66;03m# check on slip evolution\u001B[39;00m\n\u001B[0;32m----> 2\u001B[0m test_ev\u001B[38;5;241m=\u001B[39m\u001B[43mfault_events\u001B[49m\u001B[43m[\u001B[49m\u001B[38;5;124;43m\"\u001B[39;49m\u001B[38;5;124;43mEvent\u001B[39;49m\u001B[38;5;124;43m\"\u001B[39;49m\u001B[43m]\u001B[49m\u001B[38;5;241;43m.\u001B[39;49m\u001B[43mloc\u001B[49m\u001B[43m[\u001B[49m\u001B[38;5;241;43m2355\u001B[39;49m\u001B[43m]\u001B[49m\n\u001B[1;32m      3\u001B[0m test_ev\u001B[38;5;241m.\u001B[39mplot_slip_evolution(step_size\u001B[38;5;241m=\u001B[39m\u001B[38;5;241m2\u001B[39m,write\u001B[38;5;241m=\u001B[39m\u001B[38;5;124m'\u001B[39m\u001B[38;5;124mtest_slip\u001B[39m\u001B[38;5;124m'\u001B[39m,show\u001B[38;5;241m=\u001B[39m\u001B[38;5;28;01mFalse\u001B[39;00m)\n\u001B[1;32m      4\u001B[0m \u001B[38;5;28;01mfrom\u001B[39;00m \u001B[38;5;21;01mIPython\u001B[39;00m\u001B[38;5;21;01m.\u001B[39;00m\u001B[38;5;21;01mdisplay\u001B[39;00m \u001B[38;5;28;01mimport\u001B[39;00m Image\n",
      "File \u001B[0;32m~/anaconda3/envs/rsqsim-python-tools/lib/python3.10/site-packages/pandas/core/indexing.py:967\u001B[0m, in \u001B[0;36m_LocationIndexer.__getitem__\u001B[0;34m(self, key)\u001B[0m\n\u001B[1;32m    964\u001B[0m axis \u001B[38;5;241m=\u001B[39m \u001B[38;5;28mself\u001B[39m\u001B[38;5;241m.\u001B[39maxis \u001B[38;5;129;01mor\u001B[39;00m \u001B[38;5;241m0\u001B[39m\n\u001B[1;32m    966\u001B[0m maybe_callable \u001B[38;5;241m=\u001B[39m com\u001B[38;5;241m.\u001B[39mapply_if_callable(key, \u001B[38;5;28mself\u001B[39m\u001B[38;5;241m.\u001B[39mobj)\n\u001B[0;32m--> 967\u001B[0m \u001B[38;5;28;01mreturn\u001B[39;00m \u001B[38;5;28;43mself\u001B[39;49m\u001B[38;5;241;43m.\u001B[39;49m\u001B[43m_getitem_axis\u001B[49m\u001B[43m(\u001B[49m\u001B[43mmaybe_callable\u001B[49m\u001B[43m,\u001B[49m\u001B[43m \u001B[49m\u001B[43maxis\u001B[49m\u001B[38;5;241;43m=\u001B[39;49m\u001B[43maxis\u001B[49m\u001B[43m)\u001B[49m\n",
      "File \u001B[0;32m~/anaconda3/envs/rsqsim-python-tools/lib/python3.10/site-packages/pandas/core/indexing.py:1202\u001B[0m, in \u001B[0;36m_LocIndexer._getitem_axis\u001B[0;34m(self, key, axis)\u001B[0m\n\u001B[1;32m   1200\u001B[0m \u001B[38;5;66;03m# fall thru to straight lookup\u001B[39;00m\n\u001B[1;32m   1201\u001B[0m \u001B[38;5;28mself\u001B[39m\u001B[38;5;241m.\u001B[39m_validate_key(key, axis)\n\u001B[0;32m-> 1202\u001B[0m \u001B[38;5;28;01mreturn\u001B[39;00m \u001B[38;5;28;43mself\u001B[39;49m\u001B[38;5;241;43m.\u001B[39;49m\u001B[43m_get_label\u001B[49m\u001B[43m(\u001B[49m\u001B[43mkey\u001B[49m\u001B[43m,\u001B[49m\u001B[43m \u001B[49m\u001B[43maxis\u001B[49m\u001B[38;5;241;43m=\u001B[39;49m\u001B[43maxis\u001B[49m\u001B[43m)\u001B[49m\n",
      "File \u001B[0;32m~/anaconda3/envs/rsqsim-python-tools/lib/python3.10/site-packages/pandas/core/indexing.py:1153\u001B[0m, in \u001B[0;36m_LocIndexer._get_label\u001B[0;34m(self, label, axis)\u001B[0m\n\u001B[1;32m   1151\u001B[0m \u001B[38;5;28;01mdef\u001B[39;00m \u001B[38;5;21m_get_label\u001B[39m(\u001B[38;5;28mself\u001B[39m, label, axis: \u001B[38;5;28mint\u001B[39m):\n\u001B[1;32m   1152\u001B[0m     \u001B[38;5;66;03m# GH#5667 this will fail if the label is not present in the axis.\u001B[39;00m\n\u001B[0;32m-> 1153\u001B[0m     \u001B[38;5;28;01mreturn\u001B[39;00m \u001B[38;5;28;43mself\u001B[39;49m\u001B[38;5;241;43m.\u001B[39;49m\u001B[43mobj\u001B[49m\u001B[38;5;241;43m.\u001B[39;49m\u001B[43mxs\u001B[49m\u001B[43m(\u001B[49m\u001B[43mlabel\u001B[49m\u001B[43m,\u001B[49m\u001B[43m \u001B[49m\u001B[43maxis\u001B[49m\u001B[38;5;241;43m=\u001B[39;49m\u001B[43maxis\u001B[49m\u001B[43m)\u001B[49m\n",
      "File \u001B[0;32m~/anaconda3/envs/rsqsim-python-tools/lib/python3.10/site-packages/pandas/core/generic.py:3864\u001B[0m, in \u001B[0;36mNDFrame.xs\u001B[0;34m(self, key, axis, level, drop_level)\u001B[0m\n\u001B[1;32m   3862\u001B[0m             new_index \u001B[38;5;241m=\u001B[39m index[loc]\n\u001B[1;32m   3863\u001B[0m \u001B[38;5;28;01melse\u001B[39;00m:\n\u001B[0;32m-> 3864\u001B[0m     loc \u001B[38;5;241m=\u001B[39m \u001B[43mindex\u001B[49m\u001B[38;5;241;43m.\u001B[39;49m\u001B[43mget_loc\u001B[49m\u001B[43m(\u001B[49m\u001B[43mkey\u001B[49m\u001B[43m)\u001B[49m\n\u001B[1;32m   3866\u001B[0m     \u001B[38;5;28;01mif\u001B[39;00m \u001B[38;5;28misinstance\u001B[39m(loc, np\u001B[38;5;241m.\u001B[39mndarray):\n\u001B[1;32m   3867\u001B[0m         \u001B[38;5;28;01mif\u001B[39;00m loc\u001B[38;5;241m.\u001B[39mdtype \u001B[38;5;241m==\u001B[39m np\u001B[38;5;241m.\u001B[39mbool_:\n",
      "File \u001B[0;32m~/anaconda3/envs/rsqsim-python-tools/lib/python3.10/site-packages/pandas/core/indexes/base.py:3623\u001B[0m, in \u001B[0;36mIndex.get_loc\u001B[0;34m(self, key, method, tolerance)\u001B[0m\n\u001B[1;32m   3621\u001B[0m     \u001B[38;5;28;01mreturn\u001B[39;00m \u001B[38;5;28mself\u001B[39m\u001B[38;5;241m.\u001B[39m_engine\u001B[38;5;241m.\u001B[39mget_loc(casted_key)\n\u001B[1;32m   3622\u001B[0m \u001B[38;5;28;01mexcept\u001B[39;00m \u001B[38;5;167;01mKeyError\u001B[39;00m \u001B[38;5;28;01mas\u001B[39;00m err:\n\u001B[0;32m-> 3623\u001B[0m     \u001B[38;5;28;01mraise\u001B[39;00m \u001B[38;5;167;01mKeyError\u001B[39;00m(key) \u001B[38;5;28;01mfrom\u001B[39;00m \u001B[38;5;21;01merr\u001B[39;00m\n\u001B[1;32m   3624\u001B[0m \u001B[38;5;28;01mexcept\u001B[39;00m \u001B[38;5;167;01mTypeError\u001B[39;00m:\n\u001B[1;32m   3625\u001B[0m     \u001B[38;5;66;03m# If we have a listlike key, _check_indexing_error will raise\u001B[39;00m\n\u001B[1;32m   3626\u001B[0m     \u001B[38;5;66;03m#  InvalidIndexError. Otherwise we fall through and re-raise\u001B[39;00m\n\u001B[1;32m   3627\u001B[0m     \u001B[38;5;66;03m#  the TypeError.\u001B[39;00m\n\u001B[1;32m   3628\u001B[0m     \u001B[38;5;28mself\u001B[39m\u001B[38;5;241m.\u001B[39m_check_indexing_error(key)\n",
      "\u001B[0;31mKeyError\u001B[0m: 2355"
     ]
    }
   ],
   "source": [
    "# check on slip evolution\n",
    "test_ev=fault_events[\"Event\"].loc[2355]\n",
    "test_ev.plot_slip_evolution(step_size=2,write='test_slip',show=False)\n",
    "from IPython.display import Image\n",
    "Image(open('test_slip.gif','rb').read())"
   ],
   "metadata": {
    "collapsed": false,
    "pycharm": {
     "name": "#%%\n"
    }
   }
  },
  {
   "cell_type": "code",
   "execution_count": null,
   "outputs": [],
   "source": [],
   "metadata": {
    "collapsed": false,
    "pycharm": {
     "name": "#%%\n"
    }
   }
  }
 ],
 "metadata": {
  "kernelspec": {
   "display_name": "Python 3 (ipykernel)",
   "language": "python",
   "name": "python3"
  },
  "language_info": {
   "codemirror_mode": {
    "name": "ipython",
    "version": 3
   },
   "file_extension": ".py",
   "mimetype": "text/x-python",
   "name": "python",
   "nbconvert_exporter": "python",
   "pygments_lexer": "ipython3",
   "version": "3.10.4"
  }
 },
 "nbformat": 4,
 "nbformat_minor": 1
}