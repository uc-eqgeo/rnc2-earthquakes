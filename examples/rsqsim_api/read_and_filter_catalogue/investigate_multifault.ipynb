{
 "cells": [
  {
   "cell_type": "markdown",
   "source": [
    "Find multifault ruptures in RSQsim catalogue and investigate which faults are involved.\n",
    "Compare initiation of multifault ruptures to slip rates."
   ],
   "metadata": {
    "collapsed": false,
    "pycharm": {
     "name": "#%% md\n"
    }
   }
  },
  {
   "cell_type": "code",
   "execution_count": null,
   "outputs": [],
   "source": [
    "import matplotlib.pyplot as plt\n",
    "from rsqsim_api.fault.multifault import RsqSimMultiFault\n",
    "import shutil\n",
    "from rsqsim_api.catalogue.catalogue import RsqSimCatalogue\n",
    "import os\n",
    "import numpy as np\n",
    "import pandas as pd\n",
    "\n",
    "seconds_per_year = 31557600.0"
   ],
   "metadata": {
    "collapsed": false,
    "pycharm": {
     "name": "#%%\n"
    }
   }
  },
  {
   "cell_type": "code",
   "execution_count": 2,
   "outputs": [],
   "source": [
    "# # Tell python where field paths etc are relative to\n",
    "script_dir = os.path.abspath('')\n",
    "fault_dir = \"../../../data/shaw2021/rundir5091\"\n",
    "catalogue_dir = fault_dir\n",
    "#give directory to write multifault catalogue too / read from\n",
    "multi_cat_dir=\"../../../data/shaw2021/multifault/\"\n",
    "#prefix of multifault catalogue file (takes a minute or so to filter whole catalogue)\n",
    "multi_cat_name=\"multi_cat\""
   ],
   "metadata": {
    "collapsed": false,
    "pycharm": {
     "name": "#%%\n"
    }
   }
  },
  {
   "cell_type": "markdown",
   "source": [
    "Read in catalogue of RSQsim events and fault model"
   ],
   "metadata": {
    "collapsed": false,
    "pycharm": {
     "name": "#%% md\n"
    }
   }
  },
  {
   "cell_type": "code",
   "execution_count": 3,
   "outputs": [],
   "source": [
    "fault_model = RsqSimMultiFault.read_fault_file_bruce(os.path.join(script_dir, fault_dir, \"zfault_Deepen.in\"),\n",
    "                                                     os.path.join(script_dir, fault_dir, \"znames_Deepen.in\"),\n",
    "                                                     transform_from_utm=True)\n",
    "whole_catalogue = RsqSimCatalogue.from_catalogue_file_and_lists(os.path.join(catalogue_dir, \"eqs..out\"),\n",
    "                                                                list_file_directory=catalogue_dir, list_file_prefix=\"catalog\")\n"
   ],
   "metadata": {
    "collapsed": false,
    "pycharm": {
     "name": "#%%\n"
    }
   }
  },
  {
   "cell_type": "markdown",
   "source": [
    "Read in catalogue of multifault ruptures or find multifault ruptures in the whole catalogue."
   ],
   "metadata": {
    "collapsed": false,
    "pycharm": {
     "name": "#%% md\n"
    }
   }
  },
  {
   "cell_type": "code",
   "execution_count": 4,
   "outputs": [],
   "source": [
    "if os.path.exists(os.path.join(multi_cat_dir,multi_cat_name)):\n",
    "    multi_cat=RsqSimCatalogue.from_csv_and_arrays(prefix=multi_cat_dir+multi_cat_name)\n",
    "    multifault=[ev for ev in multi_cat.all_events(fault_model)]\n",
    "else:\n",
    "    # identify multifault events if not already read in\n",
    "    multifault=[ev for ev in whole_catalogue.all_events(fault_model) if ev.num_faults > 1]\n",
    "    #and filter catalogue to just these events \n",
    "    multifault_ids=[event.event_id for event in multifault]\n",
    "    multi_cat=whole_catalogue.filter_by_events(multifault_ids)\n",
    "    #write out\n",
    "    multi_cat.write_csv_and_arrays(prefix=multi_cat_name,directory=multi_cat_dir)"
   ],
   "metadata": {
    "collapsed": false,
    "pycharm": {
     "name": "#%%\n"
    }
   }
  },
  {
   "cell_type": "markdown",
   "source": [
    "Find number of events in whole catalogue, time span and proportion which are multifault."
   ],
   "metadata": {
    "collapsed": false,
    "pycharm": {
     "name": "#%% md\n"
    }
   }
  },
  {
   "cell_type": "code",
   "execution_count": 212,
   "outputs": [
    {
     "name": "stdout",
     "output_type": "stream",
     "text": [
      "Catalogue contains 61,322,247 events over 276,581 years.\n",
      "94,010 (0.15%) of these are multifault ruptures\n"
     ]
    }
   ],
   "source": [
    "#catalogue info\n",
    "nevents=len(whole_catalogue.event_list)\n",
    "timeSpan=(np.max(whole_catalogue.patch_time_list) - np.min (whole_catalogue.patch_time_list))/seconds_per_year\n",
    "nmultifault=len(multifault)\n",
    "prop_multifault=nmultifault/nevents\n",
    "#write out\n",
    "print('Catalogue contains {:,} events over {:,.0f} years.\\n{:,} ({:.2f}%) of these are multifault ruptures'.format(nevents, timeSpan,nmultifault,prop_multifault*100.))"
   ],
   "metadata": {
    "collapsed": false,
    "pycharm": {
     "name": "#%%\n"
    }
   }
  },
  {
   "cell_type": "code",
   "execution_count": 6,
   "outputs": [],
   "source": [
    "#create dictionary of faults in each multifault event\n",
    "\n",
    "#minimulti=multifault[10:100]\n",
    "fault_dic={}\n",
    "i=0\n",
    "#for ev in minimulti:\n",
    "for ev in multifault:\n",
    "    ev_faults=fault_model.filter_faults_by_patch_numbers(ev.patch_numbers)\n",
    "    ev_fault_names=ev_faults.names\n",
    "    #find starting fault\n",
    "    assert len(np.where(ev.patch_time==ev.patch_time.min())) == 1, \"Event starts on multiple patches\"\n",
    "    firstPatch=ev.patch_numbers[np.argmin(ev.patch_time)]\n",
    "    firstFault=ev_faults.filter_faults_by_patch_numbers(firstPatch,fault_from_single_patch=True)\n",
    "    firstFaultName=firstFault.name\n",
    "    #write dict entry\n",
    "    fault_dic[i]=(ev.event_id,ev,len(ev_fault_names),ev_fault_names,firstFaultName)\n",
    "    i=i+1\n",
    "multifault_db=pd.DataFrame.from_dict(fault_dic,orient='index',columns=('Event_id','Event','N_faults','Fault_names','Start_fault'))"
   ],
   "metadata": {
    "collapsed": false,
    "pycharm": {
     "name": "#%%\n"
    }
   }
  },
  {
   "cell_type": "code",
   "execution_count": 7,
   "outputs": [],
   "source": [
    "#sort by number of faults involved\n",
    "multifault_db.sort_values(by=['N_faults'],axis=0,inplace=True)"
   ],
   "metadata": {
    "collapsed": false,
    "pycharm": {
     "name": "#%%\n"
    }
   }
  },
  {
   "cell_type": "code",
   "execution_count": 209,
   "outputs": [],
   "source": [
    "# example of search for events with constraints on numbers of faults\n",
    "two_faults=multifault_db.loc[multifault_db['N_faults']==2]\n",
    "more_faults=multifault_db.loc[multifault_db['N_faults']>4]\n",
    "most_faults=multifault_db.loc[multifault_db['N_faults']==np.max(multifault_db['N_faults'])]"
   ],
   "metadata": {
    "collapsed": false,
    "pycharm": {
     "name": "#%%\n"
    }
   }
  },
  {
   "cell_type": "code",
   "execution_count": 211,
   "outputs": [
    {
     "name": "stdout",
     "output_type": "stream",
     "text": [
      "67,990 events  (72.3% of multifault ruptures)  involve 2 faults.\n",
      "7,336 events (7.8% of multifault ruptures)  involve 5 or more faults. \n",
      " The maximum number of faults involved is 188 in a Mw 9.06 earthquake (there are 528 faults in the model).\n"
     ]
    }
   ],
   "source": [
    "# print some associated information\n",
    "print('{:,} events  ({:.1f}% of multifault ruptures)  involve 2 faults.\\n'\n",
    "      '{:,} events ({:.1f}% of multifault ruptures)  involve 5 or more faults. \\n The maximum number of faults involved is {} in a Mw {:.2f} earthquake (there are {} faults in the model).'.\\\n",
    "      format(len(two_faults),100.*len(two_faults)/nmultifault,len(more_faults),100.*len(more_faults)/nmultifault,np.max(multifault_db['N_faults']),most_faults['Event'].iloc[0].mw,len(fault_model.faults)))"
   ],
   "metadata": {
    "collapsed": false,
    "pycharm": {
     "name": "#%%\n"
    }
   }
  },
  {
   "cell_type": "markdown",
   "source": [
    "Investigate multifault events including or starting on a specific fault e.g. hundalee (alpiner is a good test because have lots of these)"
   ],
   "metadata": {
    "collapsed": false,
    "pycharm": {
     "name": "#%% md\n"
    }
   }
  },
  {
   "cell_type": "code",
   "execution_count": 186,
   "outputs": [],
   "source": [
    "faultName='alpiner'\n",
    "#access list of lists of fault names\n",
    "fault_list=[multifault_db['Fault_names'].values[i] for i in np.arange(0,len(multifault_db['Fault_names'].values))]\n",
    "#find the instances which contain the fault of interest\n",
    "fault_events=[fault_list[i] for i in np.where([faultName in fault_list[j] for j in np.arange(0,len(fault_list))])[0]]\n",
    "#find multifault events starting on the fault of interest\n",
    "fault_start_events=multifault_db.loc[multifault_db['Start_fault']==faultName]"
   ],
   "metadata": {
    "collapsed": false,
    "pycharm": {
     "name": "#%%\n"
    }
   }
  },
  {
   "cell_type": "code",
   "execution_count": 187,
   "outputs": [
    {
     "name": "stdout",
     "output_type": "stream",
     "text": [
      "alpiner fault participates in 12704 multifault ruptures, with 105 unique combinations.\n",
      " 10138 (79.8%) of these multifault ruptures start on this fault.\n"
     ]
    }
   ],
   "source": [
    "#write out findings\n",
    "print('{} fault participates in {} multifault ruptures, with {} unique combinations.\\n {} ({:.1f}%) of these multifault ruptures start on this fault.'.\\\n",
    "      format(faultName,len(fault_events),len(np.unique(np.asanyarray(fault_events,dtype=object))),len(fault_start_events),100.*len(fault_start_events)/len(fault_events)))"
   ],
   "metadata": {
    "collapsed": false,
    "pycharm": {
     "name": "#%%\n"
    }
   }
  },
  {
   "cell_type": "markdown",
   "source": [
    "Look at how many multifault ruptures start on $\\textbf{each}$ fault"
   ],
   "metadata": {
    "collapsed": false,
    "pycharm": {
     "name": "#%% md\n"
    }
   }
  },
  {
   "cell_type": "code",
   "execution_count": 31,
   "outputs": [],
   "source": [
    "# cumulative number of events starting on each fault\n",
    "start_fault_by_nevents=multifault_db['Start_fault'].value_counts(sort=True)"
   ],
   "metadata": {
    "collapsed": false,
    "pycharm": {
     "name": "#%%\n"
    }
   }
  },
  {
   "cell_type": "markdown",
   "source": [
    "Want to compare these multifault rupture initiations to fault slip rates - so make a dictionary of fault slip rates."
   ],
   "metadata": {
    "collapsed": false,
    "pycharm": {
     "name": "#%% md\n"
    }
   }
  },
  {
   "cell_type": "code",
   "execution_count": 101,
   "outputs": [],
   "source": [
    "slip_rate_dict={}\n",
    "\n",
    "for fault in fault_model.faults:\n",
    "    all_slip_rates=[]\n",
    "    for patch_id in fault.patch_numbers:\n",
    "        patch = fault.patch_dic[patch_id]\n",
    "        slip_rate = patch.total_slip\n",
    "        all_slip_rates.append(slip_rate)\n",
    "    #mean slip rate in mm/yr\n",
    "    mean_slip_rate=np.mean(all_slip_rates)*seconds_per_year*1000\n",
    "    if fault.name in start_fault_by_nevents.keys():\n",
    "        slip_rate_dict[fault.name]=[mean_slip_rate,start_fault_by_nevents[fault.name]]\n",
    "    else:\n",
    "        slip_rate_dict[fault.name]=[mean_slip_rate,0]"
   ],
   "metadata": {
    "collapsed": false,
    "pycharm": {
     "name": "#%%\n"
    }
   }
  },
  {
   "cell_type": "markdown",
   "source": [
    "... and plot"
   ],
   "metadata": {
    "collapsed": false,
    "pycharm": {
     "name": "#%% md\n"
    }
   }
  },
  {
   "cell_type": "code",
   "execution_count": 175,
   "outputs": [
    {
     "data": {
      "text/plain": "<Figure size 432x288 with 1 Axes>",
      "image/png": "[encoded data removed]"
     },
     "metadata": {
      "needs_background": "light"
     },
     "output_type": "display_data"
    }
   ],
   "source": [
    "fig,ax=plt.subplots()\n",
    "\n",
    "fault_names,points=zip(*slip_rate_dict.items())\n",
    "x,y=zip(*points)\n",
    "\n",
    "x=np.array(x)\n",
    "y=np.array(y)\n",
    "label_mask=(x<10) * (y<2000)\n",
    "x_no_label=x[label_mask]\n",
    "y_no_label=y[label_mask]\n",
    "ax.scatter(x_no_label,y_no_label,marker=\"+\",c=\"grey\")\n",
    "#and plot higher values which we do want to label\n",
    "x_label=x[~label_mask]\n",
    "y_label=y[~label_mask]\n",
    "fault_names=np.array(fault_names)\n",
    "fault_labels=fault_names[~label_mask]\n",
    "\n",
    "for label in fault_labels:\n",
    "    index=np.where(fault_labels==label)\n",
    "    ax.scatter(x_label[index],y_label[index],label=label)\n",
    "\n",
    "#for i, txt in enumerate(fault_labels):\n",
    "#    plt.annotate(txt,(x_label[i],y_label[i]))\n",
    "plt.legend()\n",
    "ax.set_xlabel(\"Slip Rate mm/yr\")\n",
    "ax.set_ylabel(\"# multifault events initiating on fault\")\n",
    "fig.savefig(\"multi_init-slip_rate.jpg\",dpi=300)"
   ],
   "metadata": {
    "collapsed": false,
    "pycharm": {
     "name": "#%%\n"
    }
   }
  },
  {
   "cell_type": "markdown",
   "source": [
    "Next steps:\n",
    "* look at total number of ruptures and / or multifault ruptures involving each fault\n",
    "* look at what multifault ruptures are happening (i.e. which faults are involved)\n",
    "* these would probably be easier if had fault_events as an RSQsimCatalogue object - how to do this?\n",
    "* Does number of faults involved correlate with event magnitude?"
   ],
   "metadata": {
    "collapsed": false,
    "pycharm": {
     "name": "#%% md\n"
    }
   }
  },
  {
   "cell_type": "code",
   "execution_count": 208,
   "outputs": [],
   "source": [],
   "metadata": {
    "collapsed": false,
    "pycharm": {
     "name": "#%%\n"
    }
   }
  },
  {
   "cell_type": "code",
   "execution_count": null,
   "outputs": [],
   "source": [],
   "metadata": {
    "collapsed": false,
    "pycharm": {
     "name": "#%%\n"
    }
   }
  }
 ],
 "metadata": {
  "kernelspec": {
   "display_name": "Python 3 (ipykernel)",
   "language": "python",
   "name": "python3"
  },
  "language_info": {
   "codemirror_mode": {
    "name": "ipython",
    "version": 3
   },
   "file_extension": ".py",
   "mimetype": "text/x-python",
   "name": "python",
   "nbconvert_exporter": "python",
   "pygments_lexer": "ipython3",
   "version": "3.10.4"
  }
 },
 "nbformat": 4,
 "nbformat_minor": 1
}