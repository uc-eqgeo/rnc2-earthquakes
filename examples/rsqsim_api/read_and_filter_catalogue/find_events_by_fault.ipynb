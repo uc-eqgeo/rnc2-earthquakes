{
 "cells": [
  {
   "cell_type": "markdown",
   "source": [
    "Select events from a catalogue based on the fault they're on"
   ],
   "metadata": {
    "collapsed": false,
    "pycharm": {
     "name": "#%% md\n"
    }
   }
  },
  {
   "cell_type": "code",
   "execution_count": 1,
   "outputs": [],
   "source": [
    "#import relevant modules\n",
    "from rsqsim_api.catalogue.catalogue import RsqSimCatalogue\n",
    "from rsqsim_api.fault.multifault import RsqSimMultiFault\n",
    "import fnmatch\n",
    "import os"
   ],
   "metadata": {
    "collapsed": false,
    "pycharm": {
     "name": "#%%\n"
    }
   }
  },
  {
   "cell_type": "code",
   "execution_count": 27,
   "outputs": [],
   "source": [
    "# Tell python where field paths etc are relative to\n",
    "script_dir = os.path.abspath('')\n",
    "fault_dir = \"../../../data/shaw2021/rundir5091\"\n",
    "catalogue_dir = fault_dir\n",
    "outdir=os.path.join(catalogue_dir,\"by_fault\")"
   ],
   "metadata": {
    "collapsed": false,
    "pycharm": {
     "name": "#%%\n"
    }
   }
  },
  {
   "cell_type": "markdown",
   "source": [
    "Read in faults and earthquake catalogue.  The files are quite large and can be downloaded from https://doi.org/10.5281/zenodo.5534462\n",
    "The models have a spin up period so it's best to remove the first ~2e12s (60kyr) - see below."
   ],
   "metadata": {
    "collapsed": false,
    "pycharm": {
     "name": "#%% md\n"
    }
   }
  },
  {
   "cell_type": "code",
   "execution_count": 5,
   "outputs": [],
   "source": [
    "fault_model = RsqSimMultiFault.read_fault_file_bruce(os.path.join(script_dir, fault_dir, \"zfault_Deepen.in\"),\n",
    "                                                     os.path.join(script_dir, fault_dir, \"znames_Deepen.in\"),\n",
    "                                                     transform_from_utm=True)\n",
    "whole_catalogue = RsqSimCatalogue.from_catalogue_file_and_lists(os.path.join(catalogue_dir, \"eqs..out\"),\n",
    "                                                                list_file_directory=catalogue_dir, list_file_prefix=\"catalog\")"
   ],
   "metadata": {
    "collapsed": false,
    "pycharm": {
     "name": "#%%\n"
    }
   }
  },
  {
   "cell_type": "markdown",
   "source": [
    "Remove first 2e12s"
   ],
   "metadata": {
    "collapsed": false,
    "pycharm": {
     "name": "#%% md\n"
    }
   }
  },
  {
   "cell_type": "code",
   "execution_count": 7,
   "outputs": [],
   "source": [
    "no_spin_up_cat=whole_catalogue.filter_whole_catalogue(min_t0=2.0e12)"
   ],
   "metadata": {
    "collapsed": false,
    "pycharm": {
     "name": "#%%\n"
    }
   }
  },
  {
   "cell_type": "markdown",
   "source": [
    "Select faults of interest (the possible fault names can be listed using fault_model.names)"
   ],
   "metadata": {
    "collapsed": false,
    "pycharm": {
     "name": "#%% md\n"
    }
   }
  },
  {
   "cell_type": "code",
   "execution_count": 23,
   "outputs": [],
   "source": [
    "#e.g. single fault\n",
    "faultName=\"alpinef2k\"\n",
    "fault_selection1=RsqSimMultiFault([fault_model.name_dic[faultName]])\n",
    "#e.g. all faults with a particular string in the name\n",
    "baseFault=\"hope\"\n",
    "faults2select = [name for name in fault_model.names if fnmatch.fnmatch(name, baseFault+\"*\")]\n",
    "fault_selection2=RsqSimMultiFault([fault_model.name_dic[name] for name in faults2select])\n",
    "#e.g. a list of faults\n",
    "faultNames=[\"fidget\",\"jorkekneed\",\"clarencene\"]\n",
    "fault_selection3=RsqSimMultiFault([fault_model.name_dic[name] for name in faultNames])\n",
    "\n",
    "#check these have worked correctly\n",
    "#fault_selection1.names"
   ],
   "metadata": {
    "collapsed": false,
    "pycharm": {
     "name": "#%%\n"
    }
   }
  },
  {
   "cell_type": "markdown",
   "source": [
    "Extract events on these faults."
   ],
   "metadata": {
    "collapsed": false,
    "pycharm": {
     "name": "#%% md\n"
    }
   }
  },
  {
   "cell_type": "code",
   "execution_count": 36,
   "outputs": [],
   "source": [
    "event_selection1=no_spin_up_cat.filter_by_fault(fault_selection1, minimum_patches_per_fault=1)\n",
    "event_selection2=no_spin_up_cat.filter_by_fault(fault_selection2, minimum_patches_per_fault=1)\n",
    "event_selection3=no_spin_up_cat.filter_by_fault(fault_selection3, minimum_patches_per_fault=1)"
   ],
   "metadata": {
    "collapsed": false,
    "pycharm": {
     "name": "#%%\n"
    }
   }
  },
  {
   "cell_type": "markdown",
   "source": [
    "Write out to new catalogues."
   ],
   "metadata": {
    "collapsed": false,
    "pycharm": {
     "name": "#%% md\n"
    }
   }
  },
  {
   "cell_type": "code",
   "execution_count": 37,
   "outputs": [
    {
     "name": "stdout",
     "output_type": "stream",
     "text": [
      "writing\n",
      "writing\n",
      "writing\n"
     ]
    }
   ],
   "source": [
    "#first make sure output directory exists\n",
    "if not os.path.exists(outdir):\n",
    "    os.mkdir(outdir)\n",
    "\n",
    "#write out\n",
    "event_selection1.write_csv_and_arrays(prefix=faultName,directory=outdir)\n",
    "event_selection2.write_csv_and_arrays(prefix=baseFault+\"_all\",directory=outdir)\n",
    "#might want to change naming convention here especially for a long list\n",
    "#currently just concatenates all list elements to get prefix\n",
    "event_selection3.write_csv_and_arrays(prefix=''.join(faultNames[:]),directory=outdir)"
   ],
   "metadata": {
    "collapsed": false,
    "pycharm": {
     "name": "#%%\n"
    }
   }
  },
  {
   "cell_type": "markdown",
   "source": [
    "Example of how to read one of these catalogues back in:"
   ],
   "metadata": {
    "collapsed": false,
    "pycharm": {
     "name": "#%% md\n"
    }
   }
  },
  {
   "cell_type": "code",
   "execution_count": 38,
   "outputs": [],
   "source": [
    "alp_cat=RsqSimCatalogue.from_csv_and_arrays(prefix=os.path.join(outdir,faultName))"
   ],
   "metadata": {
    "collapsed": false,
    "pycharm": {
     "name": "#%%\n"
    }
   }
  }
 ],
 "metadata": {
  "kernelspec": {
   "display_name": "Python 3",
   "language": "python",
   "name": "python3"
  },
  "language_info": {
   "codemirror_mode": {
    "name": "ipython",
    "version": 2
   },
   "file_extension": ".py",
   "mimetype": "text/x-python",
   "name": "python",
   "nbconvert_exporter": "python",
   "pygments_lexer": "ipython2",
   "version": "2.7.6"
  }
 },
 "nbformat": 4,
 "nbformat_minor": 0
}