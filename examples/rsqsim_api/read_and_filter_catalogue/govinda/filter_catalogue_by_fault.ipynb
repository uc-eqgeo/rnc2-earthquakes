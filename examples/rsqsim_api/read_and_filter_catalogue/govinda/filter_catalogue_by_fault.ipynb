{
 "cells": [
  {
   "cell_type": "code",
   "execution_count": 1,
   "id": "78eff10a",
   "metadata": {},
   "outputs": [],
   "source": [
    "from rsqsim_api.catalogue.catalogue import RsqSimCatalogue\n",
    "from rsqsim_api.fault.multifault import RsqSimMultiFault\n",
    "import fnmatch\n",
    "import os\n",
    "run_dir = os.path.abspath(\"\")"
   ]
  },
  {
   "cell_type": "markdown",
   "id": "bbf516f5",
   "metadata": {},
   "source": [
    "Read in fault model and catalogue.\n",
    "Bruce's fault files are quite large and can be downloaded from https://github.com/uc-eqgeo/rnc2-data/tree/main/bruce/faults"
   ]
  },
  {
   "cell_type": "code",
   "execution_count": 2,
   "id": "445e9556",
   "metadata": {},
   "outputs": [],
   "source": [
    "catalogue = RsqSimCatalogue.from_csv_and_arrays(os.path.join(run_dir, \"../../../../data/bruce_m7/bruce_m7_10kyr\"))\n",
    "bruce_faults = RsqSimMultiFault.read_fault_file_bruce(os.path.join(run_dir, \"../../../../data/bruce_m7/bruce_faults.in\"),\n",
    "                                                      os.path.join(run_dir, \"../../../../data/bruce_m7/bruce_names.in\"),\n",
    "                                                      transform_from_utm=True)"
   ]
  },
  {
   "cell_type": "markdown",
   "id": "4db131cb",
   "metadata": {},
   "source": [
    "Find segments of interest (for alpine fault in this case). Names of faults in bruce's model are in `bruce_fault_names.txt` in this directory."
   ]
  },
  {
   "cell_type": "code",
   "execution_count": 3,
   "id": "f37edb54",
   "metadata": {},
   "outputs": [],
   "source": [
    "alpine_fault_segments = [fault for fault in bruce_faults.faults if fnmatch.fnmatch(fault.name, \"alpine*\")]\n",
    "alpine_only = catalogue.filter_by_fault(alpine_fault_segments)"
   ]
  },
  {
   "cell_type": "markdown",
   "id": "95cda56b",
   "metadata": {},
   "source": [
    "Save catalogue using pandas to_csv"
   ]
  },
  {
   "cell_type": "code",
   "execution_count": 4,
   "id": "9c0b8c07",
   "metadata": {},
   "outputs": [],
   "source": [
    "alpine_only.catalogue_df.to_csv(\"alpine_cat.csv\")"
   ]
  },
  {
   "cell_type": "code",
   "execution_count": null,
   "id": "724d9376",
   "metadata": {},
   "outputs": [],
   "source": []
  }
 ],
 "metadata": {
  "jupytext": {
   "cell_metadata_filter": "-all",
   "main_language": "python",
   "notebook_metadata_filter": "-all"
  },
  "kernelspec": {
   "display_name": "Python 3",
   "language": "python",
   "name": "python3"
  },
  "language_info": {
   "codemirror_mode": {
    "name": "ipython",
    "version": 3
   },
   "file_extension": ".py",
   "mimetype": "text/x-python",
   "name": "python",
   "nbconvert_exporter": "python",
   "pygments_lexer": "ipython3",
   "version": "3.7.10"
  }
 },
 "nbformat": 4,
 "nbformat_minor": 5
}
