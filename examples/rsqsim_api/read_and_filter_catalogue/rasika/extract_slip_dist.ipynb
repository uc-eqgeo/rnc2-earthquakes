{
 "cells": [
  {
   "cell_type": "code",
   "execution_count": null,
   "id": "bed390fc",
   "metadata": {},
   "outputs": [],
   "source": [
    "from rsqsim_api.catalogue.catalogue import RsqSimCatalogue\n",
    "from rsqsim_api.fault.multifault import RsqSimMultiFault\n",
    "import os\n",
    "run_dir = os.path.dirname(__file__)"
   ]
  },
  {
   "cell_type": "markdown",
   "id": "95541d64",
   "metadata": {},
   "source": [
    "Read in fault model and catalogue.\n",
    "Bruce's fault files are quite large and can be downloaded from https://github.com/uc-eqgeo/rnc2-data/tree/main/bruce/faults"
   ]
  },
  {
   "cell_type": "code",
   "execution_count": null,
   "id": "2c8aa211",
   "metadata": {},
   "outputs": [],
   "source": [
    "catalogue = RsqSimCatalogue.from_csv_and_arrays(os.path.join(run_dir, \"../../../../data/bruce_m7/bruce_m7_10kyr\"))\n",
    "bruce_faults = RsqSimMultiFault.read_fault_file_bruce(os.path.join(run_dir, \"../../../../data/bruce_m7/bruce_faults.in\"),\n",
    "                                                      os.path.join(run_dir, \"../../../../data/bruce_m7/bruce_names.in\"),\n",
    "                                                      transform_from_utm=True)"
   ]
  },
  {
   "cell_type": "markdown",
   "id": "86c8fb82",
   "metadata": {},
   "source": [
    "Extract list of first 50 events in catalogue"
   ]
  },
  {
   "cell_type": "code",
   "execution_count": null,
   "id": "6302d591",
   "metadata": {},
   "outputs": [],
   "source": [
    "events = catalogue.first_n_events(50, bruce_faults)"
   ]
  },
  {
   "cell_type": "markdown",
   "id": "cc267a3a",
   "metadata": {},
   "source": [
    "Create directory to hold output files"
   ]
  },
  {
   "cell_type": "code",
   "execution_count": null,
   "id": "d26b6b92",
   "metadata": {},
   "outputs": [],
   "source": [
    "if not os.path.exists(\"slip\"):\n",
    "    os.mkdir(\"slip\")"
   ]
  },
  {
   "cell_type": "markdown",
   "id": "9f593bf1",
   "metadata": {},
   "source": [
    "For each event, create text file with slip distribution and plot image"
   ]
  },
  {
   "cell_type": "code",
   "execution_count": null,
   "id": "87bbb4d0",
   "metadata": {
    "lines_to_next_cell": 2
   },
   "outputs": [],
   "source": [
    "for i, event in enumerate(events):\n",
    "    event.slip_dist_to_txt(f\"slip/event{i}.txt\")\n",
    "    event.plot_slip_2d(show=False, write=f\"slip/event{i}.png\")"
   ]
  }
 ],
 "metadata": {
  "jupytext": {
   "cell_metadata_filter": "-all",
   "main_language": "python",
   "notebook_metadata_filter": "-all"
  },
  "kernelspec": {
   "display_name": "Python 3",
   "language": "python",
   "name": "python3"
  },
  "language_info": {
   "codemirror_mode": {
    "name": "ipython",
    "version": 3
   },
   "file_extension": ".py",
   "mimetype": "text/x-python",
   "name": "python",
   "nbconvert_exporter": "python",
   "pygments_lexer": "ipython3",
   "version": "3.7.10"
  }
 },
 "nbformat": 4,
 "nbformat_minor": 5
}
