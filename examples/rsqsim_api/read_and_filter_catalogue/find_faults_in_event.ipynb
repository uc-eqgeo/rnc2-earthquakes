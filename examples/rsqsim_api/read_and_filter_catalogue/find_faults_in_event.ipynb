{
 "cells": [
  {
   "cell_type": "code",
   "execution_count": 44,
   "outputs": [],
   "source": [
    "from rsqsim_api.fault.multifault import RsqSimMultiFault\n",
    "import shutil\n",
    "from rsqsim_api.catalogue.catalogue import RsqSimCatalogue\n",
    "import os\n",
    "import numpy as np\n",
    "import pandas as pd\n",
    "\n",
    "seconds_per_year = 31557600.0"
   ],
   "metadata": {
    "collapsed": false,
    "pycharm": {
     "name": "#%%\n"
    }
   }
  },
  {
   "cell_type": "code",
   "execution_count": 2,
   "outputs": [],
   "source": [
    "# # Tell python where field paths etc are relative to\n",
    "script_dir = os.path.abspath('')\n",
    "fault_dir = \"../../../data/shaw2021/rundir5091\"\n",
    "catalogue_dir = fault_dir"
   ],
   "metadata": {
    "collapsed": false,
    "pycharm": {
     "name": "#%%\n"
    }
   }
  },
  {
   "cell_type": "code",
   "execution_count": 3,
   "outputs": [],
   "source": [
    "fault_model = RsqSimMultiFault.read_fault_file_bruce(os.path.join(script_dir, fault_dir, \"zfault_Deepen.in\"),\n",
    "                                                     os.path.join(script_dir, fault_dir, \"znames_Deepen.in\"),\n",
    "                                                     transform_from_utm=True)\n",
    "whole_catalogue = RsqSimCatalogue.from_catalogue_file_and_lists(os.path.join(catalogue_dir, \"eqs..out\"),\n",
    "                                                                list_file_directory=catalogue_dir, list_file_prefix=\"catalog\")\n"
   ],
   "metadata": {
    "collapsed": false,
    "pycharm": {
     "name": "#%%\n"
    }
   }
  },
  {
   "cell_type": "code",
   "execution_count": 4,
   "outputs": [],
   "source": [
    "# identify multifault events\n",
    "multifault=[ev for ev in whole_catalogue.all_events(fault_model) if ev.num_faults > 1]"
   ],
   "metadata": {
    "collapsed": false,
    "pycharm": {
     "name": "#%%\n"
    }
   }
  },
  {
   "cell_type": "code",
   "execution_count": 5,
   "outputs": [],
   "source": [
    "#catalogue info\n",
    "nevents=len(whole_catalogue.event_list)\n",
    "timeSpan=(np.max(whole_catalogue.patch_time_list) - np.min (whole_catalogue.patch_time_list))/seconds_per_year\n",
    "nmultifault=len(multifault)\n",
    "prop_multifault=nmultifault/nevents"
   ],
   "metadata": {
    "collapsed": false,
    "pycharm": {
     "name": "#%%\n"
    }
   }
  },
  {
   "cell_type": "code",
   "execution_count": 126,
   "outputs": [],
   "source": [
    "#create dictionary of faults in each multifault event\n",
    "\n",
    "#minimulti=multifault[10:100]\n",
    "fault_dic={}\n",
    "i=0\n",
    "#for ev in minimulti:\n",
    "for ev in multifault:\n",
    "    ev_faults=fault_model.filter_faults_by_patch_numbers(ev.patch_numbers)\n",
    "    ev_fault_names=ev_faults.names\n",
    "    fault_dic[i]=(ev.event_id,ev,len(ev_fault_names),ev_fault_names)\n",
    "    i=i+1\n",
    "multifault_db=pd.DataFrame.from_dict(fault_dic,orient='index',columns=('Event_id','Event','N_faults','Fault_names'))"
   ],
   "metadata": {
    "collapsed": false,
    "pycharm": {
     "name": "#%%\n"
    }
   }
  },
  {
   "cell_type": "code",
   "execution_count": 127,
   "outputs": [],
   "source": [
    "#sort by number of faults involved\n",
    "multifault_db.sort_values(by=['N_faults'],axis=0,inplace=True)"
   ],
   "metadata": {
    "collapsed": false,
    "pycharm": {
     "name": "#%%\n"
    }
   }
  },
  {
   "cell_type": "code",
   "execution_count": 128,
   "outputs": [],
   "source": [
    "# example of search for events with constraints on numbers of faults\n",
    "two_faults=multifault_db.loc[multifault_db['N_faults']==2]\n",
    "more_faults=multifault_db.loc[multifault_db['N_faults']>5]\n",
    "most_faults=multifault_db.loc[multifault_db['N_faults']==np.max(multifault_db['N_faults'])]"
   ],
   "metadata": {
    "collapsed": false,
    "pycharm": {
     "name": "#%%\n"
    }
   }
  },
  {
   "cell_type": "code",
   "execution_count": 129,
   "outputs": [],
   "source": [
    "#find all multifault events including a specific fault e.g. hundalee (alpiner is a good test because have lots of these)\n",
    "faultName='hundalee'\n",
    "#access list of lists of fault names\n",
    "fault_list=[multifault_db['Fault_names'].values[i] for i in np.arange(0,len(multifault_db['Fault_names'].values))]\n",
    "#find the instances which contain the fault of interest\n",
    "fault_events=[fault_list[i] for i in np.where([faultName in fault_list[j] for j in np.arange(0,len(fault_list))])[0]]"
   ],
   "metadata": {
    "collapsed": false,
    "pycharm": {
     "name": "#%%\n"
    }
   }
  },
  {
   "cell_type": "code",
   "execution_count": 130,
   "outputs": [
    {
     "data": {
      "text/plain": "627"
     },
     "execution_count": 130,
     "metadata": {},
     "output_type": "execute_result"
    }
   ],
   "source": [
    "len(fault_events)"
   ],
   "metadata": {
    "collapsed": false,
    "pycharm": {
     "name": "#%%\n"
    }
   }
  },
  {
   "cell_type": "code",
   "execution_count": null,
   "outputs": [],
   "source": [],
   "metadata": {
    "collapsed": false,
    "pycharm": {
     "name": "#%%\n"
    }
   }
  }
 ],
 "metadata": {
  "kernelspec": {
   "display_name": "Python 3",
   "language": "python",
   "name": "python3"
  },
  "language_info": {
   "codemirror_mode": {
    "name": "ipython",
    "version": 2
   },
   "file_extension": ".py",
   "mimetype": "text/x-python",
   "name": "python",
   "nbconvert_exporter": "python",
   "pygments_lexer": "ipython2",
   "version": "2.7.6"
  }
 },
 "nbformat": 4,
 "nbformat_minor": 0
}