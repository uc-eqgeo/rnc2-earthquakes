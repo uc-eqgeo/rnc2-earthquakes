{
 "cells": [
  {
   "cell_type": "code",
   "execution_count": 1,
   "id": "6114c46b",
   "metadata": {},
   "outputs": [],
   "source": [
    "from rsqsim_api.catalogue.catalogue import RsqSimCatalogue\n",
    "from rsqsim_api.fault.multifault import RsqSimMultiFault\n",
    "import os\n",
    "run_dir = os.path.abspath(\"\")"
   ]
  },
  {
   "cell_type": "markdown",
   "id": "905005e8",
   "metadata": {},
   "source": [
    "Read in fault and catalogue"
   ]
  },
  {
   "cell_type": "code",
   "execution_count": 3,
   "id": "f18066f2",
   "metadata": {},
   "outputs": [],
   "source": [
    "catalogue = RsqSimCatalogue.from_catalogue_file_and_lists(os.path.join(run_dir, \"../../../../data/stratos/eqs.10depth_2-5sep_5over_breached.out\"),\n",
    "                                                          os.path.join(run_dir, \"../../../../data/stratos\"),\n",
    "                                                          \"10depth_2-5sep_5over_breached\")\n",
    "faults = RsqSimMultiFault.read_fault_file_keith(os.path.join(run_dir, \"../../../../data/stratos/10depth_2-5sep_5over_breached_segment1.flt\"))"
   ]
  },
  {
   "cell_type": "markdown",
   "id": "3337b2dd",
   "metadata": {},
   "source": [
    "Plot VTKs for viewing in paraview"
   ]
  },
  {
   "cell_type": "code",
   "execution_count": 5,
   "id": "a814fefe",
   "metadata": {},
   "outputs": [],
   "source": [
    "events = catalogue.first_n_events(300, faults)\n",
    "for i, e in enumerate(events):\n",
    "    e.slip_dist_to_vtk(f\"test{i:03}.vtk\")"
   ]
  },
  {
   "cell_type": "code",
   "execution_count": null,
   "id": "76414eae",
   "metadata": {},
   "outputs": [],
   "source": []
  }
 ],
 "metadata": {
  "jupytext": {
   "cell_metadata_filter": "-all",
   "main_language": "python",
   "notebook_metadata_filter": "-all"
  },
  "kernelspec": {
   "display_name": "Python 3",
   "language": "python",
   "name": "python3"
  },
  "language_info": {
   "codemirror_mode": {
    "name": "ipython",
    "version": 3
   },
   "file_extension": ".py",
   "mimetype": "text/x-python",
   "name": "python",
   "nbconvert_exporter": "python",
   "pygments_lexer": "ipython3",
   "version": "3.7.10"
  }
 },
 "nbformat": 4,
 "nbformat_minor": 5
}
