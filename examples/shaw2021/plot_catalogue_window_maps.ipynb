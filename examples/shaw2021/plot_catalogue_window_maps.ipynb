{
 "cells": [
  {
   "cell_type": "markdown",
   "id": "108f5069",
   "metadata": {},
   "source": [
    "# Windowed plotting (location/mag)\n",
    "\n",
    "Script to plot locations and magnitudes of events in a time window of the catalogue.\n",
    "\n",
    "Makes figures like 2a-b and 3b-f of Shaw et al., 2021\n",
    "\n"
   ]
  },
  {
   "cell_type": "markdown",
   "id": "e61c7ff0",
   "metadata": {},
   "source": [
    "Import required modules and specify plotting font/font sizes"
   ]
  },
  {
   "cell_type": "code",
   "execution_count": 1,
   "id": "04bcabb3",
   "metadata": {},
   "outputs": [],
   "source": [
    "import os\n",
    "import pandas as pd\n",
    "\n",
    "import geopandas as gpd\n",
    "from matplotlib import pyplot as plt\n",
    "import matplotlib as mpl\n",
    "import numpy as np\n",
    "\n",
    "from rsqsim_api.fault.multifault import RsqSimMultiFault\n",
    "from rsqsim_api.catalogue.catalogue import RsqSimCatalogue\n",
    "from rsqsim_api.visualisation.utilities import plot_coast, format_label_text_wgs\n",
    "\n",
    "# Plotting parameters\n",
    "\n",
    "params = {'axes.labelsize': 12,\n",
    "          'axes.titlesize': 12,\n",
    "          'xtick.labelsize': 12,\n",
    "          'ytick.labelsize': 12,\n",
    "          'font.family': 'serif',\n",
    "          'font.serif': \"CMU Serif\",\n",
    "          'font.size': 12,\n",
    "          'xtick.direction': \"in\",\n",
    "          'ytick.direction': 'in',\n",
    "          'xtick.top': True,\n",
    "          'ytick.right': True\n",
    "          }\n",
    "mpl.rcParams.update(params)\n"
   ]
  },
  {
   "cell_type": "markdown",
   "id": "a9ac360a",
   "metadata": {},
   "source": [
    "Specify data location and read in catalogue\n",
    "\n",
    "Note that the `reproject` argument uses EPSG codes. As the data are read in, they are reprojected from UTM Zone 59S to WGS84 LonLat."
   ]
  },
  {
   "cell_type": "code",
   "execution_count": 2,
   "id": "65718461",
   "metadata": {},
   "outputs": [],
   "source": [
    "# Location of catalogue relative to current working directory\n",
    "catalogue_file = \"../../data/shaw2021/nzcatalogue.csv\"\n",
    "\n",
    "# Catalogue data are in seconds, but desirable to plot in years\n",
    "seconds_per_year = 31557600.0\n",
    "\n",
    "\n",
    "# Boundaries of plot\n",
    "x1 = 160.\n",
    "x2 = 185.\n",
    "y1 = -51.\n",
    "y2 = -33.001\n",
    "\n",
    "# Read in catalogue (include reproject data to lonlat)\n",
    "whole_catalogue = RsqSimCatalogue.from_catalogue_file(catalogue_file, reproject=[32759, 4326])"
   ]
  },
  {
   "cell_type": "markdown",
   "id": "81aee2d7",
   "metadata": {},
   "source": [
    "Create and save the plots"
   ]
  },
  {
   "cell_type": "code",
   "execution_count": 3,
   "id": "0cb327a3",
   "metadata": {},
   "outputs": [
    {
     "data": {
      "image/png": "[encoded data removed]",
      "text/plain": [
       "<Figure size 432x288 with 2 Axes>"
      ]
     },
     "metadata": {
      "needs_background": "light"
     },
     "output_type": "display_data"
    }
   ],
   "source": [
    "# Example of 80 year window\n",
    "window_length = 80. * seconds_per_year\n",
    "\n",
    "# If directory to save files does not exist, create it\n",
    "if not os.path.exists(\"windows80\"):\n",
    "    os.mkdir(\"windows80\")\n",
    "\n",
    "# Make 10 plots to show variation in catalogue\n",
    "for i in range(10):\n",
    "    plt.close(\"all\")\n",
    "    # Start plots at 1.e12 seconds\n",
    "    tmin = 1.e12 + i * window_length\n",
    "    # End of window\n",
    "    tmax = tmin + window_length\n",
    "    \n",
    "    # Extract catalogue for time window of interest\n",
    "    windowed_df = whole_catalogue.filter_df(min_t0=tmin, max_t0=tmax)\n",
    "    \n",
    "    # Create figure object\n",
    "    fig, ax = plt.subplots()\n",
    "    \n",
    "    cmap = ax.scatter(windowed_df.x, windowed_df.y, marker='o', \n",
    "                      s=windowed_df.area/1.e7,  # Size scaling is by rupture area \n",
    "                      c=windowed_df.mw,  # Colour scaling by magnitude\n",
    "                      cmap=\"Reds\", vmin=4, vmax=9.3)\n",
    "\n",
    "    # Plot coastline\n",
    "    plot_coast(ax=ax, edgecolor=\"k\", wgs=True, coarse=True)\n",
    "    \n",
    "    # Trim plot to area of interest\n",
    "    ax.set_xlim(([x1, x2]))\n",
    "    ax.set_ylim(([y1, y2]))\n",
    "    \n",
    "    # Make labelling prettier (and add degree symbols)\n",
    "    format_label_text_wgs(ax, xspacing=4, yspacing=2)\n",
    "    \n",
    "    # Tick intervals on colorbar\n",
    "    cbar_ticks = np.arange(4, 9.3, 0.5)\n",
    "    \n",
    "    # Make colorbar\n",
    "    colorbar = plt.colorbar(cmap, ax=ax, ticks=cbar_ticks)\n",
    "    colorbar.ax.set_title(\"$M_W$\")\n",
    "    \n",
    "    # Save plots\n",
    "    plt.savefig(f\"windows80/window{i}_80year.png\")"
   ]
  },
  {
   "cell_type": "code",
   "execution_count": null,
   "id": "c29e4c05",
   "metadata": {},
   "outputs": [],
   "source": []
  }
 ],
 "metadata": {
  "kernelspec": {
   "display_name": "Python 3 (ipykernel)",
   "language": "python",
   "name": "python3"
  },
  "language_info": {
   "codemirror_mode": {
    "name": "ipython",
    "version": 3
   },
   "file_extension": ".py",
   "mimetype": "text/x-python",
   "name": "python",
   "nbconvert_exporter": "python",
   "pygments_lexer": "ipython3",
   "version": "3.8.10"
  }
 },
 "nbformat": 4,
 "nbformat_minor": 5
}
