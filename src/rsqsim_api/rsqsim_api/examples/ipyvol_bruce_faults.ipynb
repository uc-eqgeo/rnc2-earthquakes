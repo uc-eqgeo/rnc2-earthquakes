{
 "cells": [
  {
   "cell_type": "code",
   "execution_count": 1,
   "metadata": {},
   "outputs": [],
   "source": [
    "import numpy as np\n",
    "import ipyvolume as ipv\n",
    "from rsqsim_api.containers.fault import RsqSimMultiFault\n",
    "from rsqsim_api.containers.catalogue import RsqSimCatalogue\n",
    "import os"
   ]
  },
  {
   "cell_type": "code",
   "execution_count": 2,
   "metadata": {},
   "outputs": [],
   "source": [
    "run_dir = \"/Users/arh79/PycharmProjects/rnc2/bruce/rundir4627\"\n",
    "\n",
    "bruce_faults = RsqSimMultiFault.read_fault_file_bruce(os.path.join(run_dir,\"zfault_Deepen.in\"),\n",
    "                                                      os.path.join(run_dir,\"znames_Deepen.in\"))\n",
    "\n",
    "catalogue = RsqSimCatalogue.from_catalogue_file_and_lists(os.path.join(run_dir, \"eqs..out\"),\n",
    "                                                          run_dir, \"rundir4627\")"
   ]
  },
  {
   "cell_type": "code",
   "execution_count": 3,
   "metadata": {},
   "outputs": [
    {
     "data": {
      "text/plain": [
       "528"
      ]
     },
     "execution_count": 3,
     "metadata": {},
     "output_type": "execute_result"
    }
   ],
   "source": [
    "len(bruce_faults.faults)\n"
   ]
  },
  {
   "cell_type": "code",
   "execution_count": 4,
   "metadata": {},
   "outputs": [
    {
     "data": {
      "application/vnd.jupyter.widget-view+json": {
       "model_id": "0f519f7822f64d1dbacf16e83c842376",
       "version_major": 2,
       "version_minor": 0
      },
      "text/plain": [
       "VBox(children=(Figure(camera=PerspectiveCamera(fov=46.0, position=(0.0, 0.0, 2.0), quaternion=(0.0, 0.0, 0.0, …"
      ]
     },
     "metadata": {},
     "output_type": "display_data"
    }
   ],
   "source": [
    "ipv.figure()\n",
    "ipv.style.axes_off()\n",
    "ipv.style.box_off()\n",
    "plot_dic = {}\n",
    "all_max = []\n",
    "all_min = []\n",
    "for fault in bruce_faults.faults:\n",
    "    x, y, z = [fault.vertices[:, i] for i in range(3)]\n",
    "    plot_dic[fault.name] = ipv.plot_trisurf(x, y, z, lines=fault.edge_lines, color='black')\n",
    "    all_max.append(np.max(fault.vertices, axis=0))\n",
    "    all_min.append(np.min(fault.vertices, axis=0))\n",
    "\n",
    "all_max_array = np.max(np.array(all_max), axis=0)\n",
    "all_min_array = np.min(np.array(all_min), axis=0)\n",
    "ipv.xlim(all_min_array[0], all_max_array[0])\n",
    "ipv.ylim(all_min_array[1], all_max_array[1])\n",
    "ipv.zlim(all_min_array[2], all_max_array[2])\n",
    "ipv.squarelim()\n",
    "ipv.show()"
   ]
  },
  {
   "cell_type": "code",
   "execution_count": null,
   "metadata": {},
   "outputs": [],
   "source": []
  }
 ],
 "metadata": {
  "kernelspec": {
   "display_name": "Python 3",
   "language": "python",
   "name": "python3"
  },
  "language_info": {
   "codemirror_mode": {
    "name": "ipython",
    "version": 3
   },
   "file_extension": ".py",
   "mimetype": "text/x-python",
   "name": "python",
   "nbconvert_exporter": "python",
   "pygments_lexer": "ipython3",
   "version": "3.8.5"
  }
 },
 "nbformat": 4,
 "nbformat_minor": 4
}
